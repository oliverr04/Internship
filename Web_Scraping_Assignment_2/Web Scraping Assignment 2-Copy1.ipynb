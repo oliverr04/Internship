{
 "cells": [
  {
   "cell_type": "markdown",
   "id": "1de17d7e",
   "metadata": {},
   "source": [
    "# Web Scraping - Assignment 2"
   ]
  },
  {
   "cell_type": "markdown",
   "id": "bfa298bd",
   "metadata": {},
   "source": [
    "Q1."
   ]
  },
  {
   "cell_type": "code",
   "execution_count": 1,
   "id": "6075c153",
   "metadata": {},
   "outputs": [],
   "source": [
    "import selenium\n",
    "import pandas as pd\n",
    "from selenium import webdriver\n",
    "import warnings\n",
    "warnings.filterwarnings(\"ignore\")\n",
    "import time"
   ]
  },
  {
   "cell_type": "code",
   "execution_count": 2,
   "id": "9c95ae44",
   "metadata": {},
   "outputs": [],
   "source": [
    "driver_1=webdriver.Chrome(r\"C:\\Users\\user\\Downloads\\chromedriver_win32\\chromedriver.exe\")"
   ]
  },
  {
   "cell_type": "code",
   "execution_count": 3,
   "id": "fdf20d95",
   "metadata": {},
   "outputs": [],
   "source": [
    "driver_1.get('https://www.naukri.com/')"
   ]
  },
  {
   "cell_type": "code",
   "execution_count": 4,
   "id": "5f4a194d",
   "metadata": {},
   "outputs": [],
   "source": [
    "search_field_designation_da=driver_1.find_element_by_class_name(\"suggestor-input \")\n",
    "search_field_designation_da.send_keys(\"Data Analyst\")\n",
    "search_field_location_da=driver_1.find_element_by_xpath('/html/body/div/div[2]/div[3]/div/div/div[3]/div/div/div/input')\n",
    "search_field_location_da.send_keys(\"Bangalore\")"
   ]
  },
  {
   "cell_type": "code",
   "execution_count": 5,
   "id": "88e92a23",
   "metadata": {},
   "outputs": [],
   "source": [
    "search_button_da=driver_1.find_element_by_xpath('/html/body/div/div[2]/div[3]/div/div/div[6]')\n",
    "search_button_da.click()"
   ]
  },
  {
   "cell_type": "code",
   "execution_count": 6,
   "id": "cf385221",
   "metadata": {},
   "outputs": [],
   "source": [
    "url_1='https://www.naukri.com/data-analyst-jobs-in-bangalore?k=data%20analyst&l=bangalore'"
   ]
  },
  {
   "cell_type": "code",
   "execution_count": 7,
   "id": "eef652b1",
   "metadata": {},
   "outputs": [],
   "source": [
    "driver_1.get(url_1)"
   ]
  },
  {
   "cell_type": "code",
   "execution_count": 8,
   "id": "639ea57a",
   "metadata": {},
   "outputs": [],
   "source": [
    "job_titles_da=[]\n",
    "locations_list_da=[]\n",
    "company_names_da=[]\n",
    "experience_list_da=[]"
   ]
  },
  {
   "cell_type": "code",
   "execution_count": 9,
   "id": "758da641",
   "metadata": {},
   "outputs": [
    {
     "data": {
      "text/plain": [
       "[<selenium.webdriver.remote.webelement.WebElement (session=\"36d5809c30c6ed04d58ee2dce1880c75\", element=\"6ea47996-7cf5-4388-806f-9f2fb5044baa\")>,\n",
       " <selenium.webdriver.remote.webelement.WebElement (session=\"36d5809c30c6ed04d58ee2dce1880c75\", element=\"f1ed5c96-bad0-4231-82f8-06bffb316f29\")>,\n",
       " <selenium.webdriver.remote.webelement.WebElement (session=\"36d5809c30c6ed04d58ee2dce1880c75\", element=\"ddbd205f-bd3c-41d9-9788-ddcf9dfdea5d\")>,\n",
       " <selenium.webdriver.remote.webelement.WebElement (session=\"36d5809c30c6ed04d58ee2dce1880c75\", element=\"8b39b05c-8cf4-4441-9e11-14db00fdfceb\")>,\n",
       " <selenium.webdriver.remote.webelement.WebElement (session=\"36d5809c30c6ed04d58ee2dce1880c75\", element=\"c89e1b07-cb48-4abd-8c4b-a7c9660fa077\")>,\n",
       " <selenium.webdriver.remote.webelement.WebElement (session=\"36d5809c30c6ed04d58ee2dce1880c75\", element=\"9bc198cb-d818-47d1-821c-47c2fd483877\")>,\n",
       " <selenium.webdriver.remote.webelement.WebElement (session=\"36d5809c30c6ed04d58ee2dce1880c75\", element=\"226e4bab-694b-4aa9-b7f2-225e8656a002\")>,\n",
       " <selenium.webdriver.remote.webelement.WebElement (session=\"36d5809c30c6ed04d58ee2dce1880c75\", element=\"3f32716a-b7f2-4890-bd5b-aed8d1fb6dc2\")>,\n",
       " <selenium.webdriver.remote.webelement.WebElement (session=\"36d5809c30c6ed04d58ee2dce1880c75\", element=\"23a030db-36b0-4bf3-b413-a7b680200e8a\")>,\n",
       " <selenium.webdriver.remote.webelement.WebElement (session=\"36d5809c30c6ed04d58ee2dce1880c75\", element=\"b6cc06f9-6f37-41c5-8d6b-21640e53ca8b\")>]"
      ]
     },
     "execution_count": 9,
     "metadata": {},
     "output_type": "execute_result"
    }
   ],
   "source": [
    "titles_tags_da=driver_1.find_elements_by_xpath('//a[@class=\"title fw500 ellipsis\"]')\n",
    "titles_tags_da[0:10]"
   ]
  },
  {
   "cell_type": "code",
   "execution_count": 10,
   "id": "e6518763",
   "metadata": {},
   "outputs": [
    {
     "data": {
      "text/plain": [
       "['Senior Data Analyst/ Business Analyst',\n",
       " 'Sr Domain Expert -Data Analysts',\n",
       " 'Senior Data Analyst',\n",
       " 'Senior Data Analyst',\n",
       " 'Senior Data Analyst',\n",
       " 'Senior Data Analyst (Digital Services Analytics)',\n",
       " 'Senior Data Analyst',\n",
       " 'Data Analyst',\n",
       " 'Data Analyst',\n",
       " 'Data Analyst - Platform & Security']"
      ]
     },
     "execution_count": 10,
     "metadata": {},
     "output_type": "execute_result"
    }
   ],
   "source": [
    "for i in titles_tags_da:\n",
    "    title_da=i.text\n",
    "    job_titles_da.append(title_da)\n",
    "job_titles_da[0:10]"
   ]
  },
  {
   "cell_type": "code",
   "execution_count": 12,
   "id": "e50fd8a3",
   "metadata": {},
   "outputs": [
    {
     "data": {
      "text/plain": [
       "[<selenium.webdriver.remote.webelement.WebElement (session=\"36d5809c30c6ed04d58ee2dce1880c75\", element=\"0b6b04be-1788-47ce-b8b7-6f40083073ac\")>,\n",
       " <selenium.webdriver.remote.webelement.WebElement (session=\"36d5809c30c6ed04d58ee2dce1880c75\", element=\"3b27e9b4-9c42-4956-a2f4-b7c99fc865df\")>,\n",
       " <selenium.webdriver.remote.webelement.WebElement (session=\"36d5809c30c6ed04d58ee2dce1880c75\", element=\"47516842-2d5a-4a44-8978-7a9637079b03\")>,\n",
       " <selenium.webdriver.remote.webelement.WebElement (session=\"36d5809c30c6ed04d58ee2dce1880c75\", element=\"8cd63751-996e-4399-8d5b-7df7345edc46\")>,\n",
       " <selenium.webdriver.remote.webelement.WebElement (session=\"36d5809c30c6ed04d58ee2dce1880c75\", element=\"7e920587-73cb-4fb1-bdc5-61ed868318fe\")>,\n",
       " <selenium.webdriver.remote.webelement.WebElement (session=\"36d5809c30c6ed04d58ee2dce1880c75\", element=\"7269a922-8d65-4da2-bcbe-5444c23d7c59\")>,\n",
       " <selenium.webdriver.remote.webelement.WebElement (session=\"36d5809c30c6ed04d58ee2dce1880c75\", element=\"b5531447-faea-48c7-b6ff-55988374b135\")>,\n",
       " <selenium.webdriver.remote.webelement.WebElement (session=\"36d5809c30c6ed04d58ee2dce1880c75\", element=\"571eef0b-6d2d-4dd2-9e62-441a671c4783\")>,\n",
       " <selenium.webdriver.remote.webelement.WebElement (session=\"36d5809c30c6ed04d58ee2dce1880c75\", element=\"7de4c828-2117-4d1f-9b3e-f8c409032888\")>,\n",
       " <selenium.webdriver.remote.webelement.WebElement (session=\"36d5809c30c6ed04d58ee2dce1880c75\", element=\"b788c8ab-1564-43ca-9ca0-1a47fd6e56f6\")>]"
      ]
     },
     "execution_count": 12,
     "metadata": {},
     "output_type": "execute_result"
    }
   ],
   "source": [
    "location_tags_da=driver_1.find_elements_by_xpath('//li[@class=\"fleft grey-text br2 placeHolderLi location\"]/span[1]')\n",
    "location_tags_da[0:10]"
   ]
  },
  {
   "cell_type": "code",
   "execution_count": 13,
   "id": "5f5db72f",
   "metadata": {},
   "outputs": [
    {
     "data": {
      "text/plain": [
       "['Bangalore/Bengaluru',\n",
       " 'Bangalore/Bengaluru',\n",
       " 'Bangalore/Bengaluru',\n",
       " 'Chennai, Bangalore/Bengaluru',\n",
       " 'Bangalore/Bengaluru(Old Madras Road)',\n",
       " 'Bangalore/Bengaluru',\n",
       " 'Bangalore/Bengaluru',\n",
       " 'Bangalore/Bengaluru',\n",
       " 'Bangalore/Bengaluru',\n",
       " 'Bangalore/Bengaluru']"
      ]
     },
     "execution_count": 13,
     "metadata": {},
     "output_type": "execute_result"
    }
   ],
   "source": [
    "for i in location_tags_da:\n",
    "    location_da=i.text\n",
    "    locations_list_da.append(location_da)\n",
    "locations_list_da[0:10]"
   ]
  },
  {
   "cell_type": "code",
   "execution_count": 15,
   "id": "e4c99b1e",
   "metadata": {},
   "outputs": [
    {
     "data": {
      "text/plain": [
       "[<selenium.webdriver.remote.webelement.WebElement (session=\"36d5809c30c6ed04d58ee2dce1880c75\", element=\"fc1144fb-b0db-4e5e-a1aa-98f7bf8c87d5\")>,\n",
       " <selenium.webdriver.remote.webelement.WebElement (session=\"36d5809c30c6ed04d58ee2dce1880c75\", element=\"c2e6a0ba-7db5-46ce-b360-60ad895b56b1\")>,\n",
       " <selenium.webdriver.remote.webelement.WebElement (session=\"36d5809c30c6ed04d58ee2dce1880c75\", element=\"b6f562ca-2336-4b25-9038-65ce38d60f03\")>,\n",
       " <selenium.webdriver.remote.webelement.WebElement (session=\"36d5809c30c6ed04d58ee2dce1880c75\", element=\"51cbf0db-da4b-44b6-895d-d22221194453\")>,\n",
       " <selenium.webdriver.remote.webelement.WebElement (session=\"36d5809c30c6ed04d58ee2dce1880c75\", element=\"d376bfc0-8796-43db-8e03-f5011f3ae4e0\")>,\n",
       " <selenium.webdriver.remote.webelement.WebElement (session=\"36d5809c30c6ed04d58ee2dce1880c75\", element=\"77ef0ead-c99f-4de9-b627-2bc65f116206\")>,\n",
       " <selenium.webdriver.remote.webelement.WebElement (session=\"36d5809c30c6ed04d58ee2dce1880c75\", element=\"194a8947-d834-4da1-bde4-8ae10a15cda2\")>,\n",
       " <selenium.webdriver.remote.webelement.WebElement (session=\"36d5809c30c6ed04d58ee2dce1880c75\", element=\"5aff722a-3cf1-4bd0-a9db-e855ffbde1aa\")>,\n",
       " <selenium.webdriver.remote.webelement.WebElement (session=\"36d5809c30c6ed04d58ee2dce1880c75\", element=\"b6486412-df24-452f-a89a-31d73d04c7a3\")>,\n",
       " <selenium.webdriver.remote.webelement.WebElement (session=\"36d5809c30c6ed04d58ee2dce1880c75\", element=\"5fa445be-4198-42c2-815a-b820fbdec5de\")>]"
      ]
     },
     "execution_count": 15,
     "metadata": {},
     "output_type": "execute_result"
    }
   ],
   "source": [
    "company_tags_da=driver_1.find_elements_by_xpath('//a[@class=\"subTitle ellipsis fleft\"]')\n",
    "company_tags_da[0:10]"
   ]
  },
  {
   "cell_type": "code",
   "execution_count": 16,
   "id": "afb7ad78",
   "metadata": {},
   "outputs": [
    {
     "data": {
      "text/plain": [
       "['Rupeek',\n",
       " 'Siemens',\n",
       " 'Walmart',\n",
       " 'LatentView',\n",
       " 'FINNOVATION TECH SOLUTIONS PRIVATE LIMITED',\n",
       " 'Dell Technologies',\n",
       " 'Cerner',\n",
       " 'Myntra',\n",
       " 'Enrich talents',\n",
       " 'National Geographic']"
      ]
     },
     "execution_count": 16,
     "metadata": {},
     "output_type": "execute_result"
    }
   ],
   "source": [
    "for i in company_tags_da:\n",
    "    company_da=i.text\n",
    "    company_names_da.append(company_da)\n",
    "company_names_da[0:10]"
   ]
  },
  {
   "cell_type": "code",
   "execution_count": 17,
   "id": "88332140",
   "metadata": {},
   "outputs": [
    {
     "data": {
      "text/plain": [
       "[<selenium.webdriver.remote.webelement.WebElement (session=\"36d5809c30c6ed04d58ee2dce1880c75\", element=\"895a1805-2fea-400b-879e-d74afa86af46\")>,\n",
       " <selenium.webdriver.remote.webelement.WebElement (session=\"36d5809c30c6ed04d58ee2dce1880c75\", element=\"543b457b-665b-4b2d-94e6-9ea24c3d140a\")>,\n",
       " <selenium.webdriver.remote.webelement.WebElement (session=\"36d5809c30c6ed04d58ee2dce1880c75\", element=\"1f53898c-d586-4b0b-80fa-00ff273e43e0\")>,\n",
       " <selenium.webdriver.remote.webelement.WebElement (session=\"36d5809c30c6ed04d58ee2dce1880c75\", element=\"261bf267-bb41-4bc0-9e3d-44f3c0768879\")>,\n",
       " <selenium.webdriver.remote.webelement.WebElement (session=\"36d5809c30c6ed04d58ee2dce1880c75\", element=\"42ebd980-e019-4da9-aea8-c23c9ab53b61\")>,\n",
       " <selenium.webdriver.remote.webelement.WebElement (session=\"36d5809c30c6ed04d58ee2dce1880c75\", element=\"c42e2a21-718d-492b-8b17-3d11254dc961\")>,\n",
       " <selenium.webdriver.remote.webelement.WebElement (session=\"36d5809c30c6ed04d58ee2dce1880c75\", element=\"f7dd8dc8-125e-4150-afdc-d5a3026c398b\")>,\n",
       " <selenium.webdriver.remote.webelement.WebElement (session=\"36d5809c30c6ed04d58ee2dce1880c75\", element=\"f6db3b8a-beb3-4460-a548-2dc74a109624\")>,\n",
       " <selenium.webdriver.remote.webelement.WebElement (session=\"36d5809c30c6ed04d58ee2dce1880c75\", element=\"940afb6a-f249-4cce-8f1f-d630f5ab3b61\")>,\n",
       " <selenium.webdriver.remote.webelement.WebElement (session=\"36d5809c30c6ed04d58ee2dce1880c75\", element=\"7b6150d7-fd83-47a7-aea2-a1ccf4a9f94c\")>]"
      ]
     },
     "execution_count": 17,
     "metadata": {},
     "output_type": "execute_result"
    }
   ],
   "source": [
    "experience_tags_da=driver_1.find_elements_by_xpath('//li[@class=\"fleft grey-text br2 placeHolderLi experience\"]/span[1]')\n",
    "experience_tags_da[0:10]"
   ]
  },
  {
   "cell_type": "code",
   "execution_count": 18,
   "id": "8b72dbff",
   "metadata": {},
   "outputs": [
    {
     "data": {
      "text/plain": [
       "['2-7 Yrs',\n",
       " '0-10 Yrs',\n",
       " '5-8 Yrs',\n",
       " '2-6 Yrs',\n",
       " '3-6 Yrs',\n",
       " '1-6 Yrs',\n",
       " '8-12 Yrs',\n",
       " '1-3 Yrs',\n",
       " '0-4 Yrs',\n",
       " '4-6 Yrs']"
      ]
     },
     "execution_count": 18,
     "metadata": {},
     "output_type": "execute_result"
    }
   ],
   "source": [
    "for i in experience_tags_da:\n",
    "    experience_da=i.text\n",
    "    experience_list_da.append(experience_da)\n",
    "experience_list_da[0:10]"
   ]
  },
  {
   "cell_type": "code",
   "execution_count": 19,
   "id": "3a12d2da",
   "metadata": {},
   "outputs": [
    {
     "name": "stdout",
     "output_type": "stream",
     "text": [
      "20 20 20 20\n"
     ]
    }
   ],
   "source": [
    "print(len(locations_list_da),len(experience_list_da),len(company_names_da),len(job_titles_da))"
   ]
  },
  {
   "cell_type": "code",
   "execution_count": 20,
   "id": "20f88122",
   "metadata": {},
   "outputs": [],
   "source": [
    "data_analyst_jobs=pd.DataFrame({})\n",
    "data_analyst_jobs['Title']=job_titles_da[0:10]\n",
    "data_analyst_jobs['Company']=company_names_da[0:10]\n",
    "data_analyst_jobs['Experience_Required']=experience_list_da[0:10]\n",
    "data_analyst_jobs['Location']=locations_list_da[0:10]"
   ]
  },
  {
   "cell_type": "code",
   "execution_count": 21,
   "id": "cfd5e7c2",
   "metadata": {},
   "outputs": [
    {
     "data": {
      "text/html": [
       "<div>\n",
       "<style scoped>\n",
       "    .dataframe tbody tr th:only-of-type {\n",
       "        vertical-align: middle;\n",
       "    }\n",
       "\n",
       "    .dataframe tbody tr th {\n",
       "        vertical-align: top;\n",
       "    }\n",
       "\n",
       "    .dataframe thead th {\n",
       "        text-align: right;\n",
       "    }\n",
       "</style>\n",
       "<table border=\"1\" class=\"dataframe\">\n",
       "  <thead>\n",
       "    <tr style=\"text-align: right;\">\n",
       "      <th></th>\n",
       "      <th>Title</th>\n",
       "      <th>Company</th>\n",
       "      <th>Experience_Required</th>\n",
       "      <th>Location</th>\n",
       "    </tr>\n",
       "  </thead>\n",
       "  <tbody>\n",
       "    <tr>\n",
       "      <th>0</th>\n",
       "      <td>Senior Data Analyst/ Business Analyst</td>\n",
       "      <td>Rupeek</td>\n",
       "      <td>2-7 Yrs</td>\n",
       "      <td>Bangalore/Bengaluru</td>\n",
       "    </tr>\n",
       "    <tr>\n",
       "      <th>1</th>\n",
       "      <td>Sr Domain Expert -Data Analysts</td>\n",
       "      <td>Siemens</td>\n",
       "      <td>0-10 Yrs</td>\n",
       "      <td>Bangalore/Bengaluru</td>\n",
       "    </tr>\n",
       "    <tr>\n",
       "      <th>2</th>\n",
       "      <td>Senior Data Analyst</td>\n",
       "      <td>Walmart</td>\n",
       "      <td>5-8 Yrs</td>\n",
       "      <td>Bangalore/Bengaluru</td>\n",
       "    </tr>\n",
       "    <tr>\n",
       "      <th>3</th>\n",
       "      <td>Senior Data Analyst</td>\n",
       "      <td>LatentView</td>\n",
       "      <td>2-6 Yrs</td>\n",
       "      <td>Chennai, Bangalore/Bengaluru</td>\n",
       "    </tr>\n",
       "    <tr>\n",
       "      <th>4</th>\n",
       "      <td>Senior Data Analyst</td>\n",
       "      <td>FINNOVATION TECH SOLUTIONS PRIVATE LIMITED</td>\n",
       "      <td>3-6 Yrs</td>\n",
       "      <td>Bangalore/Bengaluru(Old Madras Road)</td>\n",
       "    </tr>\n",
       "    <tr>\n",
       "      <th>5</th>\n",
       "      <td>Senior Data Analyst (Digital Services Analytics)</td>\n",
       "      <td>Dell Technologies</td>\n",
       "      <td>1-6 Yrs</td>\n",
       "      <td>Bangalore/Bengaluru</td>\n",
       "    </tr>\n",
       "    <tr>\n",
       "      <th>6</th>\n",
       "      <td>Senior Data Analyst</td>\n",
       "      <td>Cerner</td>\n",
       "      <td>8-12 Yrs</td>\n",
       "      <td>Bangalore/Bengaluru</td>\n",
       "    </tr>\n",
       "    <tr>\n",
       "      <th>7</th>\n",
       "      <td>Data Analyst</td>\n",
       "      <td>Myntra</td>\n",
       "      <td>1-3 Yrs</td>\n",
       "      <td>Bangalore/Bengaluru</td>\n",
       "    </tr>\n",
       "    <tr>\n",
       "      <th>8</th>\n",
       "      <td>Data Analyst</td>\n",
       "      <td>Enrich talents</td>\n",
       "      <td>0-4 Yrs</td>\n",
       "      <td>Bangalore/Bengaluru</td>\n",
       "    </tr>\n",
       "    <tr>\n",
       "      <th>9</th>\n",
       "      <td>Data Analyst - Platform &amp; Security</td>\n",
       "      <td>National Geographic</td>\n",
       "      <td>4-6 Yrs</td>\n",
       "      <td>Bangalore/Bengaluru</td>\n",
       "    </tr>\n",
       "  </tbody>\n",
       "</table>\n",
       "</div>"
      ],
      "text/plain": [
       "                                              Title  \\\n",
       "0             Senior Data Analyst/ Business Analyst   \n",
       "1                   Sr Domain Expert -Data Analysts   \n",
       "2                               Senior Data Analyst   \n",
       "3                               Senior Data Analyst   \n",
       "4                               Senior Data Analyst   \n",
       "5  Senior Data Analyst (Digital Services Analytics)   \n",
       "6                               Senior Data Analyst   \n",
       "7                                      Data Analyst   \n",
       "8                                      Data Analyst   \n",
       "9                Data Analyst - Platform & Security   \n",
       "\n",
       "                                      Company Experience_Required  \\\n",
       "0                                      Rupeek             2-7 Yrs   \n",
       "1                                     Siemens            0-10 Yrs   \n",
       "2                                     Walmart             5-8 Yrs   \n",
       "3                                  LatentView             2-6 Yrs   \n",
       "4  FINNOVATION TECH SOLUTIONS PRIVATE LIMITED             3-6 Yrs   \n",
       "5                           Dell Technologies             1-6 Yrs   \n",
       "6                                      Cerner            8-12 Yrs   \n",
       "7                                      Myntra             1-3 Yrs   \n",
       "8                              Enrich talents             0-4 Yrs   \n",
       "9                         National Geographic             4-6 Yrs   \n",
       "\n",
       "                               Location  \n",
       "0                   Bangalore/Bengaluru  \n",
       "1                   Bangalore/Bengaluru  \n",
       "2                   Bangalore/Bengaluru  \n",
       "3          Chennai, Bangalore/Bengaluru  \n",
       "4  Bangalore/Bengaluru(Old Madras Road)  \n",
       "5                   Bangalore/Bengaluru  \n",
       "6                   Bangalore/Bengaluru  \n",
       "7                   Bangalore/Bengaluru  \n",
       "8                   Bangalore/Bengaluru  \n",
       "9                   Bangalore/Bengaluru  "
      ]
     },
     "execution_count": 21,
     "metadata": {},
     "output_type": "execute_result"
    }
   ],
   "source": [
    "data_analyst_jobs"
   ]
  },
  {
   "cell_type": "code",
   "execution_count": null,
   "id": "bd5c50b8",
   "metadata": {},
   "outputs": [],
   "source": []
  },
  {
   "cell_type": "markdown",
   "id": "e54b6c1d",
   "metadata": {},
   "source": [
    "Q2."
   ]
  },
  {
   "cell_type": "code",
   "execution_count": 22,
   "id": "f23ad31a",
   "metadata": {},
   "outputs": [],
   "source": [
    "import selenium\n",
    "import pandas as pd\n",
    "from selenium import webdriver\n",
    "import warnings\n",
    "warnings.filterwarnings(\"ignore\")\n",
    "import time"
   ]
  },
  {
   "cell_type": "code",
   "execution_count": 23,
   "id": "20a81b0a",
   "metadata": {},
   "outputs": [],
   "source": [
    "driver_2=webdriver.Chrome(r\"C:\\Users\\user\\Downloads\\chromedriver_win32\\chromedriver.exe\")"
   ]
  },
  {
   "cell_type": "code",
   "execution_count": 24,
   "id": "b44a91e7",
   "metadata": {},
   "outputs": [],
   "source": [
    "driver_2.get('https://www.naukri.com/')"
   ]
  },
  {
   "cell_type": "code",
   "execution_count": 25,
   "id": "f9d37369",
   "metadata": {},
   "outputs": [],
   "source": [
    "search_field_designation_ds=driver_2.find_element_by_class_name(\"suggestor-input \")\n",
    "search_field_designation_ds.send_keys(\"Data Scientist\")\n",
    "search_field_location_ds=driver_2.find_element_by_xpath('/html/body/div/div[2]/div[3]/div/div/div[3]/div/div/div/input')\n",
    "search_field_location_ds.send_keys(\"Bangalore\")"
   ]
  },
  {
   "cell_type": "code",
   "execution_count": 26,
   "id": "9d71638f",
   "metadata": {},
   "outputs": [],
   "source": [
    "search_button_ds=driver_2.find_element_by_xpath('/html/body/div/div[2]/div[3]/div/div/div[6]')\n",
    "search_button_ds.click()"
   ]
  },
  {
   "cell_type": "code",
   "execution_count": 27,
   "id": "b2f65bdb",
   "metadata": {},
   "outputs": [],
   "source": [
    "url_2='https://www.naukri.com/data-scientist-jobs-in-bangalore?k=data%20scientist&l=bangalore'"
   ]
  },
  {
   "cell_type": "code",
   "execution_count": 28,
   "id": "bc78f68c",
   "metadata": {},
   "outputs": [],
   "source": [
    "driver_2.get(url_2)"
   ]
  },
  {
   "cell_type": "code",
   "execution_count": 29,
   "id": "95396d44",
   "metadata": {},
   "outputs": [],
   "source": [
    "job_titles_ds=[]\n",
    "locations_list_ds=[]\n",
    "company_names_ds=[]\n",
    "experience_list_ds=[]"
   ]
  },
  {
   "cell_type": "code",
   "execution_count": 30,
   "id": "6df9cafd",
   "metadata": {},
   "outputs": [
    {
     "data": {
      "text/plain": [
       "[<selenium.webdriver.remote.webelement.WebElement (session=\"4bda95892d8dc5c03186ea7e2672a5a2\", element=\"69f4df62-9a09-4955-b045-e3350d6d9121\")>,\n",
       " <selenium.webdriver.remote.webelement.WebElement (session=\"4bda95892d8dc5c03186ea7e2672a5a2\", element=\"e9c3b406-4435-4cf9-8930-69ef3ef10173\")>,\n",
       " <selenium.webdriver.remote.webelement.WebElement (session=\"4bda95892d8dc5c03186ea7e2672a5a2\", element=\"65216cf9-9f74-4f59-802e-082bb64f0212\")>,\n",
       " <selenium.webdriver.remote.webelement.WebElement (session=\"4bda95892d8dc5c03186ea7e2672a5a2\", element=\"99b428f7-51ce-4de0-a392-b758db2b1e8d\")>,\n",
       " <selenium.webdriver.remote.webelement.WebElement (session=\"4bda95892d8dc5c03186ea7e2672a5a2\", element=\"bb4dbff1-1740-4032-b1d7-422c38902b13\")>,\n",
       " <selenium.webdriver.remote.webelement.WebElement (session=\"4bda95892d8dc5c03186ea7e2672a5a2\", element=\"bfe72227-b828-4912-8912-ee4363f7102c\")>,\n",
       " <selenium.webdriver.remote.webelement.WebElement (session=\"4bda95892d8dc5c03186ea7e2672a5a2\", element=\"517acb81-068a-44e8-b910-bdbdbc3869fc\")>,\n",
       " <selenium.webdriver.remote.webelement.WebElement (session=\"4bda95892d8dc5c03186ea7e2672a5a2\", element=\"994c3273-8dc6-4cda-a27d-1484c836249a\")>,\n",
       " <selenium.webdriver.remote.webelement.WebElement (session=\"4bda95892d8dc5c03186ea7e2672a5a2\", element=\"31404a9a-6d3d-493c-a3b1-4bfb91ea156c\")>,\n",
       " <selenium.webdriver.remote.webelement.WebElement (session=\"4bda95892d8dc5c03186ea7e2672a5a2\", element=\"544701d5-a352-4430-93d9-598509c0a716\")>]"
      ]
     },
     "execution_count": 30,
     "metadata": {},
     "output_type": "execute_result"
    }
   ],
   "source": [
    "titles_tags_ds=driver_2.find_elements_by_xpath('//a[@class=\"title fw500 ellipsis\"]')\n",
    "titles_tags_ds[0:10]"
   ]
  },
  {
   "cell_type": "code",
   "execution_count": 31,
   "id": "bacba654",
   "metadata": {},
   "outputs": [
    {
     "data": {
      "text/plain": [
       "['Senior Data Scientist',\n",
       " 'Data Scientist',\n",
       " 'Analyst - Data Scientist',\n",
       " 'Senior Data Scientist',\n",
       " 'Senior Data Scientist',\n",
       " 'Data Scientist',\n",
       " 'Data Scientist / Machine learning Engineer',\n",
       " 'Junior Data Scientist',\n",
       " 'Data Analyst / Data Scientist',\n",
       " 'DATA Scientist with Fraud Analytics Experience']"
      ]
     },
     "execution_count": 31,
     "metadata": {},
     "output_type": "execute_result"
    }
   ],
   "source": [
    "for i in titles_tags_ds:\n",
    "    title_ds=i.text\n",
    "    job_titles_ds.append(title_ds)\n",
    "job_titles_ds[0:10]"
   ]
  },
  {
   "cell_type": "code",
   "execution_count": 32,
   "id": "42dd1412",
   "metadata": {},
   "outputs": [
    {
     "data": {
      "text/plain": [
       "[<selenium.webdriver.remote.webelement.WebElement (session=\"4bda95892d8dc5c03186ea7e2672a5a2\", element=\"0a2ad4f5-124b-495e-884e-5abb02af3497\")>,\n",
       " <selenium.webdriver.remote.webelement.WebElement (session=\"4bda95892d8dc5c03186ea7e2672a5a2\", element=\"ea54e503-657f-4a17-be06-a5fa75c9dde7\")>,\n",
       " <selenium.webdriver.remote.webelement.WebElement (session=\"4bda95892d8dc5c03186ea7e2672a5a2\", element=\"653a5a5d-9dae-4158-9b38-0e71a1f6dbef\")>,\n",
       " <selenium.webdriver.remote.webelement.WebElement (session=\"4bda95892d8dc5c03186ea7e2672a5a2\", element=\"0f5982d5-5de8-4be5-8fcf-8d74f39bade2\")>,\n",
       " <selenium.webdriver.remote.webelement.WebElement (session=\"4bda95892d8dc5c03186ea7e2672a5a2\", element=\"e0587334-9e15-4c0a-b3f9-75f8bf0c8db6\")>,\n",
       " <selenium.webdriver.remote.webelement.WebElement (session=\"4bda95892d8dc5c03186ea7e2672a5a2\", element=\"f7971593-75a2-4711-bb2e-22e233ac8f26\")>,\n",
       " <selenium.webdriver.remote.webelement.WebElement (session=\"4bda95892d8dc5c03186ea7e2672a5a2\", element=\"4bcbb4e7-a420-476d-957a-4c19ef4c71b7\")>,\n",
       " <selenium.webdriver.remote.webelement.WebElement (session=\"4bda95892d8dc5c03186ea7e2672a5a2\", element=\"eee15df0-e83d-46c9-a371-5a6ccddff618\")>,\n",
       " <selenium.webdriver.remote.webelement.WebElement (session=\"4bda95892d8dc5c03186ea7e2672a5a2\", element=\"cf78f0aa-c674-408e-a5a3-a3b2c371b6d6\")>,\n",
       " <selenium.webdriver.remote.webelement.WebElement (session=\"4bda95892d8dc5c03186ea7e2672a5a2\", element=\"7b8d6fbf-33a0-4706-b013-13c5915fa62d\")>]"
      ]
     },
     "execution_count": 32,
     "metadata": {},
     "output_type": "execute_result"
    }
   ],
   "source": [
    "location_tags_ds=driver_2.find_elements_by_xpath('//li[@class=\"fleft grey-text br2 placeHolderLi location\"]/span[1]')\n",
    "location_tags_ds[0:10]"
   ]
  },
  {
   "cell_type": "code",
   "execution_count": 33,
   "id": "ad9f4941",
   "metadata": {},
   "outputs": [
    {
     "data": {
      "text/plain": [
       "['Bangalore/Bengaluru',\n",
       " 'Bangalore/Bengaluru',\n",
       " 'Bangalore/Bengaluru',\n",
       " 'Bangalore/Bengaluru',\n",
       " 'Bangalore/Bengaluru',\n",
       " 'Bangalore/Bengaluru',\n",
       " 'Bangalore/Bengaluru, Delhi / NCR',\n",
       " 'Bangalore/Bengaluru',\n",
       " 'Noida, Hyderabad/Secunderabad, Bangalore/Bengaluru',\n",
       " 'Bangalore/Bengaluru']"
      ]
     },
     "execution_count": 33,
     "metadata": {},
     "output_type": "execute_result"
    }
   ],
   "source": [
    "for i in location_tags_ds:\n",
    "    location_ds=i.text\n",
    "    locations_list_ds.append(location_ds)\n",
    "locations_list_ds[0:10]"
   ]
  },
  {
   "cell_type": "code",
   "execution_count": 34,
   "id": "1d72ebfd",
   "metadata": {},
   "outputs": [
    {
     "data": {
      "text/plain": [
       "[<selenium.webdriver.remote.webelement.WebElement (session=\"4bda95892d8dc5c03186ea7e2672a5a2\", element=\"642ab167-9f74-4e8f-a356-eaeac5104a10\")>,\n",
       " <selenium.webdriver.remote.webelement.WebElement (session=\"4bda95892d8dc5c03186ea7e2672a5a2\", element=\"28093994-cf42-4bee-b588-09a2cbed5a93\")>,\n",
       " <selenium.webdriver.remote.webelement.WebElement (session=\"4bda95892d8dc5c03186ea7e2672a5a2\", element=\"3ed21c63-0bb4-4f59-9d97-37415d860542\")>,\n",
       " <selenium.webdriver.remote.webelement.WebElement (session=\"4bda95892d8dc5c03186ea7e2672a5a2\", element=\"345d1dea-82ea-4b66-b300-c779e5bd072e\")>,\n",
       " <selenium.webdriver.remote.webelement.WebElement (session=\"4bda95892d8dc5c03186ea7e2672a5a2\", element=\"86dd8c2d-8932-4c83-82b2-a9bc70cfba24\")>,\n",
       " <selenium.webdriver.remote.webelement.WebElement (session=\"4bda95892d8dc5c03186ea7e2672a5a2\", element=\"13951231-b4e3-46bb-a6ec-a72bd4fde968\")>,\n",
       " <selenium.webdriver.remote.webelement.WebElement (session=\"4bda95892d8dc5c03186ea7e2672a5a2\", element=\"934ec0a5-7508-479f-b97b-4316e19fc7b4\")>,\n",
       " <selenium.webdriver.remote.webelement.WebElement (session=\"4bda95892d8dc5c03186ea7e2672a5a2\", element=\"af32617f-9e51-407d-95ff-e75ffd678867\")>,\n",
       " <selenium.webdriver.remote.webelement.WebElement (session=\"4bda95892d8dc5c03186ea7e2672a5a2\", element=\"564a93f7-ea15-4779-b806-a07c317882d7\")>,\n",
       " <selenium.webdriver.remote.webelement.WebElement (session=\"4bda95892d8dc5c03186ea7e2672a5a2\", element=\"51fb174d-7568-434a-b41c-e39e074ad55e\")>]"
      ]
     },
     "execution_count": 34,
     "metadata": {},
     "output_type": "execute_result"
    }
   ],
   "source": [
    "company_tags_ds=driver_2.find_elements_by_xpath('//a[@class=\"subTitle ellipsis fleft\"]')\n",
    "company_tags_ds[0:10]"
   ]
  },
  {
   "cell_type": "code",
   "execution_count": 35,
   "id": "6b1a1090",
   "metadata": {},
   "outputs": [
    {
     "data": {
      "text/plain": [
       "['GSK India',\n",
       " 'Applied Materials',\n",
       " 'MilliporeSigma',\n",
       " 'Flipkart',\n",
       " 'GSK India',\n",
       " 'Roposo',\n",
       " 'Leading US MNC into Analytics',\n",
       " 'Accenture',\n",
       " 'JK Technosoft',\n",
       " 'Concentrix']"
      ]
     },
     "execution_count": 35,
     "metadata": {},
     "output_type": "execute_result"
    }
   ],
   "source": [
    "for i in company_tags_ds:\n",
    "    company_ds=i.text\n",
    "    company_names_ds.append(company_ds)\n",
    "company_names_ds[0:10]"
   ]
  },
  {
   "cell_type": "code",
   "execution_count": 36,
   "id": "b7d28cee",
   "metadata": {},
   "outputs": [
    {
     "data": {
      "text/plain": [
       "[<selenium.webdriver.remote.webelement.WebElement (session=\"4bda95892d8dc5c03186ea7e2672a5a2\", element=\"9f870a3e-c789-41ce-b82d-2ba0439fde3d\")>,\n",
       " <selenium.webdriver.remote.webelement.WebElement (session=\"4bda95892d8dc5c03186ea7e2672a5a2\", element=\"24bb55b5-dec9-4f89-814b-9312ca910147\")>,\n",
       " <selenium.webdriver.remote.webelement.WebElement (session=\"4bda95892d8dc5c03186ea7e2672a5a2\", element=\"e5d7eff4-0eab-4949-93ad-f2f8cc4fee97\")>,\n",
       " <selenium.webdriver.remote.webelement.WebElement (session=\"4bda95892d8dc5c03186ea7e2672a5a2\", element=\"f39bcc70-ea3c-4a02-9a3d-34156b2a4556\")>,\n",
       " <selenium.webdriver.remote.webelement.WebElement (session=\"4bda95892d8dc5c03186ea7e2672a5a2\", element=\"0e0f934d-9d98-477c-a86b-168b51a530e2\")>,\n",
       " <selenium.webdriver.remote.webelement.WebElement (session=\"4bda95892d8dc5c03186ea7e2672a5a2\", element=\"6f7ca019-f052-455d-b824-efbbc75b5cda\")>,\n",
       " <selenium.webdriver.remote.webelement.WebElement (session=\"4bda95892d8dc5c03186ea7e2672a5a2\", element=\"25462f31-2160-4efa-9d42-d3f3b143f9f5\")>,\n",
       " <selenium.webdriver.remote.webelement.WebElement (session=\"4bda95892d8dc5c03186ea7e2672a5a2\", element=\"2fa6f8a5-6df2-4582-99f0-3093974d0b00\")>,\n",
       " <selenium.webdriver.remote.webelement.WebElement (session=\"4bda95892d8dc5c03186ea7e2672a5a2\", element=\"2fb47062-3316-4d2f-af84-cd4ae5892dc3\")>,\n",
       " <selenium.webdriver.remote.webelement.WebElement (session=\"4bda95892d8dc5c03186ea7e2672a5a2\", element=\"d1cb487e-ff77-444d-af77-97b422b97ea9\")>]"
      ]
     },
     "execution_count": 36,
     "metadata": {},
     "output_type": "execute_result"
    }
   ],
   "source": [
    "experience_tags_ds=driver_2.find_elements_by_xpath('//li[@class=\"fleft grey-text br2 placeHolderLi experience\"]/span[1]')\n",
    "experience_tags_ds[0:10]"
   ]
  },
  {
   "cell_type": "code",
   "execution_count": 37,
   "id": "591ead3e",
   "metadata": {},
   "outputs": [
    {
     "data": {
      "text/plain": [
       "['5-9 Yrs',\n",
       " '2-7 Yrs',\n",
       " '2-7 Yrs',\n",
       " '5-8 Yrs',\n",
       " '5-9 Yrs',\n",
       " '3-6 Yrs',\n",
       " '2-7 Yrs',\n",
       " '2-6 Yrs',\n",
       " '5-7 Yrs',\n",
       " '2-4 Yrs']"
      ]
     },
     "execution_count": 37,
     "metadata": {},
     "output_type": "execute_result"
    }
   ],
   "source": [
    "for i in experience_tags_ds:\n",
    "    experience_ds=i.text\n",
    "    experience_list_ds.append(experience_ds)\n",
    "experience_list_ds[0:10]"
   ]
  },
  {
   "cell_type": "code",
   "execution_count": 38,
   "id": "8b5c73a3",
   "metadata": {},
   "outputs": [
    {
     "name": "stdout",
     "output_type": "stream",
     "text": [
      "20 20 20 20\n"
     ]
    }
   ],
   "source": [
    "print(len(locations_list_ds),len(experience_list_ds),len(company_names_ds),len(job_titles_ds))"
   ]
  },
  {
   "cell_type": "code",
   "execution_count": 39,
   "id": "ea2f328d",
   "metadata": {},
   "outputs": [],
   "source": [
    "data_scientist_jobs=pd.DataFrame({})\n",
    "data_scientist_jobs['Title']=job_titles_ds[0:10]\n",
    "data_scientist_jobs['Company']=company_names_ds[0:10]\n",
    "data_scientist_jobs['Experience_Required']=experience_list_ds[0:10]\n",
    "data_scientist_jobs['Location']=locations_list_ds[0:10]"
   ]
  },
  {
   "cell_type": "code",
   "execution_count": 40,
   "id": "67a0c2e3",
   "metadata": {},
   "outputs": [
    {
     "data": {
      "text/html": [
       "<div>\n",
       "<style scoped>\n",
       "    .dataframe tbody tr th:only-of-type {\n",
       "        vertical-align: middle;\n",
       "    }\n",
       "\n",
       "    .dataframe tbody tr th {\n",
       "        vertical-align: top;\n",
       "    }\n",
       "\n",
       "    .dataframe thead th {\n",
       "        text-align: right;\n",
       "    }\n",
       "</style>\n",
       "<table border=\"1\" class=\"dataframe\">\n",
       "  <thead>\n",
       "    <tr style=\"text-align: right;\">\n",
       "      <th></th>\n",
       "      <th>Title</th>\n",
       "      <th>Company</th>\n",
       "      <th>Experience_Required</th>\n",
       "      <th>Location</th>\n",
       "    </tr>\n",
       "  </thead>\n",
       "  <tbody>\n",
       "    <tr>\n",
       "      <th>0</th>\n",
       "      <td>Senior Data Scientist</td>\n",
       "      <td>GSK India</td>\n",
       "      <td>5-9 Yrs</td>\n",
       "      <td>Bangalore/Bengaluru</td>\n",
       "    </tr>\n",
       "    <tr>\n",
       "      <th>1</th>\n",
       "      <td>Data Scientist</td>\n",
       "      <td>Applied Materials</td>\n",
       "      <td>2-7 Yrs</td>\n",
       "      <td>Bangalore/Bengaluru</td>\n",
       "    </tr>\n",
       "    <tr>\n",
       "      <th>2</th>\n",
       "      <td>Analyst - Data Scientist</td>\n",
       "      <td>MilliporeSigma</td>\n",
       "      <td>2-7 Yrs</td>\n",
       "      <td>Bangalore/Bengaluru</td>\n",
       "    </tr>\n",
       "    <tr>\n",
       "      <th>3</th>\n",
       "      <td>Senior Data Scientist</td>\n",
       "      <td>Flipkart</td>\n",
       "      <td>5-8 Yrs</td>\n",
       "      <td>Bangalore/Bengaluru</td>\n",
       "    </tr>\n",
       "    <tr>\n",
       "      <th>4</th>\n",
       "      <td>Senior Data Scientist</td>\n",
       "      <td>GSK India</td>\n",
       "      <td>5-9 Yrs</td>\n",
       "      <td>Bangalore/Bengaluru</td>\n",
       "    </tr>\n",
       "    <tr>\n",
       "      <th>5</th>\n",
       "      <td>Data Scientist</td>\n",
       "      <td>Roposo</td>\n",
       "      <td>3-6 Yrs</td>\n",
       "      <td>Bangalore/Bengaluru</td>\n",
       "    </tr>\n",
       "    <tr>\n",
       "      <th>6</th>\n",
       "      <td>Data Scientist / Machine learning Engineer</td>\n",
       "      <td>Leading US MNC into Analytics</td>\n",
       "      <td>2-7 Yrs</td>\n",
       "      <td>Bangalore/Bengaluru, Delhi / NCR</td>\n",
       "    </tr>\n",
       "    <tr>\n",
       "      <th>7</th>\n",
       "      <td>Junior Data Scientist</td>\n",
       "      <td>Accenture</td>\n",
       "      <td>2-6 Yrs</td>\n",
       "      <td>Bangalore/Bengaluru</td>\n",
       "    </tr>\n",
       "    <tr>\n",
       "      <th>8</th>\n",
       "      <td>Data Analyst / Data Scientist</td>\n",
       "      <td>JK Technosoft</td>\n",
       "      <td>5-7 Yrs</td>\n",
       "      <td>Noida, Hyderabad/Secunderabad, Bangalore/Benga...</td>\n",
       "    </tr>\n",
       "    <tr>\n",
       "      <th>9</th>\n",
       "      <td>DATA Scientist with Fraud Analytics Experience</td>\n",
       "      <td>Concentrix</td>\n",
       "      <td>2-4 Yrs</td>\n",
       "      <td>Bangalore/Bengaluru</td>\n",
       "    </tr>\n",
       "  </tbody>\n",
       "</table>\n",
       "</div>"
      ],
      "text/plain": [
       "                                            Title  \\\n",
       "0                           Senior Data Scientist   \n",
       "1                                  Data Scientist   \n",
       "2                        Analyst - Data Scientist   \n",
       "3                           Senior Data Scientist   \n",
       "4                           Senior Data Scientist   \n",
       "5                                  Data Scientist   \n",
       "6      Data Scientist / Machine learning Engineer   \n",
       "7                           Junior Data Scientist   \n",
       "8                   Data Analyst / Data Scientist   \n",
       "9  DATA Scientist with Fraud Analytics Experience   \n",
       "\n",
       "                         Company Experience_Required  \\\n",
       "0                      GSK India             5-9 Yrs   \n",
       "1              Applied Materials             2-7 Yrs   \n",
       "2                 MilliporeSigma             2-7 Yrs   \n",
       "3                       Flipkart             5-8 Yrs   \n",
       "4                      GSK India             5-9 Yrs   \n",
       "5                         Roposo             3-6 Yrs   \n",
       "6  Leading US MNC into Analytics             2-7 Yrs   \n",
       "7                      Accenture             2-6 Yrs   \n",
       "8                  JK Technosoft             5-7 Yrs   \n",
       "9                     Concentrix             2-4 Yrs   \n",
       "\n",
       "                                            Location  \n",
       "0                                Bangalore/Bengaluru  \n",
       "1                                Bangalore/Bengaluru  \n",
       "2                                Bangalore/Bengaluru  \n",
       "3                                Bangalore/Bengaluru  \n",
       "4                                Bangalore/Bengaluru  \n",
       "5                                Bangalore/Bengaluru  \n",
       "6                   Bangalore/Bengaluru, Delhi / NCR  \n",
       "7                                Bangalore/Bengaluru  \n",
       "8  Noida, Hyderabad/Secunderabad, Bangalore/Benga...  \n",
       "9                                Bangalore/Bengaluru  "
      ]
     },
     "execution_count": 40,
     "metadata": {},
     "output_type": "execute_result"
    }
   ],
   "source": [
    "data_scientist_jobs"
   ]
  },
  {
   "cell_type": "code",
   "execution_count": null,
   "id": "a995ed24",
   "metadata": {},
   "outputs": [],
   "source": []
  },
  {
   "cell_type": "markdown",
   "id": "4860d1c4",
   "metadata": {},
   "source": [
    "Q3."
   ]
  },
  {
   "cell_type": "code",
   "execution_count": 41,
   "id": "e05bfab0",
   "metadata": {},
   "outputs": [],
   "source": [
    "import selenium\n",
    "import pandas as pd\n",
    "from selenium import webdriver\n",
    "import warnings\n",
    "warnings.filterwarnings(\"ignore\")\n",
    "import time"
   ]
  },
  {
   "cell_type": "code",
   "execution_count": 42,
   "id": "0b38a80a",
   "metadata": {},
   "outputs": [],
   "source": [
    "driver_3=webdriver.Chrome(r\"C:\\Users\\user\\Downloads\\chromedriver_win32\\chromedriver.exe\")"
   ]
  },
  {
   "cell_type": "code",
   "execution_count": 43,
   "id": "ef15f95c",
   "metadata": {},
   "outputs": [],
   "source": [
    "driver_3.get('https://www.naukri.com/')"
   ]
  },
  {
   "cell_type": "code",
   "execution_count": 44,
   "id": "57761622",
   "metadata": {},
   "outputs": [],
   "source": [
    "search_field_designation_data=driver_3.find_element_by_class_name(\"suggestor-input \")\n",
    "search_field_designation_data.send_keys(\"Data Scientist\")"
   ]
  },
  {
   "cell_type": "code",
   "execution_count": 46,
   "id": "c93de486",
   "metadata": {},
   "outputs": [],
   "source": [
    "search_button_data=driver_3.find_element_by_xpath('/html/body/div/div[2]/div[3]/div/div/div[6]')\n",
    "search_button_data.click()"
   ]
  },
  {
   "cell_type": "code",
   "execution_count": 47,
   "id": "e82d50aa",
   "metadata": {},
   "outputs": [],
   "source": [
    "location_filter=driver_3.find_element_by_xpath('/html/body/div[1]/div[3]/div[2]/section[1]/div[2]/div[4]/div[2]/div[3]/label/i')\n",
    "location_filter.click()"
   ]
  },
  {
   "cell_type": "code",
   "execution_count": 48,
   "id": "dfd9be69",
   "metadata": {},
   "outputs": [],
   "source": [
    "salary_filter=driver_3.find_element_by_xpath('/html/body/div[1]/div[3]/div[2]/section[1]/div[2]/div[5]/div[2]/div[2]/label/i')\n",
    "salary_filter.click()"
   ]
  },
  {
   "cell_type": "code",
   "execution_count": 49,
   "id": "470f64bb",
   "metadata": {},
   "outputs": [],
   "source": [
    "url_3='https://www.naukri.com/data-scientist-jobs?k=data%20scientist&cityTypeGid=9508&ctcFilter=3to6'"
   ]
  },
  {
   "cell_type": "code",
   "execution_count": 50,
   "id": "005b5ee5",
   "metadata": {},
   "outputs": [],
   "source": [
    "driver_3.get(url_3)"
   ]
  },
  {
   "cell_type": "code",
   "execution_count": 51,
   "id": "0b8e45d2",
   "metadata": {},
   "outputs": [],
   "source": [
    "job_titles=[]\n",
    "company_names=[]\n",
    "locations_list=[]\n",
    "experience_list=[]"
   ]
  },
  {
   "cell_type": "code",
   "execution_count": 52,
   "id": "8fc323d9",
   "metadata": {},
   "outputs": [
    {
     "data": {
      "text/plain": [
       "[<selenium.webdriver.remote.webelement.WebElement (session=\"de559cba3e70bec980ff2111a596b0d9\", element=\"5263a3c0-d374-486f-8853-2363aa1e4377\")>,\n",
       " <selenium.webdriver.remote.webelement.WebElement (session=\"de559cba3e70bec980ff2111a596b0d9\", element=\"cfa1fd72-2d4e-4913-a948-b42f8dd828d2\")>,\n",
       " <selenium.webdriver.remote.webelement.WebElement (session=\"de559cba3e70bec980ff2111a596b0d9\", element=\"6dd1d4c6-1e2f-4e19-868c-50fd34c373c5\")>,\n",
       " <selenium.webdriver.remote.webelement.WebElement (session=\"de559cba3e70bec980ff2111a596b0d9\", element=\"5e9e075a-00ae-453d-8843-ed9e544c4ff5\")>,\n",
       " <selenium.webdriver.remote.webelement.WebElement (session=\"de559cba3e70bec980ff2111a596b0d9\", element=\"5b247c72-d956-47f0-b6fa-8961a1888ec7\")>,\n",
       " <selenium.webdriver.remote.webelement.WebElement (session=\"de559cba3e70bec980ff2111a596b0d9\", element=\"bf7c090d-7c8e-4712-a141-1af18ad8280d\")>,\n",
       " <selenium.webdriver.remote.webelement.WebElement (session=\"de559cba3e70bec980ff2111a596b0d9\", element=\"a830626a-a299-4a54-a916-4b89d13367fb\")>,\n",
       " <selenium.webdriver.remote.webelement.WebElement (session=\"de559cba3e70bec980ff2111a596b0d9\", element=\"108da885-70e1-45d2-b5da-6fb07eb96f61\")>,\n",
       " <selenium.webdriver.remote.webelement.WebElement (session=\"de559cba3e70bec980ff2111a596b0d9\", element=\"c78cce66-f38a-4a92-9b33-7048532279b7\")>,\n",
       " <selenium.webdriver.remote.webelement.WebElement (session=\"de559cba3e70bec980ff2111a596b0d9\", element=\"fc3c6fe7-ae7b-49bb-bb70-ec670fdbc38e\")>]"
      ]
     },
     "execution_count": 52,
     "metadata": {},
     "output_type": "execute_result"
    }
   ],
   "source": [
    "titles_tags=driver_3.find_elements_by_xpath('//a[@class=\"title fw500 ellipsis\"]')\n",
    "titles_tags[0:10]"
   ]
  },
  {
   "cell_type": "code",
   "execution_count": 53,
   "id": "cba210fb",
   "metadata": {},
   "outputs": [
    {
     "data": {
      "text/plain": [
       "['Opening For Data Scientist',\n",
       " 'Hiring For Senior Data Scientist-Noida',\n",
       " 'Data Scientist/ Machine Learning, 2022 Passout Can also apply',\n",
       " 'Lead Data Scientist',\n",
       " 'Data Scientist (freelance)',\n",
       " 'Senior Data Scientist',\n",
       " 'Data Scientist',\n",
       " 'Data Scientist',\n",
       " 'Urgent Requirement || Data Scientist || Noida',\n",
       " 'Data Scientist - Python/SQL']"
      ]
     },
     "execution_count": 53,
     "metadata": {},
     "output_type": "execute_result"
    }
   ],
   "source": [
    "for i in titles_tags:\n",
    "    title=i.text\n",
    "    job_titles.append(title)\n",
    "job_titles[0:10]"
   ]
  },
  {
   "cell_type": "code",
   "execution_count": 54,
   "id": "88020696",
   "metadata": {},
   "outputs": [
    {
     "data": {
      "text/plain": [
       "[<selenium.webdriver.remote.webelement.WebElement (session=\"de559cba3e70bec980ff2111a596b0d9\", element=\"7ed1a2d5-a483-443d-b5c9-5d3fdc44bd0e\")>,\n",
       " <selenium.webdriver.remote.webelement.WebElement (session=\"de559cba3e70bec980ff2111a596b0d9\", element=\"040114d9-a212-4f75-bd90-69a80fd57638\")>,\n",
       " <selenium.webdriver.remote.webelement.WebElement (session=\"de559cba3e70bec980ff2111a596b0d9\", element=\"90ccd26f-aefd-4775-88ce-4a61a41e6e08\")>,\n",
       " <selenium.webdriver.remote.webelement.WebElement (session=\"de559cba3e70bec980ff2111a596b0d9\", element=\"d51b5de5-4e23-4ac1-bf11-9785531beab9\")>,\n",
       " <selenium.webdriver.remote.webelement.WebElement (session=\"de559cba3e70bec980ff2111a596b0d9\", element=\"3c12b6a0-13fa-4b20-9fee-0207731712d8\")>,\n",
       " <selenium.webdriver.remote.webelement.WebElement (session=\"de559cba3e70bec980ff2111a596b0d9\", element=\"8dfc90d1-da10-4e55-8553-6a99cfeac826\")>,\n",
       " <selenium.webdriver.remote.webelement.WebElement (session=\"de559cba3e70bec980ff2111a596b0d9\", element=\"a710662f-2dba-45a5-a6fa-cbd4def76315\")>,\n",
       " <selenium.webdriver.remote.webelement.WebElement (session=\"de559cba3e70bec980ff2111a596b0d9\", element=\"62e3e83f-6cc4-4187-9141-62e22af9df49\")>,\n",
       " <selenium.webdriver.remote.webelement.WebElement (session=\"de559cba3e70bec980ff2111a596b0d9\", element=\"287add2b-758b-46ee-9aac-ba91ceae07c1\")>,\n",
       " <selenium.webdriver.remote.webelement.WebElement (session=\"de559cba3e70bec980ff2111a596b0d9\", element=\"d1f492fe-cd62-416c-b772-ea77268200aa\")>]"
      ]
     },
     "execution_count": 54,
     "metadata": {},
     "output_type": "execute_result"
    }
   ],
   "source": [
    "location_tags=driver_3.find_elements_by_xpath('//li[@class=\"fleft grey-text br2 placeHolderLi location\"]/span[1]')\n",
    "location_tags[0:10]"
   ]
  },
  {
   "cell_type": "code",
   "execution_count": 55,
   "id": "27523000",
   "metadata": {},
   "outputs": [
    {
     "data": {
      "text/plain": [
       "['Gurgaon/Gurugram',\n",
       " 'Noida, Greater Noida, Delhi / NCR',\n",
       " 'Hyderabad/Secunderabad, Ahmedabad, Chennai, Bangalore/Bengaluru, Delhi / NCR, Mumbai (All Areas)',\n",
       " 'Gurgaon/Gurugram',\n",
       " 'New Delhi, Delhi',\n",
       " 'Noida',\n",
       " 'Gurgaon, Bengaluru',\n",
       " 'New Delhi',\n",
       " 'Noida, Delhi / NCR',\n",
       " 'Noida, Kota, Mumbai, Chandigarh, Lucknow, Agra, Gurgaon/Gurugram, Jaipur, Bangalore/Bengaluru']"
      ]
     },
     "execution_count": 55,
     "metadata": {},
     "output_type": "execute_result"
    }
   ],
   "source": [
    "for i in location_tags:\n",
    "    location=i.text\n",
    "    locations_list.append(location)\n",
    "locations_list[0:10]"
   ]
  },
  {
   "cell_type": "code",
   "execution_count": 56,
   "id": "80b94116",
   "metadata": {},
   "outputs": [
    {
     "data": {
      "text/plain": [
       "[<selenium.webdriver.remote.webelement.WebElement (session=\"de559cba3e70bec980ff2111a596b0d9\", element=\"fc5dd455-34f2-431a-b34f-44e4ed4e679f\")>,\n",
       " <selenium.webdriver.remote.webelement.WebElement (session=\"de559cba3e70bec980ff2111a596b0d9\", element=\"316dd4cc-4649-44fb-9a02-5c84c20446db\")>,\n",
       " <selenium.webdriver.remote.webelement.WebElement (session=\"de559cba3e70bec980ff2111a596b0d9\", element=\"f1da84c6-aac2-4410-97e3-7947ea9ce082\")>,\n",
       " <selenium.webdriver.remote.webelement.WebElement (session=\"de559cba3e70bec980ff2111a596b0d9\", element=\"75ce4a63-458e-461e-9351-6d5da44260f9\")>,\n",
       " <selenium.webdriver.remote.webelement.WebElement (session=\"de559cba3e70bec980ff2111a596b0d9\", element=\"2745a151-cdd5-4162-b27c-3b5773902595\")>,\n",
       " <selenium.webdriver.remote.webelement.WebElement (session=\"de559cba3e70bec980ff2111a596b0d9\", element=\"5a673468-231b-49d5-8cee-09906eabae0f\")>,\n",
       " <selenium.webdriver.remote.webelement.WebElement (session=\"de559cba3e70bec980ff2111a596b0d9\", element=\"f63476af-bb9a-4e79-a02b-61218e026bb5\")>,\n",
       " <selenium.webdriver.remote.webelement.WebElement (session=\"de559cba3e70bec980ff2111a596b0d9\", element=\"c6fde67a-6c62-4ff8-b337-b8601997cec4\")>,\n",
       " <selenium.webdriver.remote.webelement.WebElement (session=\"de559cba3e70bec980ff2111a596b0d9\", element=\"d95e1b70-5ec6-4fbc-a30d-735331a5c315\")>,\n",
       " <selenium.webdriver.remote.webelement.WebElement (session=\"de559cba3e70bec980ff2111a596b0d9\", element=\"d34e1989-ed57-4c9d-a432-9df8b425ac1f\")>]"
      ]
     },
     "execution_count": 56,
     "metadata": {},
     "output_type": "execute_result"
    }
   ],
   "source": [
    "company_tags=driver_3.find_elements_by_xpath('//a[@class=\"subTitle ellipsis fleft\"]')\n",
    "company_tags[0:10]"
   ]
  },
  {
   "cell_type": "code",
   "execution_count": 57,
   "id": "aa029b58",
   "metadata": {},
   "outputs": [
    {
     "data": {
      "text/plain": [
       "['Care Health Insurance',\n",
       " 'Lumiq.ai',\n",
       " 'Creative Hands HR Consultancy',\n",
       " 'KIA INDIA PRIVATE LIMITED',\n",
       " '2Coms',\n",
       " 'Optum',\n",
       " 'BlackBuck',\n",
       " 'Boston Consulting Group',\n",
       " 'HCL Technologies',\n",
       " 'AVE-Promagne']"
      ]
     },
     "execution_count": 57,
     "metadata": {},
     "output_type": "execute_result"
    }
   ],
   "source": [
    "for i in company_tags:\n",
    "    company=i.text\n",
    "    company_names.append(company)\n",
    "company_names[0:10]"
   ]
  },
  {
   "cell_type": "code",
   "execution_count": 58,
   "id": "78a66ddb",
   "metadata": {},
   "outputs": [
    {
     "data": {
      "text/plain": [
       "[<selenium.webdriver.remote.webelement.WebElement (session=\"de559cba3e70bec980ff2111a596b0d9\", element=\"23e622f3-4234-4257-8499-afb93b94c9eb\")>,\n",
       " <selenium.webdriver.remote.webelement.WebElement (session=\"de559cba3e70bec980ff2111a596b0d9\", element=\"80cda0e2-513f-4eeb-884f-16ec9c489755\")>,\n",
       " <selenium.webdriver.remote.webelement.WebElement (session=\"de559cba3e70bec980ff2111a596b0d9\", element=\"72016899-3b76-49cf-aea9-d6d0060ee4ba\")>,\n",
       " <selenium.webdriver.remote.webelement.WebElement (session=\"de559cba3e70bec980ff2111a596b0d9\", element=\"2831fd7e-a5bf-4584-a88a-b4de2027d09e\")>,\n",
       " <selenium.webdriver.remote.webelement.WebElement (session=\"de559cba3e70bec980ff2111a596b0d9\", element=\"0540d02d-ada8-45e9-9168-4ef7bc069636\")>,\n",
       " <selenium.webdriver.remote.webelement.WebElement (session=\"de559cba3e70bec980ff2111a596b0d9\", element=\"e40c84f2-80b8-498b-9800-d2cf849371e4\")>,\n",
       " <selenium.webdriver.remote.webelement.WebElement (session=\"de559cba3e70bec980ff2111a596b0d9\", element=\"08032074-d0fc-4924-ab9f-79f4cdc24802\")>,\n",
       " <selenium.webdriver.remote.webelement.WebElement (session=\"de559cba3e70bec980ff2111a596b0d9\", element=\"f5802fb6-d69e-4a0a-ab4b-9c267b8aee32\")>,\n",
       " <selenium.webdriver.remote.webelement.WebElement (session=\"de559cba3e70bec980ff2111a596b0d9\", element=\"821fc5ee-20d4-4e62-b7a6-24b292f59ea9\")>,\n",
       " <selenium.webdriver.remote.webelement.WebElement (session=\"de559cba3e70bec980ff2111a596b0d9\", element=\"3a0f3ecb-f5ff-44b2-9dd2-058718c5af3a\")>]"
      ]
     },
     "execution_count": 58,
     "metadata": {},
     "output_type": "execute_result"
    }
   ],
   "source": [
    "experience_tags=driver_3.find_elements_by_xpath('//li[@class=\"fleft grey-text br2 placeHolderLi experience\"]/span[1]')\n",
    "experience_tags[0:10]"
   ]
  },
  {
   "cell_type": "code",
   "execution_count": 59,
   "id": "03a919c7",
   "metadata": {},
   "outputs": [
    {
     "data": {
      "text/plain": [
       "['1-5 Yrs',\n",
       " '2-6 Yrs',\n",
       " '0-4 Yrs',\n",
       " '7-10 Yrs',\n",
       " '2-7 Yrs',\n",
       " '2-7 Yrs',\n",
       " '3-7 Yrs',\n",
       " '2-5 Yrs',\n",
       " '3-8 Yrs',\n",
       " '3-8 Yrs']"
      ]
     },
     "execution_count": 59,
     "metadata": {},
     "output_type": "execute_result"
    }
   ],
   "source": [
    "for i in experience_tags:\n",
    "    experience=i.text\n",
    "    experience_list.append(experience)\n",
    "experience_list[0:10]"
   ]
  },
  {
   "cell_type": "code",
   "execution_count": 60,
   "id": "17b50190",
   "metadata": {},
   "outputs": [
    {
     "name": "stdout",
     "output_type": "stream",
     "text": [
      "20 20 20 20\n"
     ]
    }
   ],
   "source": [
    "print(len(locations_list),len(experience_list),len(company_names),len(job_titles))"
   ]
  },
  {
   "cell_type": "code",
   "execution_count": 61,
   "id": "8978bdb4",
   "metadata": {},
   "outputs": [],
   "source": [
    "ds_jobs=pd.DataFrame({})\n",
    "ds_jobs['Title']=job_titles[0:10]\n",
    "ds_jobs['Company']=company_names[0:10]\n",
    "ds_jobs['Experience_Required']=experience_list[0:10]\n",
    "ds_jobs['Location']=locations_list[0:10]"
   ]
  },
  {
   "cell_type": "code",
   "execution_count": 62,
   "id": "50fa48b7",
   "metadata": {},
   "outputs": [
    {
     "data": {
      "text/html": [
       "<div>\n",
       "<style scoped>\n",
       "    .dataframe tbody tr th:only-of-type {\n",
       "        vertical-align: middle;\n",
       "    }\n",
       "\n",
       "    .dataframe tbody tr th {\n",
       "        vertical-align: top;\n",
       "    }\n",
       "\n",
       "    .dataframe thead th {\n",
       "        text-align: right;\n",
       "    }\n",
       "</style>\n",
       "<table border=\"1\" class=\"dataframe\">\n",
       "  <thead>\n",
       "    <tr style=\"text-align: right;\">\n",
       "      <th></th>\n",
       "      <th>Title</th>\n",
       "      <th>Company</th>\n",
       "      <th>Experience_Required</th>\n",
       "      <th>Location</th>\n",
       "    </tr>\n",
       "  </thead>\n",
       "  <tbody>\n",
       "    <tr>\n",
       "      <th>0</th>\n",
       "      <td>Opening For Data Scientist</td>\n",
       "      <td>Care Health Insurance</td>\n",
       "      <td>1-5 Yrs</td>\n",
       "      <td>Gurgaon/Gurugram</td>\n",
       "    </tr>\n",
       "    <tr>\n",
       "      <th>1</th>\n",
       "      <td>Hiring For Senior Data Scientist-Noida</td>\n",
       "      <td>Lumiq.ai</td>\n",
       "      <td>2-6 Yrs</td>\n",
       "      <td>Noida, Greater Noida, Delhi / NCR</td>\n",
       "    </tr>\n",
       "    <tr>\n",
       "      <th>2</th>\n",
       "      <td>Data Scientist/ Machine Learning, 2022 Passout...</td>\n",
       "      <td>Creative Hands HR Consultancy</td>\n",
       "      <td>0-4 Yrs</td>\n",
       "      <td>Hyderabad/Secunderabad, Ahmedabad, Chennai, Ba...</td>\n",
       "    </tr>\n",
       "    <tr>\n",
       "      <th>3</th>\n",
       "      <td>Lead Data Scientist</td>\n",
       "      <td>KIA INDIA PRIVATE LIMITED</td>\n",
       "      <td>7-10 Yrs</td>\n",
       "      <td>Gurgaon/Gurugram</td>\n",
       "    </tr>\n",
       "    <tr>\n",
       "      <th>4</th>\n",
       "      <td>Data Scientist (freelance)</td>\n",
       "      <td>2Coms</td>\n",
       "      <td>2-7 Yrs</td>\n",
       "      <td>New Delhi, Delhi</td>\n",
       "    </tr>\n",
       "    <tr>\n",
       "      <th>5</th>\n",
       "      <td>Senior Data Scientist</td>\n",
       "      <td>Optum</td>\n",
       "      <td>2-7 Yrs</td>\n",
       "      <td>Noida</td>\n",
       "    </tr>\n",
       "    <tr>\n",
       "      <th>6</th>\n",
       "      <td>Data Scientist</td>\n",
       "      <td>BlackBuck</td>\n",
       "      <td>3-7 Yrs</td>\n",
       "      <td>Gurgaon, Bengaluru</td>\n",
       "    </tr>\n",
       "    <tr>\n",
       "      <th>7</th>\n",
       "      <td>Data Scientist</td>\n",
       "      <td>Boston Consulting Group</td>\n",
       "      <td>2-5 Yrs</td>\n",
       "      <td>New Delhi</td>\n",
       "    </tr>\n",
       "    <tr>\n",
       "      <th>8</th>\n",
       "      <td>Urgent Requirement || Data Scientist || Noida</td>\n",
       "      <td>HCL Technologies</td>\n",
       "      <td>3-8 Yrs</td>\n",
       "      <td>Noida, Delhi / NCR</td>\n",
       "    </tr>\n",
       "    <tr>\n",
       "      <th>9</th>\n",
       "      <td>Data Scientist - Python/SQL</td>\n",
       "      <td>AVE-Promagne</td>\n",
       "      <td>3-8 Yrs</td>\n",
       "      <td>Noida, Kota, Mumbai, Chandigarh, Lucknow, Agra...</td>\n",
       "    </tr>\n",
       "  </tbody>\n",
       "</table>\n",
       "</div>"
      ],
      "text/plain": [
       "                                               Title  \\\n",
       "0                         Opening For Data Scientist   \n",
       "1             Hiring For Senior Data Scientist-Noida   \n",
       "2  Data Scientist/ Machine Learning, 2022 Passout...   \n",
       "3                                Lead Data Scientist   \n",
       "4                         Data Scientist (freelance)   \n",
       "5                              Senior Data Scientist   \n",
       "6                                     Data Scientist   \n",
       "7                                     Data Scientist   \n",
       "8      Urgent Requirement || Data Scientist || Noida   \n",
       "9                        Data Scientist - Python/SQL   \n",
       "\n",
       "                         Company Experience_Required  \\\n",
       "0          Care Health Insurance             1-5 Yrs   \n",
       "1                       Lumiq.ai             2-6 Yrs   \n",
       "2  Creative Hands HR Consultancy             0-4 Yrs   \n",
       "3      KIA INDIA PRIVATE LIMITED            7-10 Yrs   \n",
       "4                          2Coms             2-7 Yrs   \n",
       "5                          Optum             2-7 Yrs   \n",
       "6                      BlackBuck             3-7 Yrs   \n",
       "7        Boston Consulting Group             2-5 Yrs   \n",
       "8               HCL Technologies             3-8 Yrs   \n",
       "9                   AVE-Promagne             3-8 Yrs   \n",
       "\n",
       "                                            Location  \n",
       "0                                   Gurgaon/Gurugram  \n",
       "1                  Noida, Greater Noida, Delhi / NCR  \n",
       "2  Hyderabad/Secunderabad, Ahmedabad, Chennai, Ba...  \n",
       "3                                   Gurgaon/Gurugram  \n",
       "4                                   New Delhi, Delhi  \n",
       "5                                              Noida  \n",
       "6                                 Gurgaon, Bengaluru  \n",
       "7                                          New Delhi  \n",
       "8                                 Noida, Delhi / NCR  \n",
       "9  Noida, Kota, Mumbai, Chandigarh, Lucknow, Agra...  "
      ]
     },
     "execution_count": 62,
     "metadata": {},
     "output_type": "execute_result"
    }
   ],
   "source": [
    "ds_jobs"
   ]
  },
  {
   "cell_type": "code",
   "execution_count": null,
   "id": "85fdfa5f",
   "metadata": {},
   "outputs": [],
   "source": []
  },
  {
   "cell_type": "markdown",
   "id": "2031a754",
   "metadata": {},
   "source": [
    "Q4."
   ]
  },
  {
   "cell_type": "code",
   "execution_count": 63,
   "id": "21a186c3",
   "metadata": {},
   "outputs": [],
   "source": [
    "import selenium\n",
    "import pandas as pd\n",
    "from selenium import webdriver\n",
    "import warnings\n",
    "warnings.filterwarnings(\"ignore\")\n",
    "import time"
   ]
  },
  {
   "cell_type": "code",
   "execution_count": 64,
   "id": "269a64dd",
   "metadata": {},
   "outputs": [],
   "source": [
    "driver_4=webdriver.Chrome(r\"C:\\Users\\user\\Downloads\\chromedriver_win32\\chromedriver.exe\")"
   ]
  },
  {
   "cell_type": "code",
   "execution_count": 65,
   "id": "aa3f356f",
   "metadata": {},
   "outputs": [],
   "source": [
    "driver_4.get('https://flipkart.com/')"
   ]
  },
  {
   "cell_type": "code",
   "execution_count": 66,
   "id": "8b6b9ef6",
   "metadata": {},
   "outputs": [],
   "source": [
    "try:\n",
    "    search_button_4=driver_4.find_element_by_xpath(\"/html/body/div[2]/div/div/button\")\n",
    "    search_button_4.click()\n",
    "except:\n",
    "    pass"
   ]
  },
  {
   "cell_type": "code",
   "execution_count": 67,
   "id": "26de6296",
   "metadata": {},
   "outputs": [],
   "source": [
    "search_field_4=driver_4.find_element_by_class_name(\"_3704LK\")\n",
    "search_field_4.send_keys(\"sunglasses\")"
   ]
  },
  {
   "cell_type": "code",
   "execution_count": 68,
   "id": "9a54d93d",
   "metadata": {},
   "outputs": [],
   "source": [
    "search_button_4=driver_4.find_element_by_xpath(\"/html/body/div[1]/div/div[1]/div[1]/div[2]/div[2]/form/div/button\")\n",
    "search_button_4.click()"
   ]
  },
  {
   "cell_type": "code",
   "execution_count": 69,
   "id": "bc02edd1",
   "metadata": {},
   "outputs": [],
   "source": [
    "brands_4=[]\n",
    "prod_desc_4=[]\n",
    "prices_4=[]\n",
    "discount_4=[]\n",
    "count=0\n",
    "while count < 100:\n",
    "    brand4=driver_4.find_elements_by_xpath('//div[@class=\"_2WkVRV\"]')\n",
    "    proddesc4=driver_4.find_elements_by_xpath('//a[starts-with (@class,\"IRpwTa\")]')\n",
    "    price4=driver_4.find_elements_by_xpath('//div[@class=\"_30jeq3\"]')\n",
    "    discount4=driver_4.find_elements_by_xpath('//div[@class=\"_3Ay6Sb\"]/span')\n",
    "    for i in range(len(brand4)):\n",
    "        count += 1\n",
    "        if count == 101:\n",
    "            break\n",
    "        else:\n",
    "            brands_4.append(brand4[i].text)\n",
    "            prod_desc_4.append(proddesc4[i].text)\n",
    "            prices_4.append(price4[i].text[1:])\n",
    "            discount_4.append(discount4[i].text)\n",
    "    search_button_4=driver_4.find_element_by_xpath('/html/body/div[1]/div/div[3]/div[1]/div[2]/div[12]/div/div/nav/a[11]')\n",
    "    search_button_4.click()\n",
    "    time.sleep(5)"
   ]
  },
  {
   "cell_type": "code",
   "execution_count": 70,
   "id": "eb85cc4d",
   "metadata": {},
   "outputs": [],
   "source": [
    "data_4=list(zip(brands_4,prod_desc_4,prices_4,discount_4))"
   ]
  },
  {
   "cell_type": "code",
   "execution_count": 71,
   "id": "91180c2f",
   "metadata": {},
   "outputs": [
    {
     "data": {
      "text/html": [
       "<div>\n",
       "<style scoped>\n",
       "    .dataframe tbody tr th:only-of-type {\n",
       "        vertical-align: middle;\n",
       "    }\n",
       "\n",
       "    .dataframe tbody tr th {\n",
       "        vertical-align: top;\n",
       "    }\n",
       "\n",
       "    .dataframe thead th {\n",
       "        text-align: right;\n",
       "    }\n",
       "</style>\n",
       "<table border=\"1\" class=\"dataframe\">\n",
       "  <thead>\n",
       "    <tr style=\"text-align: right;\">\n",
       "      <th></th>\n",
       "      <th>Brand of Sunglasses</th>\n",
       "      <th>Product Description</th>\n",
       "      <th>Price of Sunglasses</th>\n",
       "      <th>Discount %</th>\n",
       "    </tr>\n",
       "  </thead>\n",
       "  <tbody>\n",
       "    <tr>\n",
       "      <th>0</th>\n",
       "      <td>ROYAL SON</td>\n",
       "      <td>Polarized, UV Protection Aviator Sunglasses (57)</td>\n",
       "      <td>759</td>\n",
       "      <td>62% off</td>\n",
       "    </tr>\n",
       "    <tr>\n",
       "      <th>1</th>\n",
       "      <td>ROYAL SON</td>\n",
       "      <td>Polarized Retro Square Sunglasses (61)</td>\n",
       "      <td>664</td>\n",
       "      <td>55% off</td>\n",
       "    </tr>\n",
       "    <tr>\n",
       "      <th>2</th>\n",
       "      <td>Elligator</td>\n",
       "      <td>UV Protection Round Sunglasses (54)</td>\n",
       "      <td>295</td>\n",
       "      <td>88% off</td>\n",
       "    </tr>\n",
       "    <tr>\n",
       "      <th>3</th>\n",
       "      <td>SRPM</td>\n",
       "      <td>UV Protection Wayfarer Sunglasses (50)</td>\n",
       "      <td>249</td>\n",
       "      <td>80% off</td>\n",
       "    </tr>\n",
       "    <tr>\n",
       "      <th>4</th>\n",
       "      <td>Fastrack</td>\n",
       "      <td>UV Protection Wayfarer Sunglasses (Free Size)</td>\n",
       "      <td>759</td>\n",
       "      <td>15% off</td>\n",
       "    </tr>\n",
       "    <tr>\n",
       "      <th>...</th>\n",
       "      <td>...</td>\n",
       "      <td>...</td>\n",
       "      <td>...</td>\n",
       "      <td>...</td>\n",
       "    </tr>\n",
       "    <tr>\n",
       "      <th>95</th>\n",
       "      <td>PIRASO</td>\n",
       "      <td>UV Protection Oval Sunglasses (55)</td>\n",
       "      <td>349</td>\n",
       "      <td>78% off</td>\n",
       "    </tr>\n",
       "    <tr>\n",
       "      <th>96</th>\n",
       "      <td>Urbanic</td>\n",
       "      <td>Others Retro Square Sunglasses (Free Size)</td>\n",
       "      <td>469</td>\n",
       "      <td>47% off</td>\n",
       "    </tr>\n",
       "    <tr>\n",
       "      <th>97</th>\n",
       "      <td>AISLIN</td>\n",
       "      <td>UV Protection, Gradient Butterfly, Over-sized ...</td>\n",
       "      <td>458</td>\n",
       "      <td>78% off</td>\n",
       "    </tr>\n",
       "    <tr>\n",
       "      <th>98</th>\n",
       "      <td>ROYAL SON</td>\n",
       "      <td>UV Protection Over-sized Sunglasses (62)</td>\n",
       "      <td>699</td>\n",
       "      <td>53% off</td>\n",
       "    </tr>\n",
       "    <tr>\n",
       "      <th>99</th>\n",
       "      <td>PIRASO</td>\n",
       "      <td>UV Protection Round Sunglasses (Free Size)</td>\n",
       "      <td>399</td>\n",
       "      <td>84% off</td>\n",
       "    </tr>\n",
       "  </tbody>\n",
       "</table>\n",
       "<p>100 rows × 4 columns</p>\n",
       "</div>"
      ],
      "text/plain": [
       "   Brand of Sunglasses                                Product Description  \\\n",
       "0            ROYAL SON   Polarized, UV Protection Aviator Sunglasses (57)   \n",
       "1            ROYAL SON             Polarized Retro Square Sunglasses (61)   \n",
       "2            Elligator                UV Protection Round Sunglasses (54)   \n",
       "3                 SRPM             UV Protection Wayfarer Sunglasses (50)   \n",
       "4             Fastrack      UV Protection Wayfarer Sunglasses (Free Size)   \n",
       "..                 ...                                                ...   \n",
       "95              PIRASO                 UV Protection Oval Sunglasses (55)   \n",
       "96             Urbanic         Others Retro Square Sunglasses (Free Size)   \n",
       "97              AISLIN  UV Protection, Gradient Butterfly, Over-sized ...   \n",
       "98           ROYAL SON           UV Protection Over-sized Sunglasses (62)   \n",
       "99              PIRASO         UV Protection Round Sunglasses (Free Size)   \n",
       "\n",
       "   Price of Sunglasses Discount %  \n",
       "0                  759    62% off  \n",
       "1                  664    55% off  \n",
       "2                  295    88% off  \n",
       "3                  249    80% off  \n",
       "4                  759    15% off  \n",
       "..                 ...        ...  \n",
       "95                 349    78% off  \n",
       "96                 469    47% off  \n",
       "97                 458    78% off  \n",
       "98                 699    53% off  \n",
       "99                 399    84% off  \n",
       "\n",
       "[100 rows x 4 columns]"
      ]
     },
     "execution_count": 71,
     "metadata": {},
     "output_type": "execute_result"
    }
   ],
   "source": [
    "df_sunglasses=pd.DataFrame(data_4,columns=['Brand of Sunglasses','Product Description','Price of Sunglasses','Discount %'])\n",
    "df_sunglasses"
   ]
  },
  {
   "cell_type": "code",
   "execution_count": null,
   "id": "a1f5d937",
   "metadata": {},
   "outputs": [],
   "source": []
  },
  {
   "cell_type": "markdown",
   "id": "73d09733",
   "metadata": {},
   "source": [
    "Q5."
   ]
  },
  {
   "cell_type": "code",
   "execution_count": 72,
   "id": "b8fcebd6",
   "metadata": {},
   "outputs": [],
   "source": [
    "import selenium\n",
    "import pandas as pd\n",
    "from selenium import webdriver\n",
    "import warnings\n",
    "warnings.filterwarnings(\"ignore\")\n",
    "import time"
   ]
  },
  {
   "cell_type": "code",
   "execution_count": 73,
   "id": "d7d02dd5",
   "metadata": {},
   "outputs": [],
   "source": [
    "driver_5=webdriver.Chrome(r\"C:\\Users\\user\\Downloads\\chromedriver_win32\\chromedriver.exe\")"
   ]
  },
  {
   "cell_type": "code",
   "execution_count": 74,
   "id": "87f6d83b",
   "metadata": {},
   "outputs": [],
   "source": [
    "driver_5.get('https://www.flipkart.com/apple-iphone-11-black-64-gb-includes- earpods-power- adapter/p/itm0f37c2240b217?pid=MOBFKCTSVZAXUHGR&lid=LSTMOBFKC TSVZAXUHGREPBFGI&marketplace')"
   ]
  },
  {
   "cell_type": "code",
   "execution_count": 75,
   "id": "2d5ba8d3",
   "metadata": {},
   "outputs": [],
   "source": [
    "try:\n",
    "    search_button_5=driver_5.find_element_by_xpath(\"/html/body/div[2]/div/div/button\")\n",
    "    search_button_5.click()\n",
    "except:\n",
    "    pass"
   ]
  },
  {
   "cell_type": "code",
   "execution_count": 76,
   "id": "59e8fc8e",
   "metadata": {},
   "outputs": [],
   "source": [
    "search_button_5=driver_5.find_element_by_xpath(\"/html/body/div[1]/div/div[3]/div[1]/div[2]/div[8]/div/div/div[5]/div/a/div\")\n",
    "search_button_5.click()"
   ]
  },
  {
   "cell_type": "code",
   "execution_count": 77,
   "id": "d59abe35",
   "metadata": {},
   "outputs": [],
   "source": [
    "rating_5=[]\n",
    "review_summary_5=[]\n",
    "full_review_5=[]\n",
    "count=0\n",
    "while count < 100:\n",
    "    rating5=driver_5.find_elements_by_xpath('//div[@class=\"_3LWZlK _1BLPMq\"]')\n",
    "    reviewsum5=driver_5.find_elements_by_xpath('//p[@class=\"_2-N8zT\"]')\n",
    "    fullrev5=driver_5.find_elements_by_xpath('//div[@class=\"t-ZTKy\"]')\n",
    "    for i in range(len(rating5)):\n",
    "        count += 1\n",
    "        if count == 101:\n",
    "            break\n",
    "        else:\n",
    "            rating_5.append(rating5[i].text)\n",
    "            review_summary_5.append(reviewsum5[i].text)\n",
    "            full_review_5.append(fullrev5[i].text)\n",
    "    search_button_5=driver_5.find_element_by_xpath('/html/body/div[1]/div/div[3]/div/div/div[2]/div[13]/div/div/nav/a[11]')\n",
    "    search_button_5.click()\n",
    "    time.sleep(5)"
   ]
  },
  {
   "cell_type": "code",
   "execution_count": 78,
   "id": "e491f584",
   "metadata": {},
   "outputs": [],
   "source": [
    "data_5=list(zip(rating_5,review_summary_5,full_review_5))"
   ]
  },
  {
   "cell_type": "code",
   "execution_count": 79,
   "id": "35322ae7",
   "metadata": {},
   "outputs": [
    {
     "data": {
      "text/html": [
       "<div>\n",
       "<style scoped>\n",
       "    .dataframe tbody tr th:only-of-type {\n",
       "        vertical-align: middle;\n",
       "    }\n",
       "\n",
       "    .dataframe tbody tr th {\n",
       "        vertical-align: top;\n",
       "    }\n",
       "\n",
       "    .dataframe thead th {\n",
       "        text-align: right;\n",
       "    }\n",
       "</style>\n",
       "<table border=\"1\" class=\"dataframe\">\n",
       "  <thead>\n",
       "    <tr style=\"text-align: right;\">\n",
       "      <th></th>\n",
       "      <th>Rating</th>\n",
       "      <th>Review Summary</th>\n",
       "      <th>Full Review</th>\n",
       "    </tr>\n",
       "  </thead>\n",
       "  <tbody>\n",
       "    <tr>\n",
       "      <th>0</th>\n",
       "      <td>5</td>\n",
       "      <td>Brilliant</td>\n",
       "      <td>The Best Phone for the Money\\n\\nThe iPhone 11 ...</td>\n",
       "    </tr>\n",
       "    <tr>\n",
       "      <th>1</th>\n",
       "      <td>5</td>\n",
       "      <td>Simply awesome</td>\n",
       "      <td>Really satisfied with the Product I received.....</td>\n",
       "    </tr>\n",
       "    <tr>\n",
       "      <th>2</th>\n",
       "      <td>5</td>\n",
       "      <td>Best in the market!</td>\n",
       "      <td>Great iPhone very snappy experience as apple k...</td>\n",
       "    </tr>\n",
       "    <tr>\n",
       "      <th>3</th>\n",
       "      <td>5</td>\n",
       "      <td>Perfect product!</td>\n",
       "      <td>Amazing phone with great cameras and better ba...</td>\n",
       "    </tr>\n",
       "    <tr>\n",
       "      <th>4</th>\n",
       "      <td>5</td>\n",
       "      <td>Fabulous!</td>\n",
       "      <td>This is my first iOS phone. I am very happy wi...</td>\n",
       "    </tr>\n",
       "    <tr>\n",
       "      <th>...</th>\n",
       "      <td>...</td>\n",
       "      <td>...</td>\n",
       "      <td>...</td>\n",
       "    </tr>\n",
       "    <tr>\n",
       "      <th>95</th>\n",
       "      <td>5</td>\n",
       "      <td>Wonderful</td>\n",
       "      <td>Works seamlessly, I get an avg 1.5 days batter...</td>\n",
       "    </tr>\n",
       "    <tr>\n",
       "      <th>96</th>\n",
       "      <td>4</td>\n",
       "      <td>Delightful</td>\n",
       "      <td>I was using iPhone 6s from a long time and I’v...</td>\n",
       "    </tr>\n",
       "    <tr>\n",
       "      <th>97</th>\n",
       "      <td>5</td>\n",
       "      <td>Simply awesome</td>\n",
       "      <td>Osm &amp; fabulous phone..just upgraded from iPhon...</td>\n",
       "    </tr>\n",
       "    <tr>\n",
       "      <th>98</th>\n",
       "      <td>5</td>\n",
       "      <td>Super!</td>\n",
       "      <td>Thanx Flipkart giving fast delivery with genui...</td>\n",
       "    </tr>\n",
       "    <tr>\n",
       "      <th>99</th>\n",
       "      <td>4</td>\n",
       "      <td>Delightful</td>\n",
       "      <td>Just the display held it from being a 5star ph...</td>\n",
       "    </tr>\n",
       "  </tbody>\n",
       "</table>\n",
       "<p>100 rows × 3 columns</p>\n",
       "</div>"
      ],
      "text/plain": [
       "   Rating       Review Summary  \\\n",
       "0       5            Brilliant   \n",
       "1       5       Simply awesome   \n",
       "2       5  Best in the market!   \n",
       "3       5     Perfect product!   \n",
       "4       5            Fabulous!   \n",
       "..    ...                  ...   \n",
       "95      5            Wonderful   \n",
       "96      4           Delightful   \n",
       "97      5       Simply awesome   \n",
       "98      5               Super!   \n",
       "99      4           Delightful   \n",
       "\n",
       "                                          Full Review  \n",
       "0   The Best Phone for the Money\\n\\nThe iPhone 11 ...  \n",
       "1   Really satisfied with the Product I received.....  \n",
       "2   Great iPhone very snappy experience as apple k...  \n",
       "3   Amazing phone with great cameras and better ba...  \n",
       "4   This is my first iOS phone. I am very happy wi...  \n",
       "..                                                ...  \n",
       "95  Works seamlessly, I get an avg 1.5 days batter...  \n",
       "96  I was using iPhone 6s from a long time and I’v...  \n",
       "97  Osm & fabulous phone..just upgraded from iPhon...  \n",
       "98  Thanx Flipkart giving fast delivery with genui...  \n",
       "99  Just the display held it from being a 5star ph...  \n",
       "\n",
       "[100 rows x 3 columns]"
      ]
     },
     "execution_count": 79,
     "metadata": {},
     "output_type": "execute_result"
    }
   ],
   "source": [
    "df_iphone11=pd.DataFrame(data_5,columns=['Rating','Review Summary','Full Review'])\n",
    "df_iphone11"
   ]
  },
  {
   "cell_type": "code",
   "execution_count": null,
   "id": "8b6df4bb",
   "metadata": {},
   "outputs": [],
   "source": []
  },
  {
   "cell_type": "markdown",
   "id": "79579c77",
   "metadata": {},
   "source": [
    "Q6."
   ]
  },
  {
   "cell_type": "code",
   "execution_count": 80,
   "id": "cae2d6e6",
   "metadata": {},
   "outputs": [],
   "source": [
    "import selenium\n",
    "import pandas as pd\n",
    "from selenium import webdriver\n",
    "import warnings\n",
    "warnings.filterwarnings(\"ignore\")\n",
    "import time"
   ]
  },
  {
   "cell_type": "code",
   "execution_count": 81,
   "id": "fda9e2a1",
   "metadata": {},
   "outputs": [],
   "source": [
    "driver_6=webdriver.Chrome(r\"C:\\Users\\user\\Downloads\\chromedriver_win32\\chromedriver.exe\")"
   ]
  },
  {
   "cell_type": "code",
   "execution_count": 82,
   "id": "2273b3a0",
   "metadata": {},
   "outputs": [],
   "source": [
    "driver_6.get('https://flipkart.com/')"
   ]
  },
  {
   "cell_type": "code",
   "execution_count": 83,
   "id": "f6d7b64d",
   "metadata": {},
   "outputs": [],
   "source": [
    "try:\n",
    "    search_button_6=driver_6.find_element_by_xpath(\"/html/body/div[2]/div/div/button\")\n",
    "    search_button_6.click()\n",
    "except:\n",
    "    pass"
   ]
  },
  {
   "cell_type": "code",
   "execution_count": 84,
   "id": "a650842a",
   "metadata": {},
   "outputs": [],
   "source": [
    "search_field_6=driver_6.find_element_by_class_name(\"_3704LK\")\n",
    "search_field_6.send_keys(\"sneakers\")"
   ]
  },
  {
   "cell_type": "code",
   "execution_count": 85,
   "id": "2059f31a",
   "metadata": {},
   "outputs": [],
   "source": [
    "search_button_6=driver_6.find_element_by_xpath(\"/html/body/div[1]/div/div[1]/div[1]/div[2]/div[2]/form/div/button\")\n",
    "search_button_6.click()"
   ]
  },
  {
   "cell_type": "code",
   "execution_count": 86,
   "id": "da743b6f",
   "metadata": {},
   "outputs": [],
   "source": [
    "brands_6=[]\n",
    "prod_desc_6=[]\n",
    "prices_6=[]\n",
    "discount_6=[]\n",
    "count=0\n",
    "while count < 100:\n",
    "    brand6=driver_6.find_elements_by_xpath('//div[@class=\"_2WkVRV\"]')\n",
    "    proddesc6=driver_6.find_elements_by_xpath('//a[starts-with (@class,\"IRpwTa\")]')\n",
    "    price6=driver_6.find_elements_by_xpath('//div[@class=\"_30jeq3\"]')\n",
    "    discount6=driver_6.find_elements_by_xpath('//div[@class=\"_3Ay6Sb\"]/span')\n",
    "    for i in range(len(brand6)):\n",
    "        count += 1\n",
    "        if count == 101:\n",
    "            break\n",
    "        else:\n",
    "            brands_6.append(brand6[i].text)\n",
    "            prod_desc_6.append(proddesc6[i].text)\n",
    "            prices_6.append(price6[i].text[1:])\n",
    "            discount_6.append(discount6[i].text)\n",
    "    search_button_6=driver_6.find_element_by_xpath('/html/body/div[1]/div/div[3]/div[1]/div[2]/div[12]/div/div/nav/a[11]')\n",
    "    search_button_6.click()\n",
    "    time.sleep(5)"
   ]
  },
  {
   "cell_type": "code",
   "execution_count": 87,
   "id": "83977b7f",
   "metadata": {},
   "outputs": [],
   "source": [
    "data_6=list(zip(brands_6,prod_desc_6,prices_6,discount_6))"
   ]
  },
  {
   "cell_type": "code",
   "execution_count": 88,
   "id": "6584535c",
   "metadata": {},
   "outputs": [
    {
     "data": {
      "text/html": [
       "<div>\n",
       "<style scoped>\n",
       "    .dataframe tbody tr th:only-of-type {\n",
       "        vertical-align: middle;\n",
       "    }\n",
       "\n",
       "    .dataframe tbody tr th {\n",
       "        vertical-align: top;\n",
       "    }\n",
       "\n",
       "    .dataframe thead th {\n",
       "        text-align: right;\n",
       "    }\n",
       "</style>\n",
       "<table border=\"1\" class=\"dataframe\">\n",
       "  <thead>\n",
       "    <tr style=\"text-align: right;\">\n",
       "      <th></th>\n",
       "      <th>Brand of Sneakers</th>\n",
       "      <th>Product Description(Sneaker)</th>\n",
       "      <th>Price of Sneakers</th>\n",
       "      <th>Discount %</th>\n",
       "    </tr>\n",
       "  </thead>\n",
       "  <tbody>\n",
       "    <tr>\n",
       "      <th>0</th>\n",
       "      <td>URBANBOX</td>\n",
       "      <td>Sneakers Sneakers For Men</td>\n",
       "      <td>158</td>\n",
       "      <td>84% off</td>\n",
       "    </tr>\n",
       "    <tr>\n",
       "      <th>1</th>\n",
       "      <td>Magnolia</td>\n",
       "      <td>Sneakers For Men</td>\n",
       "      <td>422</td>\n",
       "      <td>57% off</td>\n",
       "    </tr>\n",
       "    <tr>\n",
       "      <th>2</th>\n",
       "      <td>Chevit</td>\n",
       "      <td>Super Stylish &amp; Trendy Combo Pack of 02 Pairs ...</td>\n",
       "      <td>599</td>\n",
       "      <td>62% off</td>\n",
       "    </tr>\n",
       "    <tr>\n",
       "      <th>3</th>\n",
       "      <td>BRUTON</td>\n",
       "      <td>Modern Trendy Sneakers Shoes Sneakers For Men</td>\n",
       "      <td>209</td>\n",
       "      <td>83% off</td>\n",
       "    </tr>\n",
       "    <tr>\n",
       "      <th>4</th>\n",
       "      <td>Layasa</td>\n",
       "      <td>Sneakers For Men</td>\n",
       "      <td>399</td>\n",
       "      <td>60% off</td>\n",
       "    </tr>\n",
       "    <tr>\n",
       "      <th>...</th>\n",
       "      <td>...</td>\n",
       "      <td>...</td>\n",
       "      <td>...</td>\n",
       "      <td>...</td>\n",
       "    </tr>\n",
       "    <tr>\n",
       "      <th>95</th>\n",
       "      <td>Bata</td>\n",
       "      <td>Canvas Sneaker Sneakers For Men</td>\n",
       "      <td>449</td>\n",
       "      <td>10% off</td>\n",
       "    </tr>\n",
       "    <tr>\n",
       "      <th>96</th>\n",
       "      <td>EZDEZARIO</td>\n",
       "      <td>Casual Sneakers Shoes For Men Sneakers For Men...</td>\n",
       "      <td>399</td>\n",
       "      <td>60% off</td>\n",
       "    </tr>\n",
       "    <tr>\n",
       "      <th>97</th>\n",
       "      <td>WOODLAND</td>\n",
       "      <td>Sneakers For Men</td>\n",
       "      <td>1,286</td>\n",
       "      <td>35% off</td>\n",
       "    </tr>\n",
       "    <tr>\n",
       "      <th>98</th>\n",
       "      <td>PUMA</td>\n",
       "      <td>Puma Turin II Sneakers For Men</td>\n",
       "      <td>1,437</td>\n",
       "      <td>70% off</td>\n",
       "    </tr>\n",
       "    <tr>\n",
       "      <th>99</th>\n",
       "      <td>SPARX</td>\n",
       "      <td>Sneakers For Men</td>\n",
       "      <td>699</td>\n",
       "      <td>22% off</td>\n",
       "    </tr>\n",
       "  </tbody>\n",
       "</table>\n",
       "<p>100 rows × 4 columns</p>\n",
       "</div>"
      ],
      "text/plain": [
       "   Brand of Sneakers                       Product Description(Sneaker)  \\\n",
       "0           URBANBOX                          Sneakers Sneakers For Men   \n",
       "1           Magnolia                                   Sneakers For Men   \n",
       "2             Chevit  Super Stylish & Trendy Combo Pack of 02 Pairs ...   \n",
       "3             BRUTON      Modern Trendy Sneakers Shoes Sneakers For Men   \n",
       "4             Layasa                                   Sneakers For Men   \n",
       "..               ...                                                ...   \n",
       "95              Bata                    Canvas Sneaker Sneakers For Men   \n",
       "96         EZDEZARIO  Casual Sneakers Shoes For Men Sneakers For Men...   \n",
       "97          WOODLAND                                   Sneakers For Men   \n",
       "98              PUMA                     Puma Turin II Sneakers For Men   \n",
       "99             SPARX                                   Sneakers For Men   \n",
       "\n",
       "   Price of Sneakers Discount %  \n",
       "0                158    84% off  \n",
       "1                422    57% off  \n",
       "2                599    62% off  \n",
       "3                209    83% off  \n",
       "4                399    60% off  \n",
       "..               ...        ...  \n",
       "95               449    10% off  \n",
       "96               399    60% off  \n",
       "97             1,286    35% off  \n",
       "98             1,437    70% off  \n",
       "99               699    22% off  \n",
       "\n",
       "[100 rows x 4 columns]"
      ]
     },
     "execution_count": 88,
     "metadata": {},
     "output_type": "execute_result"
    }
   ],
   "source": [
    "df_sneakers=pd.DataFrame(data_6,columns=['Brand of Sneakers','Product Description(Sneaker)','Price of Sneakers','Discount %'])\n",
    "df_sneakers"
   ]
  },
  {
   "cell_type": "code",
   "execution_count": null,
   "id": "0ac9b1c7",
   "metadata": {},
   "outputs": [],
   "source": []
  },
  {
   "cell_type": "markdown",
   "id": "5375e7f7",
   "metadata": {},
   "source": [
    "Q7."
   ]
  },
  {
   "cell_type": "code",
   "execution_count": 89,
   "id": "287a6891",
   "metadata": {},
   "outputs": [],
   "source": [
    "import selenium\n",
    "import pandas as pd\n",
    "from selenium import webdriver\n",
    "import warnings\n",
    "warnings.filterwarnings(\"ignore\")\n",
    "import time"
   ]
  },
  {
   "cell_type": "code",
   "execution_count": 90,
   "id": "1bdd3b19",
   "metadata": {},
   "outputs": [],
   "source": [
    "driver_7=webdriver.Chrome(r\"C:\\Users\\user\\Downloads\\chromedriver_win32\\chromedriver.exe\")"
   ]
  },
  {
   "cell_type": "code",
   "execution_count": 91,
   "id": "a126551b",
   "metadata": {},
   "outputs": [],
   "source": [
    "driver_7.get('https://www.myntra.com/shoes')"
   ]
  },
  {
   "cell_type": "code",
   "execution_count": 92,
   "id": "914a84bd",
   "metadata": {},
   "outputs": [],
   "source": [
    "price_filter=driver_7.find_element_by_xpath('/html/body/div[2]/div/div[1]/main/div[3]/div[1]/section/div/div[5]/ul/li[2]/label/div')\n",
    "price_filter.click()"
   ]
  },
  {
   "cell_type": "code",
   "execution_count": 93,
   "id": "d05d8ccc",
   "metadata": {},
   "outputs": [],
   "source": [
    "color_filter=driver_7.find_element_by_xpath('/html/body/div[2]/div/div[1]/main/div[3]/div[1]/section/div/div[6]/ul/li[1]/label/div')\n",
    "color_filter.click()"
   ]
  },
  {
   "cell_type": "code",
   "execution_count": 94,
   "id": "21fb71c8",
   "metadata": {},
   "outputs": [],
   "source": [
    "url_7=\"https://www.myntra.com/shoes?f=Color%3ABlack_36454f&rf=Price%3A7187.0_14125.0_7187.0%20TO%2014125.0\""
   ]
  },
  {
   "cell_type": "code",
   "execution_count": 95,
   "id": "95b350c9",
   "metadata": {},
   "outputs": [],
   "source": [
    "driver_7.get(url_7)"
   ]
  },
  {
   "cell_type": "code",
   "execution_count": 96,
   "id": "634c0ea2",
   "metadata": {},
   "outputs": [],
   "source": [
    "brand_myntra=[]\n",
    "shoe_desc_myntra=[]\n",
    "price_myntra=[]"
   ]
  },
  {
   "cell_type": "code",
   "execution_count": 97,
   "id": "888f2ab2",
   "metadata": {},
   "outputs": [
    {
     "data": {
      "text/plain": [
       "[<selenium.webdriver.remote.webelement.WebElement (session=\"0809be1bc85cfb8aa040af9fe2339cc5\", element=\"5dd0f370-0ad6-498f-8a16-20fbb220780d\")>,\n",
       " <selenium.webdriver.remote.webelement.WebElement (session=\"0809be1bc85cfb8aa040af9fe2339cc5\", element=\"6447cb46-6d1c-4a75-8f42-9e0fee1de1e7\")>,\n",
       " <selenium.webdriver.remote.webelement.WebElement (session=\"0809be1bc85cfb8aa040af9fe2339cc5\", element=\"c21824e5-c1e3-4810-941e-b41ebb320041\")>,\n",
       " <selenium.webdriver.remote.webelement.WebElement (session=\"0809be1bc85cfb8aa040af9fe2339cc5\", element=\"47e0f0d6-f867-41a9-b305-459165e942df\")>,\n",
       " <selenium.webdriver.remote.webelement.WebElement (session=\"0809be1bc85cfb8aa040af9fe2339cc5\", element=\"71d503b4-828d-4f72-9802-9b2531b8dc85\")>,\n",
       " <selenium.webdriver.remote.webelement.WebElement (session=\"0809be1bc85cfb8aa040af9fe2339cc5\", element=\"67d5cf56-c900-4924-a709-299783285c3d\")>,\n",
       " <selenium.webdriver.remote.webelement.WebElement (session=\"0809be1bc85cfb8aa040af9fe2339cc5\", element=\"c440e2e1-9784-4e80-98f4-36661fda0634\")>,\n",
       " <selenium.webdriver.remote.webelement.WebElement (session=\"0809be1bc85cfb8aa040af9fe2339cc5\", element=\"989da45a-ebe3-4e15-8526-d32eb7f0fc41\")>,\n",
       " <selenium.webdriver.remote.webelement.WebElement (session=\"0809be1bc85cfb8aa040af9fe2339cc5\", element=\"31bff9c0-53a6-408d-98e5-f428d23c4608\")>,\n",
       " <selenium.webdriver.remote.webelement.WebElement (session=\"0809be1bc85cfb8aa040af9fe2339cc5\", element=\"8779502a-78d9-458b-97f6-a81faced94e9\")>,\n",
       " <selenium.webdriver.remote.webelement.WebElement (session=\"0809be1bc85cfb8aa040af9fe2339cc5\", element=\"232b1161-d860-4260-a9a9-0f6080cb32e0\")>,\n",
       " <selenium.webdriver.remote.webelement.WebElement (session=\"0809be1bc85cfb8aa040af9fe2339cc5\", element=\"d3fa3b3a-9338-4b69-b09f-c45d734f6f37\")>,\n",
       " <selenium.webdriver.remote.webelement.WebElement (session=\"0809be1bc85cfb8aa040af9fe2339cc5\", element=\"751004e2-657b-4cca-b780-16a525db4be1\")>,\n",
       " <selenium.webdriver.remote.webelement.WebElement (session=\"0809be1bc85cfb8aa040af9fe2339cc5\", element=\"79350323-1960-47f3-a301-a8a4771a25ea\")>,\n",
       " <selenium.webdriver.remote.webelement.WebElement (session=\"0809be1bc85cfb8aa040af9fe2339cc5\", element=\"df9a67a9-0865-44c2-893b-3448b763fdda\")>,\n",
       " <selenium.webdriver.remote.webelement.WebElement (session=\"0809be1bc85cfb8aa040af9fe2339cc5\", element=\"7da6f41b-674f-4420-8e2a-ac7942e4baf5\")>,\n",
       " <selenium.webdriver.remote.webelement.WebElement (session=\"0809be1bc85cfb8aa040af9fe2339cc5\", element=\"93275522-cfea-4a4b-a8ba-c33a9f72e0fb\")>,\n",
       " <selenium.webdriver.remote.webelement.WebElement (session=\"0809be1bc85cfb8aa040af9fe2339cc5\", element=\"7500d90f-ea44-46a3-abd1-3fbfc9110321\")>,\n",
       " <selenium.webdriver.remote.webelement.WebElement (session=\"0809be1bc85cfb8aa040af9fe2339cc5\", element=\"21a80ef6-8fdc-49c4-8e13-2a870430d1e3\")>,\n",
       " <selenium.webdriver.remote.webelement.WebElement (session=\"0809be1bc85cfb8aa040af9fe2339cc5\", element=\"7c35ba7c-bde4-4da3-9d84-5b4817763b2d\")>,\n",
       " <selenium.webdriver.remote.webelement.WebElement (session=\"0809be1bc85cfb8aa040af9fe2339cc5\", element=\"3d3d8ef6-ecc4-4770-92a5-1219d9693bea\")>,\n",
       " <selenium.webdriver.remote.webelement.WebElement (session=\"0809be1bc85cfb8aa040af9fe2339cc5\", element=\"52f72226-ba81-4a23-99e6-b7dc49dababe\")>,\n",
       " <selenium.webdriver.remote.webelement.WebElement (session=\"0809be1bc85cfb8aa040af9fe2339cc5\", element=\"a6f9ca65-f638-459d-9c24-63944a472174\")>,\n",
       " <selenium.webdriver.remote.webelement.WebElement (session=\"0809be1bc85cfb8aa040af9fe2339cc5\", element=\"5d36d2fd-488a-49d6-99ed-ed7b919396a6\")>,\n",
       " <selenium.webdriver.remote.webelement.WebElement (session=\"0809be1bc85cfb8aa040af9fe2339cc5\", element=\"e6bb11be-e069-42ea-aed0-c6da197ff9f2\")>,\n",
       " <selenium.webdriver.remote.webelement.WebElement (session=\"0809be1bc85cfb8aa040af9fe2339cc5\", element=\"54823543-221e-4f1c-bf96-e1e6826d4159\")>,\n",
       " <selenium.webdriver.remote.webelement.WebElement (session=\"0809be1bc85cfb8aa040af9fe2339cc5\", element=\"3c170575-0c53-46e6-a47d-e820e2b4e0ee\")>,\n",
       " <selenium.webdriver.remote.webelement.WebElement (session=\"0809be1bc85cfb8aa040af9fe2339cc5\", element=\"aaffdf37-52aa-4f25-9fce-b691e7fa024d\")>,\n",
       " <selenium.webdriver.remote.webelement.WebElement (session=\"0809be1bc85cfb8aa040af9fe2339cc5\", element=\"af1a799e-3d24-4706-9b41-7702dd678f39\")>,\n",
       " <selenium.webdriver.remote.webelement.WebElement (session=\"0809be1bc85cfb8aa040af9fe2339cc5\", element=\"e7e04ac4-853a-4122-8c9d-8c257d77a60f\")>,\n",
       " <selenium.webdriver.remote.webelement.WebElement (session=\"0809be1bc85cfb8aa040af9fe2339cc5\", element=\"e49429fd-e4ad-4451-b748-820d957852c0\")>,\n",
       " <selenium.webdriver.remote.webelement.WebElement (session=\"0809be1bc85cfb8aa040af9fe2339cc5\", element=\"72312fee-6954-4c60-a244-f631da36ff60\")>,\n",
       " <selenium.webdriver.remote.webelement.WebElement (session=\"0809be1bc85cfb8aa040af9fe2339cc5\", element=\"bccce183-f0d9-487e-8753-dd76896cff58\")>,\n",
       " <selenium.webdriver.remote.webelement.WebElement (session=\"0809be1bc85cfb8aa040af9fe2339cc5\", element=\"ba3ff842-6496-462d-bd46-91d8c6db81f3\")>,\n",
       " <selenium.webdriver.remote.webelement.WebElement (session=\"0809be1bc85cfb8aa040af9fe2339cc5\", element=\"2a57e3a2-2201-45b6-9336-2d872d7a7267\")>,\n",
       " <selenium.webdriver.remote.webelement.WebElement (session=\"0809be1bc85cfb8aa040af9fe2339cc5\", element=\"41a94317-88d8-4e78-8a00-9be14264358b\")>,\n",
       " <selenium.webdriver.remote.webelement.WebElement (session=\"0809be1bc85cfb8aa040af9fe2339cc5\", element=\"c5c62735-23e0-489d-8a21-cbbd87146d2a\")>,\n",
       " <selenium.webdriver.remote.webelement.WebElement (session=\"0809be1bc85cfb8aa040af9fe2339cc5\", element=\"080756a7-0b86-4c14-82fe-663599fad461\")>,\n",
       " <selenium.webdriver.remote.webelement.WebElement (session=\"0809be1bc85cfb8aa040af9fe2339cc5\", element=\"e0335419-0571-495e-afea-0b480ec9f818\")>,\n",
       " <selenium.webdriver.remote.webelement.WebElement (session=\"0809be1bc85cfb8aa040af9fe2339cc5\", element=\"899e1bb3-d55d-4d67-a8c8-28adf4d09c01\")>,\n",
       " <selenium.webdriver.remote.webelement.WebElement (session=\"0809be1bc85cfb8aa040af9fe2339cc5\", element=\"04827a0e-a1b6-4a4e-bd29-3496c873c91d\")>,\n",
       " <selenium.webdriver.remote.webelement.WebElement (session=\"0809be1bc85cfb8aa040af9fe2339cc5\", element=\"7727cdc4-e4a9-49d9-b959-90a475027620\")>,\n",
       " <selenium.webdriver.remote.webelement.WebElement (session=\"0809be1bc85cfb8aa040af9fe2339cc5\", element=\"d846c17d-6cc1-494b-ba64-a05b70832b83\")>,\n",
       " <selenium.webdriver.remote.webelement.WebElement (session=\"0809be1bc85cfb8aa040af9fe2339cc5\", element=\"d9944285-0610-4e2a-84e4-7c3126f10a5b\")>,\n",
       " <selenium.webdriver.remote.webelement.WebElement (session=\"0809be1bc85cfb8aa040af9fe2339cc5\", element=\"8b3e697d-5ea3-406f-9d47-c2aca71e3be1\")>,\n",
       " <selenium.webdriver.remote.webelement.WebElement (session=\"0809be1bc85cfb8aa040af9fe2339cc5\", element=\"08f754f4-c2d9-41d9-8dce-ed2acb100786\")>,\n",
       " <selenium.webdriver.remote.webelement.WebElement (session=\"0809be1bc85cfb8aa040af9fe2339cc5\", element=\"83122582-6892-4b29-b7fc-3cdaed43ba4f\")>,\n",
       " <selenium.webdriver.remote.webelement.WebElement (session=\"0809be1bc85cfb8aa040af9fe2339cc5\", element=\"47b35241-d926-4eb3-a7df-376448f075a6\")>,\n",
       " <selenium.webdriver.remote.webelement.WebElement (session=\"0809be1bc85cfb8aa040af9fe2339cc5\", element=\"5ba87c47-3461-4e21-9e06-971e8d14791d\")>,\n",
       " <selenium.webdriver.remote.webelement.WebElement (session=\"0809be1bc85cfb8aa040af9fe2339cc5\", element=\"82a004c3-41ca-4fb4-a6af-f68a967c3a9f\")>]"
      ]
     },
     "execution_count": 97,
     "metadata": {},
     "output_type": "execute_result"
    }
   ],
   "source": [
    "brand_tags_myn1=driver_7.find_elements_by_xpath('//h3[@class=\"product-brand\"]')\n",
    "brand_tags_myn1"
   ]
  },
  {
   "cell_type": "code",
   "execution_count": 98,
   "id": "e2743b36",
   "metadata": {},
   "outputs": [
    {
     "data": {
      "text/plain": [
       "['ALDO',\n",
       " 'ALDO',\n",
       " 'Skechers',\n",
       " 'ALDO',\n",
       " 'ALDO',\n",
       " 'ADIDAS',\n",
       " 'Hush Puppies',\n",
       " 'Puma',\n",
       " 'Skechers',\n",
       " 'ALDO',\n",
       " 'Puma',\n",
       " 'Skechers',\n",
       " 'Skechers',\n",
       " 'PUMA Motorsport',\n",
       " 'PUMA Motorsport',\n",
       " 'Tommy Hilfiger',\n",
       " 'ADIDAS',\n",
       " 'Puma',\n",
       " 'Puma',\n",
       " 'Hush Puppies',\n",
       " 'Hush Puppies',\n",
       " 'ADIDAS Originals',\n",
       " 'PUMA Motorsport',\n",
       " 'Bugatti',\n",
       " 'Bugatti',\n",
       " 'Clarks',\n",
       " 'Columbia',\n",
       " 'PUMA Motorsport',\n",
       " 'DAVINCHI',\n",
       " 'ADIDAS',\n",
       " 'Puma',\n",
       " 'Hush Puppies',\n",
       " 'Tommy Hilfiger',\n",
       " 'Tommy Hilfiger',\n",
       " 'PUMA Motorsport',\n",
       " 'Bugatti',\n",
       " 'Bugatti',\n",
       " 'Bugatti',\n",
       " 'ALDO',\n",
       " 'DEL MONDO',\n",
       " 'Puma',\n",
       " 'Bugatti',\n",
       " 'FILA',\n",
       " 'PERFLY By Decathlon',\n",
       " 'Puma',\n",
       " 'Bugatti',\n",
       " 'Nike',\n",
       " 'Saint G',\n",
       " 'ADIDAS Originals',\n",
       " 'ADIDAS']"
      ]
     },
     "execution_count": 98,
     "metadata": {},
     "output_type": "execute_result"
    }
   ],
   "source": [
    "for i in brand_tags_myn1:\n",
    "    br1=i.text\n",
    "    brand_myntra.append(br1)\n",
    "brand_myntra"
   ]
  },
  {
   "cell_type": "code",
   "execution_count": 99,
   "id": "934941d9",
   "metadata": {},
   "outputs": [
    {
     "data": {
      "text/plain": [
       "[<selenium.webdriver.remote.webelement.WebElement (session=\"0809be1bc85cfb8aa040af9fe2339cc5\", element=\"75cdd39a-3d55-474a-bcfc-999e01bdec86\")>,\n",
       " <selenium.webdriver.remote.webelement.WebElement (session=\"0809be1bc85cfb8aa040af9fe2339cc5\", element=\"197f6832-c083-4513-95c2-b4606979ac92\")>,\n",
       " <selenium.webdriver.remote.webelement.WebElement (session=\"0809be1bc85cfb8aa040af9fe2339cc5\", element=\"39c03975-f04e-4a6a-b78b-f1aeae3bd3e7\")>,\n",
       " <selenium.webdriver.remote.webelement.WebElement (session=\"0809be1bc85cfb8aa040af9fe2339cc5\", element=\"391ebc3c-e9c0-4cc5-90a0-7b460603b126\")>,\n",
       " <selenium.webdriver.remote.webelement.WebElement (session=\"0809be1bc85cfb8aa040af9fe2339cc5\", element=\"142881c2-0974-4dc4-af65-f48af5fc3d6f\")>,\n",
       " <selenium.webdriver.remote.webelement.WebElement (session=\"0809be1bc85cfb8aa040af9fe2339cc5\", element=\"332b558b-030f-4a8b-893c-ff79aa7248e5\")>,\n",
       " <selenium.webdriver.remote.webelement.WebElement (session=\"0809be1bc85cfb8aa040af9fe2339cc5\", element=\"20b092da-015e-4e35-b21d-a1bc69538267\")>,\n",
       " <selenium.webdriver.remote.webelement.WebElement (session=\"0809be1bc85cfb8aa040af9fe2339cc5\", element=\"3ea6e37c-af6e-4919-9ad2-e371a581aabc\")>,\n",
       " <selenium.webdriver.remote.webelement.WebElement (session=\"0809be1bc85cfb8aa040af9fe2339cc5\", element=\"295707c5-db6d-41a2-94fc-3ef2a147040c\")>,\n",
       " <selenium.webdriver.remote.webelement.WebElement (session=\"0809be1bc85cfb8aa040af9fe2339cc5\", element=\"d2930e48-bfff-4a2f-a7d0-4f507501f6e8\")>,\n",
       " <selenium.webdriver.remote.webelement.WebElement (session=\"0809be1bc85cfb8aa040af9fe2339cc5\", element=\"82c07a5d-a608-4f09-a0f2-6f74a7554372\")>,\n",
       " <selenium.webdriver.remote.webelement.WebElement (session=\"0809be1bc85cfb8aa040af9fe2339cc5\", element=\"4b359284-ac4f-4cbe-bcba-18e180300734\")>,\n",
       " <selenium.webdriver.remote.webelement.WebElement (session=\"0809be1bc85cfb8aa040af9fe2339cc5\", element=\"86a2d6b4-372c-43a6-a190-d406c091005e\")>,\n",
       " <selenium.webdriver.remote.webelement.WebElement (session=\"0809be1bc85cfb8aa040af9fe2339cc5\", element=\"ab8cde32-d833-4576-982d-44563eb09796\")>,\n",
       " <selenium.webdriver.remote.webelement.WebElement (session=\"0809be1bc85cfb8aa040af9fe2339cc5\", element=\"0bee7d5a-4acf-455e-b5f1-976d3c0e17ab\")>,\n",
       " <selenium.webdriver.remote.webelement.WebElement (session=\"0809be1bc85cfb8aa040af9fe2339cc5\", element=\"40679124-40cd-4e74-a66a-c201b9983b70\")>,\n",
       " <selenium.webdriver.remote.webelement.WebElement (session=\"0809be1bc85cfb8aa040af9fe2339cc5\", element=\"3f6ee359-ba54-4f61-bbf1-bf5bf077bdcd\")>,\n",
       " <selenium.webdriver.remote.webelement.WebElement (session=\"0809be1bc85cfb8aa040af9fe2339cc5\", element=\"14f32ac1-ad9b-401e-93df-989bc3e10647\")>,\n",
       " <selenium.webdriver.remote.webelement.WebElement (session=\"0809be1bc85cfb8aa040af9fe2339cc5\", element=\"1d3e68ff-68b9-44cb-ac4b-8bd99538b93e\")>,\n",
       " <selenium.webdriver.remote.webelement.WebElement (session=\"0809be1bc85cfb8aa040af9fe2339cc5\", element=\"c35be7b9-fab6-4738-9510-500d595f242e\")>,\n",
       " <selenium.webdriver.remote.webelement.WebElement (session=\"0809be1bc85cfb8aa040af9fe2339cc5\", element=\"fb1a5f64-6ad0-42ab-961f-a3a86cd2f6dc\")>,\n",
       " <selenium.webdriver.remote.webelement.WebElement (session=\"0809be1bc85cfb8aa040af9fe2339cc5\", element=\"b2f65676-64f2-4eac-a288-a9dec6be154e\")>,\n",
       " <selenium.webdriver.remote.webelement.WebElement (session=\"0809be1bc85cfb8aa040af9fe2339cc5\", element=\"6b24b241-5983-474a-b34b-91ae85cd6d85\")>,\n",
       " <selenium.webdriver.remote.webelement.WebElement (session=\"0809be1bc85cfb8aa040af9fe2339cc5\", element=\"d46a0b0f-7c80-48bc-af04-70b7c12d1ec0\")>,\n",
       " <selenium.webdriver.remote.webelement.WebElement (session=\"0809be1bc85cfb8aa040af9fe2339cc5\", element=\"5e31b5f5-73a8-401d-8110-5f1e4ed6dcf5\")>,\n",
       " <selenium.webdriver.remote.webelement.WebElement (session=\"0809be1bc85cfb8aa040af9fe2339cc5\", element=\"d06726ab-5c37-49a8-a147-9476c925759e\")>,\n",
       " <selenium.webdriver.remote.webelement.WebElement (session=\"0809be1bc85cfb8aa040af9fe2339cc5\", element=\"0d8f1b25-c4ca-447b-aa61-b39638bc061a\")>,\n",
       " <selenium.webdriver.remote.webelement.WebElement (session=\"0809be1bc85cfb8aa040af9fe2339cc5\", element=\"c9ee2e22-9704-4981-aea6-ce7b12f255cd\")>,\n",
       " <selenium.webdriver.remote.webelement.WebElement (session=\"0809be1bc85cfb8aa040af9fe2339cc5\", element=\"dfe94216-607a-420d-b768-c2ed4bb3183f\")>,\n",
       " <selenium.webdriver.remote.webelement.WebElement (session=\"0809be1bc85cfb8aa040af9fe2339cc5\", element=\"20d07102-bf48-40b8-8fe1-f257aad9bc08\")>,\n",
       " <selenium.webdriver.remote.webelement.WebElement (session=\"0809be1bc85cfb8aa040af9fe2339cc5\", element=\"06c81f65-b0b7-4ce0-bc29-57da91edf5b3\")>,\n",
       " <selenium.webdriver.remote.webelement.WebElement (session=\"0809be1bc85cfb8aa040af9fe2339cc5\", element=\"e52e55f8-0d13-488b-be6f-5a86dc58caa6\")>,\n",
       " <selenium.webdriver.remote.webelement.WebElement (session=\"0809be1bc85cfb8aa040af9fe2339cc5\", element=\"7c74d503-2f8d-4d3d-a83e-46300c2abcb9\")>,\n",
       " <selenium.webdriver.remote.webelement.WebElement (session=\"0809be1bc85cfb8aa040af9fe2339cc5\", element=\"7a94385b-f144-41cd-bb95-76fa6b608b7e\")>,\n",
       " <selenium.webdriver.remote.webelement.WebElement (session=\"0809be1bc85cfb8aa040af9fe2339cc5\", element=\"31952734-8d80-4787-985f-01c8963aca42\")>,\n",
       " <selenium.webdriver.remote.webelement.WebElement (session=\"0809be1bc85cfb8aa040af9fe2339cc5\", element=\"d939def8-b6f0-4726-9a4e-3926d3f88d51\")>,\n",
       " <selenium.webdriver.remote.webelement.WebElement (session=\"0809be1bc85cfb8aa040af9fe2339cc5\", element=\"4f17bd46-9608-4664-8d4b-93262ae76b89\")>,\n",
       " <selenium.webdriver.remote.webelement.WebElement (session=\"0809be1bc85cfb8aa040af9fe2339cc5\", element=\"20f875c8-5b98-4f01-861e-f0eb7a2e6013\")>,\n",
       " <selenium.webdriver.remote.webelement.WebElement (session=\"0809be1bc85cfb8aa040af9fe2339cc5\", element=\"e1f9aec6-9dbf-40cb-bc87-19317fd4569a\")>,\n",
       " <selenium.webdriver.remote.webelement.WebElement (session=\"0809be1bc85cfb8aa040af9fe2339cc5\", element=\"b9b73922-d477-4aea-96b4-2ea0d2fee64d\")>,\n",
       " <selenium.webdriver.remote.webelement.WebElement (session=\"0809be1bc85cfb8aa040af9fe2339cc5\", element=\"780c755d-64a1-4d62-95c4-dd22063c9bea\")>,\n",
       " <selenium.webdriver.remote.webelement.WebElement (session=\"0809be1bc85cfb8aa040af9fe2339cc5\", element=\"efe8ab50-5ffa-469c-a086-beee17e6f00a\")>,\n",
       " <selenium.webdriver.remote.webelement.WebElement (session=\"0809be1bc85cfb8aa040af9fe2339cc5\", element=\"92f36ba5-c551-4074-b7b8-043129a201ae\")>,\n",
       " <selenium.webdriver.remote.webelement.WebElement (session=\"0809be1bc85cfb8aa040af9fe2339cc5\", element=\"fd8b8e2f-5d2b-424c-ab60-0875c4753339\")>,\n",
       " <selenium.webdriver.remote.webelement.WebElement (session=\"0809be1bc85cfb8aa040af9fe2339cc5\", element=\"bbd1a3bb-7a59-41e4-ba20-58d76381df08\")>,\n",
       " <selenium.webdriver.remote.webelement.WebElement (session=\"0809be1bc85cfb8aa040af9fe2339cc5\", element=\"4202bb24-66b2-4735-a104-9e76393f7ab0\")>,\n",
       " <selenium.webdriver.remote.webelement.WebElement (session=\"0809be1bc85cfb8aa040af9fe2339cc5\", element=\"1d87f5b0-0fc6-402d-8455-75799ea6782e\")>,\n",
       " <selenium.webdriver.remote.webelement.WebElement (session=\"0809be1bc85cfb8aa040af9fe2339cc5\", element=\"3c070364-c4b3-4f17-acf0-1698c9e3142e\")>,\n",
       " <selenium.webdriver.remote.webelement.WebElement (session=\"0809be1bc85cfb8aa040af9fe2339cc5\", element=\"888c72c3-c22d-4b76-8df0-3158b3430808\")>,\n",
       " <selenium.webdriver.remote.webelement.WebElement (session=\"0809be1bc85cfb8aa040af9fe2339cc5\", element=\"ad005ba7-4e08-42e2-a488-f0674a175680\")>]"
      ]
     },
     "execution_count": 99,
     "metadata": {},
     "output_type": "execute_result"
    }
   ],
   "source": [
    "shoe_desc_tags_myn1=driver_7.find_elements_by_xpath('//h4[@class=\"product-product\"]')\n",
    "shoe_desc_tags_myn1"
   ]
  },
  {
   "cell_type": "code",
   "execution_count": 100,
   "id": "8bed9997",
   "metadata": {},
   "outputs": [
    {
     "data": {
      "text/plain": [
       "['Men Leather Loafers',\n",
       " 'Men Leather Driving Shoes',\n",
       " 'Men Max Cushioning Running',\n",
       " 'Men Printed Sneakers',\n",
       " 'Men Woven Design Sneakers',\n",
       " 'Men Dropset Training Shoes',\n",
       " 'Men Solid Leather Formal Slip-Ons',\n",
       " 'Men Colourblocked RS-Z Core',\n",
       " 'Men Sky Vault Walking Shoes',\n",
       " 'Men Leather Loafers',\n",
       " 'Eternity Nitro Running Shoes',\n",
       " 'Men Walking Shoes',\n",
       " 'Men Monster Vertex Sneakers',\n",
       " 'Unisex Speed Fusion Sneakers',\n",
       " 'Unisex Ferrari IONSpeed',\n",
       " 'Men Textured Loafers',\n",
       " 'Men Sl20.3 Running Shoes',\n",
       " 'Men Deviate Nitro Shoes',\n",
       " 'Electrify Nitro Running Shoes',\n",
       " 'Men Solid Leather Formal Derbys',\n",
       " 'Men Solid Leather Formal Slip-Ons',\n",
       " 'Men Streetball II Sneakers',\n",
       " 'Unisex Ferrari Drift Cat Delta',\n",
       " 'Men Solid Sneakers',\n",
       " 'Men Leather Driving Shoes',\n",
       " 'Men Leather Derbys',\n",
       " 'Men FACET OUTDRY Trekking Shoe',\n",
       " 'Unisex Mercedes F1 Sneakers',\n",
       " 'Men Solid Leather Formal Loafers',\n",
       " 'Men Solar Glide 5 Running Shoe',\n",
       " 'Women Kosmo Rider DC5 Sneakers',\n",
       " 'Men Solid Formal Slip-Ons',\n",
       " 'Men Leather Sneakers',\n",
       " 'Men Flexi Sneakers',\n",
       " 'Men ZenonSpeed Sneakers',\n",
       " 'Men Solid Formal Oxfords',\n",
       " 'Men Solid Leather Formal Derbys',\n",
       " 'Men Black Formal Derby Shoes',\n",
       " 'Men Leather Formal Derbys',\n",
       " 'Men Leather Sneakers',\n",
       " 'Men D Nitro WTR Running Shoes',\n",
       " 'Men Leather Monks',\n",
       " 'Men Printed Trekking Shoes',\n",
       " 'Men Textile Badminton Shoes',\n",
       " 'Women XT FTR Training Shoes',\n",
       " 'Men Walking Shoes',\n",
       " 'Men Air Max Dawn Sneakers',\n",
       " 'Leather Block Sandals',\n",
       " 'Women Nmd R1 Disney Sneakers',\n",
       " 'Women KarlieKlossX9000 Running']"
      ]
     },
     "execution_count": 100,
     "metadata": {},
     "output_type": "execute_result"
    }
   ],
   "source": [
    "for i in shoe_desc_tags_myn1:\n",
    "    sd1=i.text\n",
    "    shoe_desc_myntra.append(sd1)\n",
    "shoe_desc_myntra"
   ]
  },
  {
   "cell_type": "code",
   "execution_count": 101,
   "id": "9aaafa79",
   "metadata": {},
   "outputs": [
    {
     "data": {
      "text/plain": [
       "[<selenium.webdriver.remote.webelement.WebElement (session=\"0809be1bc85cfb8aa040af9fe2339cc5\", element=\"adb3a592-1b04-4714-9c28-f14c9706654e\")>,\n",
       " <selenium.webdriver.remote.webelement.WebElement (session=\"0809be1bc85cfb8aa040af9fe2339cc5\", element=\"1204ce9b-0e2e-4975-8f99-30f196a9f86b\")>,\n",
       " <selenium.webdriver.remote.webelement.WebElement (session=\"0809be1bc85cfb8aa040af9fe2339cc5\", element=\"5d5d4379-0e76-4ad1-9647-ff31d70aaddb\")>,\n",
       " <selenium.webdriver.remote.webelement.WebElement (session=\"0809be1bc85cfb8aa040af9fe2339cc5\", element=\"f49eebec-ff4b-4eb3-aff1-6f8132e008f9\")>,\n",
       " <selenium.webdriver.remote.webelement.WebElement (session=\"0809be1bc85cfb8aa040af9fe2339cc5\", element=\"2739fabd-2f6a-4f1d-8b51-55ab11746926\")>,\n",
       " <selenium.webdriver.remote.webelement.WebElement (session=\"0809be1bc85cfb8aa040af9fe2339cc5\", element=\"04e4101e-48a7-4eb8-874a-c20506054b1e\")>,\n",
       " <selenium.webdriver.remote.webelement.WebElement (session=\"0809be1bc85cfb8aa040af9fe2339cc5\", element=\"0f64c779-27c2-4c45-be4a-3dc2476dd85e\")>,\n",
       " <selenium.webdriver.remote.webelement.WebElement (session=\"0809be1bc85cfb8aa040af9fe2339cc5\", element=\"0b0f6bc1-20ae-41fe-a2aa-2f22b49c2dd0\")>,\n",
       " <selenium.webdriver.remote.webelement.WebElement (session=\"0809be1bc85cfb8aa040af9fe2339cc5\", element=\"fa842af7-bc18-40d7-8523-4dd6297ddc3c\")>,\n",
       " <selenium.webdriver.remote.webelement.WebElement (session=\"0809be1bc85cfb8aa040af9fe2339cc5\", element=\"5d97f787-8c90-4772-aeaa-40ae0399cad9\")>,\n",
       " <selenium.webdriver.remote.webelement.WebElement (session=\"0809be1bc85cfb8aa040af9fe2339cc5\", element=\"fa0aab73-a558-4300-9bd7-6fcbb60e4894\")>,\n",
       " <selenium.webdriver.remote.webelement.WebElement (session=\"0809be1bc85cfb8aa040af9fe2339cc5\", element=\"b1454708-c4a1-46b1-8117-3d5623aa7d67\")>,\n",
       " <selenium.webdriver.remote.webelement.WebElement (session=\"0809be1bc85cfb8aa040af9fe2339cc5\", element=\"46939faf-316c-4c0c-bd65-3d6f39ceb961\")>,\n",
       " <selenium.webdriver.remote.webelement.WebElement (session=\"0809be1bc85cfb8aa040af9fe2339cc5\", element=\"6d9c739e-b3f4-40ec-a71a-7f9e665c3372\")>,\n",
       " <selenium.webdriver.remote.webelement.WebElement (session=\"0809be1bc85cfb8aa040af9fe2339cc5\", element=\"723c5eaf-f4a1-4c33-b89b-31f6ea6ac055\")>,\n",
       " <selenium.webdriver.remote.webelement.WebElement (session=\"0809be1bc85cfb8aa040af9fe2339cc5\", element=\"5561ebef-026d-4a56-a554-c8f2498690fd\")>,\n",
       " <selenium.webdriver.remote.webelement.WebElement (session=\"0809be1bc85cfb8aa040af9fe2339cc5\", element=\"c894e007-1126-46ac-950f-f8cc61e041f8\")>,\n",
       " <selenium.webdriver.remote.webelement.WebElement (session=\"0809be1bc85cfb8aa040af9fe2339cc5\", element=\"b44817b1-0496-4a4b-99fd-cf601103eff7\")>,\n",
       " <selenium.webdriver.remote.webelement.WebElement (session=\"0809be1bc85cfb8aa040af9fe2339cc5\", element=\"04b4c394-eccf-404f-bc2a-03029f072d2d\")>,\n",
       " <selenium.webdriver.remote.webelement.WebElement (session=\"0809be1bc85cfb8aa040af9fe2339cc5\", element=\"2edc537b-a80e-4145-bb0f-e516fff9ff9d\")>,\n",
       " <selenium.webdriver.remote.webelement.WebElement (session=\"0809be1bc85cfb8aa040af9fe2339cc5\", element=\"7b5ad92f-90a7-4603-9fb2-2c843bdebd19\")>,\n",
       " <selenium.webdriver.remote.webelement.WebElement (session=\"0809be1bc85cfb8aa040af9fe2339cc5\", element=\"7c276ed2-df59-489a-8a8f-852afb5de979\")>,\n",
       " <selenium.webdriver.remote.webelement.WebElement (session=\"0809be1bc85cfb8aa040af9fe2339cc5\", element=\"fe8460d8-690f-4dc6-8327-3eb0e6009cbb\")>,\n",
       " <selenium.webdriver.remote.webelement.WebElement (session=\"0809be1bc85cfb8aa040af9fe2339cc5\", element=\"8faef0f4-825e-4f4a-8f91-898ca05bfd89\")>,\n",
       " <selenium.webdriver.remote.webelement.WebElement (session=\"0809be1bc85cfb8aa040af9fe2339cc5\", element=\"8e181d3f-3864-42e4-9e79-63b6118d620f\")>,\n",
       " <selenium.webdriver.remote.webelement.WebElement (session=\"0809be1bc85cfb8aa040af9fe2339cc5\", element=\"85370954-9b3a-4699-ab8e-49cad29a3265\")>,\n",
       " <selenium.webdriver.remote.webelement.WebElement (session=\"0809be1bc85cfb8aa040af9fe2339cc5\", element=\"ad1273ef-b876-4eab-acd3-ffe380bf888c\")>,\n",
       " <selenium.webdriver.remote.webelement.WebElement (session=\"0809be1bc85cfb8aa040af9fe2339cc5\", element=\"c21032ed-16b9-47f6-8dd5-2ec3919697d6\")>,\n",
       " <selenium.webdriver.remote.webelement.WebElement (session=\"0809be1bc85cfb8aa040af9fe2339cc5\", element=\"929c338a-7731-4a7e-ba23-0eda5bc3f5a4\")>,\n",
       " <selenium.webdriver.remote.webelement.WebElement (session=\"0809be1bc85cfb8aa040af9fe2339cc5\", element=\"2ff88c7b-ee93-4b7a-a15f-acba38c321f0\")>,\n",
       " <selenium.webdriver.remote.webelement.WebElement (session=\"0809be1bc85cfb8aa040af9fe2339cc5\", element=\"16bc954e-acec-453e-9d92-d1c7a8def5a3\")>,\n",
       " <selenium.webdriver.remote.webelement.WebElement (session=\"0809be1bc85cfb8aa040af9fe2339cc5\", element=\"a67d48bd-9e32-4f9a-bfaf-e8a87b221223\")>,\n",
       " <selenium.webdriver.remote.webelement.WebElement (session=\"0809be1bc85cfb8aa040af9fe2339cc5\", element=\"a3e8ee39-4207-4612-b178-282d13b45ff6\")>,\n",
       " <selenium.webdriver.remote.webelement.WebElement (session=\"0809be1bc85cfb8aa040af9fe2339cc5\", element=\"a2111955-ba4c-4b49-985f-22a056133629\")>,\n",
       " <selenium.webdriver.remote.webelement.WebElement (session=\"0809be1bc85cfb8aa040af9fe2339cc5\", element=\"9c2828c2-fea3-4f10-bb97-37e6b807a99b\")>,\n",
       " <selenium.webdriver.remote.webelement.WebElement (session=\"0809be1bc85cfb8aa040af9fe2339cc5\", element=\"a6201936-6283-4fe1-9d8f-9f374163db3f\")>,\n",
       " <selenium.webdriver.remote.webelement.WebElement (session=\"0809be1bc85cfb8aa040af9fe2339cc5\", element=\"8693f509-ea6e-4f58-8500-1caadd51da34\")>,\n",
       " <selenium.webdriver.remote.webelement.WebElement (session=\"0809be1bc85cfb8aa040af9fe2339cc5\", element=\"daf78652-9a6c-4e64-a583-a6f4c15d3797\")>,\n",
       " <selenium.webdriver.remote.webelement.WebElement (session=\"0809be1bc85cfb8aa040af9fe2339cc5\", element=\"54713c00-8389-4816-b9fd-d43ef1ae7c52\")>,\n",
       " <selenium.webdriver.remote.webelement.WebElement (session=\"0809be1bc85cfb8aa040af9fe2339cc5\", element=\"4c24ba37-7c7d-4d79-b59a-c958812d384e\")>,\n",
       " <selenium.webdriver.remote.webelement.WebElement (session=\"0809be1bc85cfb8aa040af9fe2339cc5\", element=\"1bb906b7-3913-43db-b575-d312c7b8c3bb\")>,\n",
       " <selenium.webdriver.remote.webelement.WebElement (session=\"0809be1bc85cfb8aa040af9fe2339cc5\", element=\"e5f8af30-716f-4ecb-b052-43369be9edf4\")>,\n",
       " <selenium.webdriver.remote.webelement.WebElement (session=\"0809be1bc85cfb8aa040af9fe2339cc5\", element=\"4885bfe8-7a29-4634-a163-4fdc78c0ff62\")>,\n",
       " <selenium.webdriver.remote.webelement.WebElement (session=\"0809be1bc85cfb8aa040af9fe2339cc5\", element=\"aaa077f1-cfbb-4232-858e-a3c96ca3b1db\")>,\n",
       " <selenium.webdriver.remote.webelement.WebElement (session=\"0809be1bc85cfb8aa040af9fe2339cc5\", element=\"eb681bef-921d-4c23-866b-fc4ebc3e72a9\")>,\n",
       " <selenium.webdriver.remote.webelement.WebElement (session=\"0809be1bc85cfb8aa040af9fe2339cc5\", element=\"ede7a64f-6de5-4377-92f1-5a9af2bffec4\")>,\n",
       " <selenium.webdriver.remote.webelement.WebElement (session=\"0809be1bc85cfb8aa040af9fe2339cc5\", element=\"356f6dc2-0845-4f22-a529-11b63794fe94\")>,\n",
       " <selenium.webdriver.remote.webelement.WebElement (session=\"0809be1bc85cfb8aa040af9fe2339cc5\", element=\"39fd7e32-0ede-4da6-9411-9f97e72ffa55\")>,\n",
       " <selenium.webdriver.remote.webelement.WebElement (session=\"0809be1bc85cfb8aa040af9fe2339cc5\", element=\"147fcd2e-00bc-4460-868c-36acb81f7ebf\")>,\n",
       " <selenium.webdriver.remote.webelement.WebElement (session=\"0809be1bc85cfb8aa040af9fe2339cc5\", element=\"be96ab6b-04e6-4522-9774-e28cdf6332b1\")>]"
      ]
     },
     "execution_count": 101,
     "metadata": {},
     "output_type": "execute_result"
    }
   ],
   "source": [
    "price_tags_myn1=driver_7.find_elements_by_xpath('//div[@class=\"product-price\"]')\n",
    "price_tags_myn1"
   ]
  },
  {
   "cell_type": "code",
   "execution_count": 102,
   "id": "e6e6d882",
   "metadata": {},
   "outputs": [
    {
     "data": {
      "text/plain": [
       "['Rs. 11199Rs. 15999(30% OFF)',\n",
       " 'Rs. 9099Rs. 12999(30% OFF)',\n",
       " 'Rs. 8099Rs. 8999(10% OFF)',\n",
       " 'Rs. 9099Rs. 12999(30% OFF)',\n",
       " 'Rs. 13999',\n",
       " 'Rs. 8449Rs. 12999(35% OFF)',\n",
       " 'Rs. 7649Rs. 8999(15% OFF)',\n",
       " 'Rs. 9999',\n",
       " 'Rs. 8099Rs. 8999(10% OFF)',\n",
       " 'Rs. 12999',\n",
       " 'Rs. 12999',\n",
       " 'Rs. 8099Rs. 8999(10% OFF)',\n",
       " 'Rs. 7999',\n",
       " 'Rs. 7999',\n",
       " 'Rs. 8999',\n",
       " 'Rs. 8999',\n",
       " 'Rs. 10799Rs. 11999(10% OFF)',\n",
       " 'Rs. 11999Rs. 14999(20% OFF)',\n",
       " 'Rs. 9999',\n",
       " 'Rs. 8499Rs. 9999(15% OFF)',\n",
       " 'Rs. 8499Rs. 9999(15% OFF)',\n",
       " 'Rs. 11049Rs. 12999(15% OFF)',\n",
       " 'Rs. 7999',\n",
       " 'Rs. 10499',\n",
       " 'Rs. 8499',\n",
       " 'Rs. 7499',\n",
       " 'Rs. 12999',\n",
       " 'Rs. 7999',\n",
       " 'Rs. 8490',\n",
       " 'Rs. 12599Rs. 13999(10% OFF)',\n",
       " 'Rs. 7999',\n",
       " 'Rs. 8499Rs. 9999(15% OFF)',\n",
       " 'Rs. 8599',\n",
       " 'Rs. 7999',\n",
       " 'Rs. 8999',\n",
       " 'Rs. 8999',\n",
       " 'Rs. 9499',\n",
       " 'Rs. 11999',\n",
       " 'Rs. 11899Rs. 16999(30% OFF)',\n",
       " 'Rs. 7890',\n",
       " 'Rs. 11199Rs. 15999(30% OFF)',\n",
       " 'Rs. 8999',\n",
       " 'Rs. 11599',\n",
       " 'Rs. 9211Rs. 9799(6% OFF)',\n",
       " 'Rs. 7499',\n",
       " 'Rs. 7199Rs. 8999(20% OFF)',\n",
       " 'Rs. 7900Rs. 9295(15% OFF)',\n",
       " 'Rs. 9810Rs. 10900(10% OFF)',\n",
       " 'Rs. 12749Rs. 14999(15% OFF)',\n",
       " 'Rs. 13999']"
      ]
     },
     "execution_count": 102,
     "metadata": {},
     "output_type": "execute_result"
    }
   ],
   "source": [
    "for i in price_tags_myn1:\n",
    "    pr1=i.text\n",
    "    price_myntra.append(pr1)\n",
    "price_myntra"
   ]
  },
  {
   "cell_type": "code",
   "execution_count": 103,
   "id": "56230197",
   "metadata": {},
   "outputs": [
    {
     "name": "stdout",
     "output_type": "stream",
     "text": [
      "50 50 50\n"
     ]
    }
   ],
   "source": [
    "print(len(brand_myntra),len(shoe_desc_myntra),len(price_myntra))"
   ]
  },
  {
   "cell_type": "code",
   "execution_count": 104,
   "id": "9722b1f4",
   "metadata": {},
   "outputs": [],
   "source": [
    "next_button_myntra=driver_7.find_element_by_xpath('/html/body/div[2]/div/div[1]/main/div[3]/div[2]/div/div[2]/section/div[2]/ul/li[12]/a')\n",
    "next_button_myntra.click()"
   ]
  },
  {
   "cell_type": "code",
   "execution_count": 105,
   "id": "0cef3150",
   "metadata": {},
   "outputs": [],
   "source": [
    "url_7b=\"https://www.myntra.com/shoes?f=Color%3ABlack_36454f&p=2&rf=Price%3A7187.0_14125.0_7187.0%20TO%2014125.0\""
   ]
  },
  {
   "cell_type": "code",
   "execution_count": 106,
   "id": "8ea4cff3",
   "metadata": {},
   "outputs": [],
   "source": [
    "driver_7.get(url_7b)"
   ]
  },
  {
   "cell_type": "code",
   "execution_count": 107,
   "id": "9e252539",
   "metadata": {},
   "outputs": [
    {
     "data": {
      "text/plain": [
       "[<selenium.webdriver.remote.webelement.WebElement (session=\"0809be1bc85cfb8aa040af9fe2339cc5\", element=\"36247fde-1141-4242-a669-d9cf9cedde87\")>,\n",
       " <selenium.webdriver.remote.webelement.WebElement (session=\"0809be1bc85cfb8aa040af9fe2339cc5\", element=\"568dc169-0c57-4806-a6f9-9f10723506d9\")>,\n",
       " <selenium.webdriver.remote.webelement.WebElement (session=\"0809be1bc85cfb8aa040af9fe2339cc5\", element=\"e8126763-ea2e-4523-ac70-a83a92297aed\")>,\n",
       " <selenium.webdriver.remote.webelement.WebElement (session=\"0809be1bc85cfb8aa040af9fe2339cc5\", element=\"343ffffa-f6fc-4207-83a4-9a97ea481489\")>,\n",
       " <selenium.webdriver.remote.webelement.WebElement (session=\"0809be1bc85cfb8aa040af9fe2339cc5\", element=\"6081532b-f162-422d-ad63-9fda2b129a58\")>,\n",
       " <selenium.webdriver.remote.webelement.WebElement (session=\"0809be1bc85cfb8aa040af9fe2339cc5\", element=\"a9d67309-e22d-42ec-832a-2c6f089ded7d\")>,\n",
       " <selenium.webdriver.remote.webelement.WebElement (session=\"0809be1bc85cfb8aa040af9fe2339cc5\", element=\"f7f07afc-b900-489a-92d7-eceb7f2de7ec\")>,\n",
       " <selenium.webdriver.remote.webelement.WebElement (session=\"0809be1bc85cfb8aa040af9fe2339cc5\", element=\"02450377-7862-463c-970c-8aee31466931\")>,\n",
       " <selenium.webdriver.remote.webelement.WebElement (session=\"0809be1bc85cfb8aa040af9fe2339cc5\", element=\"6f6c1607-17dc-40b4-93bb-83c5bc6f8012\")>,\n",
       " <selenium.webdriver.remote.webelement.WebElement (session=\"0809be1bc85cfb8aa040af9fe2339cc5\", element=\"0a1ff4ec-a578-457c-aafc-8c20f43eb6e9\")>,\n",
       " <selenium.webdriver.remote.webelement.WebElement (session=\"0809be1bc85cfb8aa040af9fe2339cc5\", element=\"aa3fea01-df31-4cda-8341-01ed4d2687c2\")>,\n",
       " <selenium.webdriver.remote.webelement.WebElement (session=\"0809be1bc85cfb8aa040af9fe2339cc5\", element=\"ecee05af-d04c-4855-a6ef-104fe7d8e2f2\")>,\n",
       " <selenium.webdriver.remote.webelement.WebElement (session=\"0809be1bc85cfb8aa040af9fe2339cc5\", element=\"e8118e4b-4643-47fc-84d7-fe73b60ac709\")>,\n",
       " <selenium.webdriver.remote.webelement.WebElement (session=\"0809be1bc85cfb8aa040af9fe2339cc5\", element=\"c2c92e35-26c1-4844-8e6d-9a95ed014665\")>,\n",
       " <selenium.webdriver.remote.webelement.WebElement (session=\"0809be1bc85cfb8aa040af9fe2339cc5\", element=\"e21f1a90-746e-48b6-a858-9bf1d5dd58d9\")>,\n",
       " <selenium.webdriver.remote.webelement.WebElement (session=\"0809be1bc85cfb8aa040af9fe2339cc5\", element=\"bda8e1ad-e49e-4bef-8770-de9c8819ea5c\")>,\n",
       " <selenium.webdriver.remote.webelement.WebElement (session=\"0809be1bc85cfb8aa040af9fe2339cc5\", element=\"f3da3d6e-3095-4e3c-862d-4b2a9df7da52\")>,\n",
       " <selenium.webdriver.remote.webelement.WebElement (session=\"0809be1bc85cfb8aa040af9fe2339cc5\", element=\"4a7d1531-a298-413e-b778-cf523cfb2edd\")>,\n",
       " <selenium.webdriver.remote.webelement.WebElement (session=\"0809be1bc85cfb8aa040af9fe2339cc5\", element=\"24668064-753f-48d2-984d-c935ce56d458\")>,\n",
       " <selenium.webdriver.remote.webelement.WebElement (session=\"0809be1bc85cfb8aa040af9fe2339cc5\", element=\"3cd72cfa-3dd4-4e88-8075-fdd36acef112\")>,\n",
       " <selenium.webdriver.remote.webelement.WebElement (session=\"0809be1bc85cfb8aa040af9fe2339cc5\", element=\"a617a710-7547-4cc4-8d7a-9478870c0cce\")>,\n",
       " <selenium.webdriver.remote.webelement.WebElement (session=\"0809be1bc85cfb8aa040af9fe2339cc5\", element=\"6482fd1f-98d7-4f4d-8832-e81e118a3624\")>,\n",
       " <selenium.webdriver.remote.webelement.WebElement (session=\"0809be1bc85cfb8aa040af9fe2339cc5\", element=\"708bad57-e68d-4b44-93a5-9090d87a3ad1\")>,\n",
       " <selenium.webdriver.remote.webelement.WebElement (session=\"0809be1bc85cfb8aa040af9fe2339cc5\", element=\"e2c45d49-2041-4b20-84d6-1c400872e6c2\")>,\n",
       " <selenium.webdriver.remote.webelement.WebElement (session=\"0809be1bc85cfb8aa040af9fe2339cc5\", element=\"83533f28-ef5e-4074-968f-0b012d18dc01\")>,\n",
       " <selenium.webdriver.remote.webelement.WebElement (session=\"0809be1bc85cfb8aa040af9fe2339cc5\", element=\"280fa733-7886-4542-8d75-84b1003e03d7\")>,\n",
       " <selenium.webdriver.remote.webelement.WebElement (session=\"0809be1bc85cfb8aa040af9fe2339cc5\", element=\"15d306e8-5f0b-4fd8-aff8-9e4a6a0eca90\")>,\n",
       " <selenium.webdriver.remote.webelement.WebElement (session=\"0809be1bc85cfb8aa040af9fe2339cc5\", element=\"3de5dd4f-7524-4d49-b788-d9637236ff3b\")>,\n",
       " <selenium.webdriver.remote.webelement.WebElement (session=\"0809be1bc85cfb8aa040af9fe2339cc5\", element=\"c4f51ec0-3ea4-4c29-ad88-e513c88d1ef3\")>,\n",
       " <selenium.webdriver.remote.webelement.WebElement (session=\"0809be1bc85cfb8aa040af9fe2339cc5\", element=\"661a7225-e0be-4818-b91c-fd1cfd77d42a\")>,\n",
       " <selenium.webdriver.remote.webelement.WebElement (session=\"0809be1bc85cfb8aa040af9fe2339cc5\", element=\"0933a18c-8cd1-499b-b5d2-3b826eb0e86b\")>,\n",
       " <selenium.webdriver.remote.webelement.WebElement (session=\"0809be1bc85cfb8aa040af9fe2339cc5\", element=\"189cbc79-cedc-493f-b110-a1a0469bbfda\")>,\n",
       " <selenium.webdriver.remote.webelement.WebElement (session=\"0809be1bc85cfb8aa040af9fe2339cc5\", element=\"9afa1188-1b74-487c-9280-96086652cdbb\")>,\n",
       " <selenium.webdriver.remote.webelement.WebElement (session=\"0809be1bc85cfb8aa040af9fe2339cc5\", element=\"34af773f-0bfd-4232-a11f-ce43ee724b6f\")>,\n",
       " <selenium.webdriver.remote.webelement.WebElement (session=\"0809be1bc85cfb8aa040af9fe2339cc5\", element=\"dbbb5a4a-dc8f-432d-8166-5cf7d10986d4\")>,\n",
       " <selenium.webdriver.remote.webelement.WebElement (session=\"0809be1bc85cfb8aa040af9fe2339cc5\", element=\"575c4c56-b3b7-4da1-b827-18bec101e2bb\")>,\n",
       " <selenium.webdriver.remote.webelement.WebElement (session=\"0809be1bc85cfb8aa040af9fe2339cc5\", element=\"2e70391c-70fd-4b1a-9fff-a7b2228f1669\")>,\n",
       " <selenium.webdriver.remote.webelement.WebElement (session=\"0809be1bc85cfb8aa040af9fe2339cc5\", element=\"0dccb858-cdb0-4320-bb98-88e1800dbff3\")>,\n",
       " <selenium.webdriver.remote.webelement.WebElement (session=\"0809be1bc85cfb8aa040af9fe2339cc5\", element=\"ce7db19b-38ae-4eef-8272-0b14338f572c\")>,\n",
       " <selenium.webdriver.remote.webelement.WebElement (session=\"0809be1bc85cfb8aa040af9fe2339cc5\", element=\"bc92c17e-c921-42ff-93fb-c735328af21d\")>,\n",
       " <selenium.webdriver.remote.webelement.WebElement (session=\"0809be1bc85cfb8aa040af9fe2339cc5\", element=\"aa3103aa-cdce-4bf1-90d0-63713114c2a5\")>,\n",
       " <selenium.webdriver.remote.webelement.WebElement (session=\"0809be1bc85cfb8aa040af9fe2339cc5\", element=\"9899389a-775f-43dc-a87a-7662511b6c02\")>,\n",
       " <selenium.webdriver.remote.webelement.WebElement (session=\"0809be1bc85cfb8aa040af9fe2339cc5\", element=\"e18e40fd-d4a5-4d83-8f9b-81a2af5be2e8\")>,\n",
       " <selenium.webdriver.remote.webelement.WebElement (session=\"0809be1bc85cfb8aa040af9fe2339cc5\", element=\"dd327d22-2010-4893-b623-fd491594c38d\")>,\n",
       " <selenium.webdriver.remote.webelement.WebElement (session=\"0809be1bc85cfb8aa040af9fe2339cc5\", element=\"7408d2f8-a16d-4c83-9ed3-1f7529cfc383\")>,\n",
       " <selenium.webdriver.remote.webelement.WebElement (session=\"0809be1bc85cfb8aa040af9fe2339cc5\", element=\"4b7cc792-3ce8-402a-9d68-0d94da67d481\")>,\n",
       " <selenium.webdriver.remote.webelement.WebElement (session=\"0809be1bc85cfb8aa040af9fe2339cc5\", element=\"c0ca5495-4609-47bc-a9d4-d874189585cd\")>,\n",
       " <selenium.webdriver.remote.webelement.WebElement (session=\"0809be1bc85cfb8aa040af9fe2339cc5\", element=\"006d0d12-6e70-4f8b-9fab-222e1b925a0e\")>,\n",
       " <selenium.webdriver.remote.webelement.WebElement (session=\"0809be1bc85cfb8aa040af9fe2339cc5\", element=\"ecd143ac-f7a1-4cd3-91b3-d3e85a525fad\")>,\n",
       " <selenium.webdriver.remote.webelement.WebElement (session=\"0809be1bc85cfb8aa040af9fe2339cc5\", element=\"1ff61846-375e-4b9c-97f6-0ad2364ab33f\")>]"
      ]
     },
     "execution_count": 107,
     "metadata": {},
     "output_type": "execute_result"
    }
   ],
   "source": [
    "brand_tags_myn2=driver_7.find_elements_by_xpath('//h3[@class=\"product-brand\"]')\n",
    "brand_tags_myn2"
   ]
  },
  {
   "cell_type": "code",
   "execution_count": 108,
   "id": "61d578c4",
   "metadata": {},
   "outputs": [
    {
     "data": {
      "text/plain": [
       "['ADIDAS',\n",
       " 'ADIDAS',\n",
       " 'Saint G',\n",
       " 'ROSSO BRUNELLO',\n",
       " 'Saint G',\n",
       " 'Geox',\n",
       " 'Columbia',\n",
       " 'Birkenstock',\n",
       " 'Pavers England',\n",
       " 'ECCO',\n",
       " 'DAVINCHI',\n",
       " 'PUMA Motorsport',\n",
       " 'Pavers England',\n",
       " 'Sole To Soul',\n",
       " 'ALDO',\n",
       " 'ALDO',\n",
       " 'Kenkoh',\n",
       " 'ALDO',\n",
       " 'MANGO',\n",
       " 'Saint G',\n",
       " 'ADIDAS Originals',\n",
       " 'Onitsuka Tiger',\n",
       " 'Cole Haan',\n",
       " 'J.FONTINI',\n",
       " 'J.FONTINI',\n",
       " 'Puma',\n",
       " 'Heel & Buckle London',\n",
       " 'ASICS',\n",
       " 'J.FONTINI',\n",
       " 'Geox',\n",
       " 'Saint G',\n",
       " 'Florsheim',\n",
       " 'Geox',\n",
       " 'Columbia',\n",
       " 'J.FONTINI',\n",
       " 'J.FONTINI',\n",
       " 'J.FONTINI',\n",
       " 'Columbia',\n",
       " 'DAVINCHI',\n",
       " 'DAVINCHI',\n",
       " 'DAVINCHI',\n",
       " 'J.FONTINI',\n",
       " 'J.FONTINI',\n",
       " 'DAVINCHI',\n",
       " 'Sole To Soul',\n",
       " 'DAVINCHI',\n",
       " 'Royal Enfield',\n",
       " 'ASICS',\n",
       " 'Columbia',\n",
       " 'ALDO']"
      ]
     },
     "execution_count": 108,
     "metadata": {},
     "output_type": "execute_result"
    }
   ],
   "source": [
    "brand_myntra2=[]\n",
    "for i in brand_tags_myn2:\n",
    "    br2=i.text\n",
    "    brand_myntra2.append(br2)\n",
    "brand_myntra2"
   ]
  },
  {
   "cell_type": "code",
   "execution_count": 109,
   "id": "b42b99a5",
   "metadata": {},
   "outputs": [
    {
     "data": {
      "text/plain": [
       "[<selenium.webdriver.remote.webelement.WebElement (session=\"0809be1bc85cfb8aa040af9fe2339cc5\", element=\"eafbf031-71e5-42a6-a414-31f94e74f4a2\")>,\n",
       " <selenium.webdriver.remote.webelement.WebElement (session=\"0809be1bc85cfb8aa040af9fe2339cc5\", element=\"b25d1ee5-35ec-4574-829d-8d00841f731f\")>,\n",
       " <selenium.webdriver.remote.webelement.WebElement (session=\"0809be1bc85cfb8aa040af9fe2339cc5\", element=\"70132f7e-7c23-4823-ab7e-502e9f823fa3\")>,\n",
       " <selenium.webdriver.remote.webelement.WebElement (session=\"0809be1bc85cfb8aa040af9fe2339cc5\", element=\"bca269bf-f147-4822-8288-31f90d507a76\")>,\n",
       " <selenium.webdriver.remote.webelement.WebElement (session=\"0809be1bc85cfb8aa040af9fe2339cc5\", element=\"1a52c1ff-52f1-49ea-a190-b6667cee9af4\")>,\n",
       " <selenium.webdriver.remote.webelement.WebElement (session=\"0809be1bc85cfb8aa040af9fe2339cc5\", element=\"08d9cd6d-ca01-42dd-8f20-8082b8c13353\")>,\n",
       " <selenium.webdriver.remote.webelement.WebElement (session=\"0809be1bc85cfb8aa040af9fe2339cc5\", element=\"dd253de5-da10-4ba8-9958-655f1d434280\")>,\n",
       " <selenium.webdriver.remote.webelement.WebElement (session=\"0809be1bc85cfb8aa040af9fe2339cc5\", element=\"953a434a-f7c5-44c0-8b16-6797cf0410cd\")>,\n",
       " <selenium.webdriver.remote.webelement.WebElement (session=\"0809be1bc85cfb8aa040af9fe2339cc5\", element=\"cd05ea0e-7276-4f43-8f4c-97cdc1756f45\")>,\n",
       " <selenium.webdriver.remote.webelement.WebElement (session=\"0809be1bc85cfb8aa040af9fe2339cc5\", element=\"50377d17-160b-4acf-a63b-06d9bc1f9520\")>,\n",
       " <selenium.webdriver.remote.webelement.WebElement (session=\"0809be1bc85cfb8aa040af9fe2339cc5\", element=\"42e6eb78-79b5-4ab5-9671-83d0c62ecc12\")>,\n",
       " <selenium.webdriver.remote.webelement.WebElement (session=\"0809be1bc85cfb8aa040af9fe2339cc5\", element=\"8891d2c5-ae85-4a78-bad0-342869c45815\")>,\n",
       " <selenium.webdriver.remote.webelement.WebElement (session=\"0809be1bc85cfb8aa040af9fe2339cc5\", element=\"ec0b01f6-5c86-4bab-8b3d-15172a5c78f6\")>,\n",
       " <selenium.webdriver.remote.webelement.WebElement (session=\"0809be1bc85cfb8aa040af9fe2339cc5\", element=\"9c91fe61-0339-4453-ba51-711e04493e39\")>,\n",
       " <selenium.webdriver.remote.webelement.WebElement (session=\"0809be1bc85cfb8aa040af9fe2339cc5\", element=\"fd1b0b1a-3342-4268-bfd1-af331e1d0a45\")>,\n",
       " <selenium.webdriver.remote.webelement.WebElement (session=\"0809be1bc85cfb8aa040af9fe2339cc5\", element=\"e4d2ab08-ee57-4b47-9acc-4647d93f0d25\")>,\n",
       " <selenium.webdriver.remote.webelement.WebElement (session=\"0809be1bc85cfb8aa040af9fe2339cc5\", element=\"77fda5ff-f342-44bb-a31e-ea563545ae6d\")>,\n",
       " <selenium.webdriver.remote.webelement.WebElement (session=\"0809be1bc85cfb8aa040af9fe2339cc5\", element=\"2ee84e06-34c9-47d3-a2bd-ee1797da3ba6\")>,\n",
       " <selenium.webdriver.remote.webelement.WebElement (session=\"0809be1bc85cfb8aa040af9fe2339cc5\", element=\"50d43b4c-f628-48bb-8f88-cee5c096464a\")>,\n",
       " <selenium.webdriver.remote.webelement.WebElement (session=\"0809be1bc85cfb8aa040af9fe2339cc5\", element=\"050d1a3b-8c33-4ee7-a64f-4d21122cdbff\")>,\n",
       " <selenium.webdriver.remote.webelement.WebElement (session=\"0809be1bc85cfb8aa040af9fe2339cc5\", element=\"636c2341-b25e-4142-8a89-90dee646a104\")>,\n",
       " <selenium.webdriver.remote.webelement.WebElement (session=\"0809be1bc85cfb8aa040af9fe2339cc5\", element=\"d180361c-bae0-4390-8be8-cc5bb910edca\")>,\n",
       " <selenium.webdriver.remote.webelement.WebElement (session=\"0809be1bc85cfb8aa040af9fe2339cc5\", element=\"bef51f6d-3bc1-45ee-8869-d0ebacfa2d36\")>,\n",
       " <selenium.webdriver.remote.webelement.WebElement (session=\"0809be1bc85cfb8aa040af9fe2339cc5\", element=\"d26d2053-d145-4f61-b70a-909e7577ae3f\")>,\n",
       " <selenium.webdriver.remote.webelement.WebElement (session=\"0809be1bc85cfb8aa040af9fe2339cc5\", element=\"bcaadfcd-433c-458e-9ebb-51971b453d85\")>,\n",
       " <selenium.webdriver.remote.webelement.WebElement (session=\"0809be1bc85cfb8aa040af9fe2339cc5\", element=\"dff125df-d589-43ab-891e-474999fc7885\")>,\n",
       " <selenium.webdriver.remote.webelement.WebElement (session=\"0809be1bc85cfb8aa040af9fe2339cc5\", element=\"8b08fc0a-3ab1-43f8-9877-d0e17dc59d7a\")>,\n",
       " <selenium.webdriver.remote.webelement.WebElement (session=\"0809be1bc85cfb8aa040af9fe2339cc5\", element=\"15db0b23-0308-4a06-9bff-b1299117d275\")>,\n",
       " <selenium.webdriver.remote.webelement.WebElement (session=\"0809be1bc85cfb8aa040af9fe2339cc5\", element=\"e1fc75d2-7676-4f17-8232-7d56941a4786\")>,\n",
       " <selenium.webdriver.remote.webelement.WebElement (session=\"0809be1bc85cfb8aa040af9fe2339cc5\", element=\"f8517dae-2b15-41d9-a2cc-1941a1424a58\")>,\n",
       " <selenium.webdriver.remote.webelement.WebElement (session=\"0809be1bc85cfb8aa040af9fe2339cc5\", element=\"6cb767c8-83fe-49ed-8539-50e07a456f91\")>,\n",
       " <selenium.webdriver.remote.webelement.WebElement (session=\"0809be1bc85cfb8aa040af9fe2339cc5\", element=\"a24eaff3-1831-4feb-a122-063381657ffb\")>,\n",
       " <selenium.webdriver.remote.webelement.WebElement (session=\"0809be1bc85cfb8aa040af9fe2339cc5\", element=\"af623d50-50d5-4c09-8c7f-65a1dd72f992\")>,\n",
       " <selenium.webdriver.remote.webelement.WebElement (session=\"0809be1bc85cfb8aa040af9fe2339cc5\", element=\"535bfc44-d380-4a1f-8bf1-7e33ca4827f1\")>,\n",
       " <selenium.webdriver.remote.webelement.WebElement (session=\"0809be1bc85cfb8aa040af9fe2339cc5\", element=\"48d96120-a6a5-437f-b68e-9f5c21c501cb\")>,\n",
       " <selenium.webdriver.remote.webelement.WebElement (session=\"0809be1bc85cfb8aa040af9fe2339cc5\", element=\"32972810-7d59-4b5d-970c-74164ed2c334\")>,\n",
       " <selenium.webdriver.remote.webelement.WebElement (session=\"0809be1bc85cfb8aa040af9fe2339cc5\", element=\"a1639d68-4f3e-4792-bc25-28d7cee04edf\")>,\n",
       " <selenium.webdriver.remote.webelement.WebElement (session=\"0809be1bc85cfb8aa040af9fe2339cc5\", element=\"5be60441-8e79-4ff1-ae6c-6d1f85b32cfd\")>,\n",
       " <selenium.webdriver.remote.webelement.WebElement (session=\"0809be1bc85cfb8aa040af9fe2339cc5\", element=\"951bba7a-c44c-47eb-a847-db81c0f110d7\")>,\n",
       " <selenium.webdriver.remote.webelement.WebElement (session=\"0809be1bc85cfb8aa040af9fe2339cc5\", element=\"a97c57ad-2206-4580-b692-8baa6e528ba9\")>,\n",
       " <selenium.webdriver.remote.webelement.WebElement (session=\"0809be1bc85cfb8aa040af9fe2339cc5\", element=\"cccb5ec0-e84a-404a-a606-e3671a36ed7c\")>,\n",
       " <selenium.webdriver.remote.webelement.WebElement (session=\"0809be1bc85cfb8aa040af9fe2339cc5\", element=\"616da974-ef5e-4128-8e64-3a990f84d1ff\")>,\n",
       " <selenium.webdriver.remote.webelement.WebElement (session=\"0809be1bc85cfb8aa040af9fe2339cc5\", element=\"9c3f5856-76de-489d-a2c1-ee4b08e5fe05\")>,\n",
       " <selenium.webdriver.remote.webelement.WebElement (session=\"0809be1bc85cfb8aa040af9fe2339cc5\", element=\"9f486210-3d79-46ba-9179-bd7e7c8ba76c\")>,\n",
       " <selenium.webdriver.remote.webelement.WebElement (session=\"0809be1bc85cfb8aa040af9fe2339cc5\", element=\"06b37740-3941-447c-9fcc-f4433f150343\")>,\n",
       " <selenium.webdriver.remote.webelement.WebElement (session=\"0809be1bc85cfb8aa040af9fe2339cc5\", element=\"22ad38f2-e1e8-48da-98bc-3a5f2b735277\")>,\n",
       " <selenium.webdriver.remote.webelement.WebElement (session=\"0809be1bc85cfb8aa040af9fe2339cc5\", element=\"9587418c-d71a-4e9e-b15e-85d3eb9d266f\")>,\n",
       " <selenium.webdriver.remote.webelement.WebElement (session=\"0809be1bc85cfb8aa040af9fe2339cc5\", element=\"3778a384-78ed-43ab-932c-44c3b830ab51\")>,\n",
       " <selenium.webdriver.remote.webelement.WebElement (session=\"0809be1bc85cfb8aa040af9fe2339cc5\", element=\"3092100d-2c86-4e7d-927f-3ed7bd701b27\")>,\n",
       " <selenium.webdriver.remote.webelement.WebElement (session=\"0809be1bc85cfb8aa040af9fe2339cc5\", element=\"9ffc599d-9f8c-4684-b238-8e96f7704f0f\")>]"
      ]
     },
     "execution_count": 109,
     "metadata": {},
     "output_type": "execute_result"
    }
   ],
   "source": [
    "shoe_desc_tags_myn2=driver_7.find_elements_by_xpath('//h4[@class=\"product-product\"]')\n",
    "shoe_desc_tags_myn2"
   ]
  },
  {
   "cell_type": "code",
   "execution_count": 110,
   "id": "cb81dc13",
   "metadata": {},
   "outputs": [
    {
     "data": {
      "text/plain": [
       "['Women KarlieKlossX9000 Running',\n",
       " 'Women Dropset Training Shoes',\n",
       " 'Men Mid-Top Chelsea Boots',\n",
       " 'Men Leather Formal Oxfords',\n",
       " 'Men Leather Chelsea Boots',\n",
       " 'Men Leather Driving Shoes',\n",
       " 'Women Trekking Shoes',\n",
       " 'Unisex Boston Super Grip Clogs',\n",
       " 'Men Textured Leather Formal Slip-On Shoes',\n",
       " 'Leather Stiletto Pumps',\n",
       " 'Men Textured Formal Leather Loafers',\n",
       " 'Unisex Porsche Legacy Sneakers',\n",
       " 'Men Leather Driving Shoes',\n",
       " 'High-Top Block Heeled Boots',\n",
       " 'Embellished Wedge Sandals',\n",
       " 'Leather Block Sandals',\n",
       " 'Women Open Toe Flats',\n",
       " 'Women Leather Loafers',\n",
       " 'Embellish Mid-Top Heeled Boots',\n",
       " 'Women Leather Loafers',\n",
       " 'Men Solid Ozweego Sneakers',\n",
       " 'Unisex Ok Basketball MT',\n",
       " 'Men GENERATION ZEROGRAND STITCHLITE',\n",
       " 'Men Textured Leather Loafers',\n",
       " 'Men Textured Leather Loafers',\n",
       " 'Women Eternity NITRO Shoes',\n",
       " 'Men Formal Leather Derby',\n",
       " 'Women Running Shoes',\n",
       " 'Men Solid Loafers',\n",
       " 'Women Leather Pumps',\n",
       " 'Women Leather Block Heels',\n",
       " 'Men Leather Formal Monks',\n",
       " 'Men Printed Slip-On Sneakers',\n",
       " 'Women REDMOND V2 TrekkingShoe',\n",
       " 'Men Leather Formal Loafers',\n",
       " 'Men Leather Formal Loafers',\n",
       " 'Men Black Leather Loafers',\n",
       " 'PEAKFREAK OUTDRY Trekking Shoe',\n",
       " 'Men Formal Leather Slip-Ons',\n",
       " 'Solid Slip On Shoes',\n",
       " 'Ustraa black',\n",
       " 'Men Textured Leather Formal Loafers',\n",
       " 'Men Solid Leather Formal Loafers',\n",
       " 'Men Solid Leather Formal Derbys',\n",
       " 'Platform Peep Toes with Buckles',\n",
       " 'Men Textured Formal Leather Loafers',\n",
       " 'Cabo WP Riding Boots',\n",
       " 'Men Colourblocked PU Sneakers',\n",
       " 'Men SNOWTREKKER Trekking Shoes',\n",
       " 'Leather Slim Heels']"
      ]
     },
     "execution_count": 110,
     "metadata": {},
     "output_type": "execute_result"
    }
   ],
   "source": [
    "shoe_desc_myntra2=[]\n",
    "for i in shoe_desc_tags_myn2:\n",
    "    sd2=i.text\n",
    "    shoe_desc_myntra2.append(sd2)\n",
    "shoe_desc_myntra2"
   ]
  },
  {
   "cell_type": "code",
   "execution_count": 111,
   "id": "7e8f2e3f",
   "metadata": {},
   "outputs": [
    {
     "data": {
      "text/plain": [
       "[<selenium.webdriver.remote.webelement.WebElement (session=\"0809be1bc85cfb8aa040af9fe2339cc5\", element=\"b613a0c4-15f8-48a4-8f47-7e32797d54df\")>,\n",
       " <selenium.webdriver.remote.webelement.WebElement (session=\"0809be1bc85cfb8aa040af9fe2339cc5\", element=\"197ddd35-c1a6-4e2e-805b-09e26c867231\")>,\n",
       " <selenium.webdriver.remote.webelement.WebElement (session=\"0809be1bc85cfb8aa040af9fe2339cc5\", element=\"3231acb3-23ed-47da-b5ca-f4a61e8731d8\")>,\n",
       " <selenium.webdriver.remote.webelement.WebElement (session=\"0809be1bc85cfb8aa040af9fe2339cc5\", element=\"ab15b14f-2085-4dfc-98c0-8c5ecb643adc\")>,\n",
       " <selenium.webdriver.remote.webelement.WebElement (session=\"0809be1bc85cfb8aa040af9fe2339cc5\", element=\"2e8c4e94-0f3f-4c3e-b3a9-0c47a048e16c\")>,\n",
       " <selenium.webdriver.remote.webelement.WebElement (session=\"0809be1bc85cfb8aa040af9fe2339cc5\", element=\"76e9a842-4b2c-4938-9425-fdb39feb23e4\")>,\n",
       " <selenium.webdriver.remote.webelement.WebElement (session=\"0809be1bc85cfb8aa040af9fe2339cc5\", element=\"5b4b074d-cfc0-4f8d-8ca7-ec57a1a6fdc5\")>,\n",
       " <selenium.webdriver.remote.webelement.WebElement (session=\"0809be1bc85cfb8aa040af9fe2339cc5\", element=\"341b0702-0702-4eda-9dc9-ac5ae936f818\")>,\n",
       " <selenium.webdriver.remote.webelement.WebElement (session=\"0809be1bc85cfb8aa040af9fe2339cc5\", element=\"c3d8dea5-d686-462d-b0c9-c50cb799ecf9\")>,\n",
       " <selenium.webdriver.remote.webelement.WebElement (session=\"0809be1bc85cfb8aa040af9fe2339cc5\", element=\"6849a302-9908-4c34-979e-2107540e9242\")>,\n",
       " <selenium.webdriver.remote.webelement.WebElement (session=\"0809be1bc85cfb8aa040af9fe2339cc5\", element=\"d4a42a32-391a-4336-89cc-b167868ad98b\")>,\n",
       " <selenium.webdriver.remote.webelement.WebElement (session=\"0809be1bc85cfb8aa040af9fe2339cc5\", element=\"66b6bea2-b523-4e49-a0d5-df3e3e8cbdb1\")>,\n",
       " <selenium.webdriver.remote.webelement.WebElement (session=\"0809be1bc85cfb8aa040af9fe2339cc5\", element=\"31cb0d66-1cd4-4610-baf6-49219a50d2be\")>,\n",
       " <selenium.webdriver.remote.webelement.WebElement (session=\"0809be1bc85cfb8aa040af9fe2339cc5\", element=\"50ba3690-837c-4d57-8b81-ac229c602249\")>,\n",
       " <selenium.webdriver.remote.webelement.WebElement (session=\"0809be1bc85cfb8aa040af9fe2339cc5\", element=\"77fed99b-e6c3-4720-9870-7bd9d5c05aec\")>,\n",
       " <selenium.webdriver.remote.webelement.WebElement (session=\"0809be1bc85cfb8aa040af9fe2339cc5\", element=\"18d955ab-4016-47ee-b62a-6a4a73b44d34\")>,\n",
       " <selenium.webdriver.remote.webelement.WebElement (session=\"0809be1bc85cfb8aa040af9fe2339cc5\", element=\"580eb8b8-1e46-471b-b3f8-44a5c0ef752d\")>,\n",
       " <selenium.webdriver.remote.webelement.WebElement (session=\"0809be1bc85cfb8aa040af9fe2339cc5\", element=\"82230265-1559-4943-99c3-02b4291b6153\")>,\n",
       " <selenium.webdriver.remote.webelement.WebElement (session=\"0809be1bc85cfb8aa040af9fe2339cc5\", element=\"f8d4ffc7-b5cc-4616-85ea-3fa4d40ccbc9\")>,\n",
       " <selenium.webdriver.remote.webelement.WebElement (session=\"0809be1bc85cfb8aa040af9fe2339cc5\", element=\"7df8b264-0501-417e-883c-c02970777a3a\")>,\n",
       " <selenium.webdriver.remote.webelement.WebElement (session=\"0809be1bc85cfb8aa040af9fe2339cc5\", element=\"9f5c2597-824d-460d-8126-8f37d1226105\")>,\n",
       " <selenium.webdriver.remote.webelement.WebElement (session=\"0809be1bc85cfb8aa040af9fe2339cc5\", element=\"2ec21edc-d31b-44bc-a873-6e1febbfc3f2\")>,\n",
       " <selenium.webdriver.remote.webelement.WebElement (session=\"0809be1bc85cfb8aa040af9fe2339cc5\", element=\"8440ff3d-2e90-469e-a2ba-3774e1e2f345\")>,\n",
       " <selenium.webdriver.remote.webelement.WebElement (session=\"0809be1bc85cfb8aa040af9fe2339cc5\", element=\"da725c87-161e-4a0a-8904-a7f9253f1f45\")>,\n",
       " <selenium.webdriver.remote.webelement.WebElement (session=\"0809be1bc85cfb8aa040af9fe2339cc5\", element=\"e7fc7f98-119e-41b0-bfe6-ac30b3b61f59\")>,\n",
       " <selenium.webdriver.remote.webelement.WebElement (session=\"0809be1bc85cfb8aa040af9fe2339cc5\", element=\"207ca09d-1444-402d-a003-ed41f96bb669\")>,\n",
       " <selenium.webdriver.remote.webelement.WebElement (session=\"0809be1bc85cfb8aa040af9fe2339cc5\", element=\"4e97ef38-8619-4c59-8b0a-7ec4a780d107\")>,\n",
       " <selenium.webdriver.remote.webelement.WebElement (session=\"0809be1bc85cfb8aa040af9fe2339cc5\", element=\"71b77aa3-3deb-4baa-b7d6-1841581a628f\")>,\n",
       " <selenium.webdriver.remote.webelement.WebElement (session=\"0809be1bc85cfb8aa040af9fe2339cc5\", element=\"f1477c07-9ffa-44a1-ad6b-ece64953828b\")>,\n",
       " <selenium.webdriver.remote.webelement.WebElement (session=\"0809be1bc85cfb8aa040af9fe2339cc5\", element=\"c8169a3d-4563-4191-8e99-c0a099001fc4\")>,\n",
       " <selenium.webdriver.remote.webelement.WebElement (session=\"0809be1bc85cfb8aa040af9fe2339cc5\", element=\"755c78b4-0f16-4193-97bc-4268ef462735\")>,\n",
       " <selenium.webdriver.remote.webelement.WebElement (session=\"0809be1bc85cfb8aa040af9fe2339cc5\", element=\"ec24533d-36fe-4047-a210-d9de23c0c43e\")>,\n",
       " <selenium.webdriver.remote.webelement.WebElement (session=\"0809be1bc85cfb8aa040af9fe2339cc5\", element=\"2090c157-9e8e-4a2d-a44a-b967b19f8b44\")>,\n",
       " <selenium.webdriver.remote.webelement.WebElement (session=\"0809be1bc85cfb8aa040af9fe2339cc5\", element=\"e4b3d62b-04d5-49aa-8076-055306fc2750\")>,\n",
       " <selenium.webdriver.remote.webelement.WebElement (session=\"0809be1bc85cfb8aa040af9fe2339cc5\", element=\"0e3b8c63-9aa3-4698-8027-6c7780af4640\")>,\n",
       " <selenium.webdriver.remote.webelement.WebElement (session=\"0809be1bc85cfb8aa040af9fe2339cc5\", element=\"6f1ef191-630f-4230-9ca4-761363856572\")>,\n",
       " <selenium.webdriver.remote.webelement.WebElement (session=\"0809be1bc85cfb8aa040af9fe2339cc5\", element=\"abc8cf87-1a9d-4448-b78d-2076b5517afd\")>,\n",
       " <selenium.webdriver.remote.webelement.WebElement (session=\"0809be1bc85cfb8aa040af9fe2339cc5\", element=\"9e3ad0c6-9261-4f62-8907-87706eafcb96\")>,\n",
       " <selenium.webdriver.remote.webelement.WebElement (session=\"0809be1bc85cfb8aa040af9fe2339cc5\", element=\"b07d5c9c-4f39-4c5e-a7d2-2ebdbab37107\")>,\n",
       " <selenium.webdriver.remote.webelement.WebElement (session=\"0809be1bc85cfb8aa040af9fe2339cc5\", element=\"836fcf76-7b5b-40d6-a598-74c45b70a8f1\")>,\n",
       " <selenium.webdriver.remote.webelement.WebElement (session=\"0809be1bc85cfb8aa040af9fe2339cc5\", element=\"2ebcb14c-f72c-483d-8e0a-49da40b13030\")>,\n",
       " <selenium.webdriver.remote.webelement.WebElement (session=\"0809be1bc85cfb8aa040af9fe2339cc5\", element=\"ade646ab-ad15-4525-bab7-95f918812c0a\")>,\n",
       " <selenium.webdriver.remote.webelement.WebElement (session=\"0809be1bc85cfb8aa040af9fe2339cc5\", element=\"e88d19bf-1cd0-4ec6-baaf-7ccc69f70151\")>,\n",
       " <selenium.webdriver.remote.webelement.WebElement (session=\"0809be1bc85cfb8aa040af9fe2339cc5\", element=\"281acd0c-f43f-45fb-9495-27ef296827db\")>,\n",
       " <selenium.webdriver.remote.webelement.WebElement (session=\"0809be1bc85cfb8aa040af9fe2339cc5\", element=\"98d5f3f6-d2ed-4fec-8243-d779a553914a\")>,\n",
       " <selenium.webdriver.remote.webelement.WebElement (session=\"0809be1bc85cfb8aa040af9fe2339cc5\", element=\"0095e920-621c-427e-aea4-3e954ba99527\")>,\n",
       " <selenium.webdriver.remote.webelement.WebElement (session=\"0809be1bc85cfb8aa040af9fe2339cc5\", element=\"73d9f9c1-9911-486b-8060-82057cea1935\")>,\n",
       " <selenium.webdriver.remote.webelement.WebElement (session=\"0809be1bc85cfb8aa040af9fe2339cc5\", element=\"5653c86f-f4e5-44f6-8030-015899353dc0\")>,\n",
       " <selenium.webdriver.remote.webelement.WebElement (session=\"0809be1bc85cfb8aa040af9fe2339cc5\", element=\"1a8a390a-b1fa-4978-b0be-5fd221aa9fbc\")>,\n",
       " <selenium.webdriver.remote.webelement.WebElement (session=\"0809be1bc85cfb8aa040af9fe2339cc5\", element=\"ff929fb1-f342-4a6b-b3d7-9b34c165bca8\")>]"
      ]
     },
     "execution_count": 111,
     "metadata": {},
     "output_type": "execute_result"
    }
   ],
   "source": [
    "price_tags_myn2=driver_7.find_elements_by_xpath('//div[@class=\"product-price\"]')\n",
    "price_tags_myn2"
   ]
  },
  {
   "cell_type": "code",
   "execution_count": 112,
   "id": "f9fb36d4",
   "metadata": {},
   "outputs": [
    {
     "data": {
      "text/plain": [
       "['Rs. 13999',\n",
       " 'Rs. 8449Rs. 12999(35% OFF)',\n",
       " 'Rs. 10500Rs. 10900(Rs. 400 OFF)',\n",
       " 'Rs. 10999',\n",
       " 'Rs. 10710Rs. 11900(10% OFF)',\n",
       " 'Rs. 9499',\n",
       " 'Rs. 8999',\n",
       " 'Rs. 9290',\n",
       " 'Rs. 9999',\n",
       " 'Rs. 9749Rs. 12999(25% OFF)',\n",
       " 'Rs. 8990',\n",
       " 'Rs. 7999',\n",
       " 'Rs. 7499',\n",
       " 'Rs. 7900',\n",
       " 'Rs. 7999',\n",
       " 'Rs. 7999',\n",
       " 'Rs. 8575',\n",
       " 'Rs. 7699Rs. 10999(30% OFF)',\n",
       " 'Rs. 7990',\n",
       " 'Rs. 7505Rs. 9500(21% OFF)',\n",
       " 'Rs. 9349Rs. 10999(15% OFF)',\n",
       " 'Rs. 7999',\n",
       " 'Rs. 11999',\n",
       " 'Rs. 7990',\n",
       " 'Rs. 8490',\n",
       " 'Rs. 9749Rs. 12999(25% OFF)',\n",
       " 'Rs. 7990',\n",
       " 'Rs. 7999',\n",
       " 'Rs. 8990',\n",
       " 'Rs. 8999',\n",
       " 'Rs. 8550Rs. 9500(10% OFF)',\n",
       " 'Rs. 9995',\n",
       " 'Rs. 10999',\n",
       " 'Rs. 7999',\n",
       " 'Rs. 7490',\n",
       " 'Rs. 7490',\n",
       " 'Rs. 8490',\n",
       " 'Rs. 9999',\n",
       " 'Rs. 8990',\n",
       " 'Rs. 7990',\n",
       " 'Rs. 8990',\n",
       " 'Rs. 8990',\n",
       " 'Rs. 9990',\n",
       " 'Rs. 9990',\n",
       " 'Rs. 7690',\n",
       " 'Rs. 8990',\n",
       " 'Rs. 8075Rs. 8500(5% OFF)',\n",
       " 'Rs. 9999',\n",
       " 'Rs. 11999',\n",
       " 'Rs. 7199Rs. 11999(40% OFF)']"
      ]
     },
     "execution_count": 112,
     "metadata": {},
     "output_type": "execute_result"
    }
   ],
   "source": [
    "price_myntra2=[]\n",
    "for i in price_tags_myn2:\n",
    "    pr2=i.text\n",
    "    price_myntra2.append(pr2)\n",
    "price_myntra2"
   ]
  },
  {
   "cell_type": "code",
   "execution_count": 113,
   "id": "659f49d4",
   "metadata": {},
   "outputs": [
    {
     "name": "stdout",
     "output_type": "stream",
     "text": [
      "50 50 50\n"
     ]
    }
   ],
   "source": [
    "print(len(brand_myntra2),len(shoe_desc_myntra2),len(price_myntra2))"
   ]
  },
  {
   "cell_type": "code",
   "execution_count": 114,
   "id": "1827d14d",
   "metadata": {},
   "outputs": [],
   "source": [
    "brand_myntra.extend(brand_myntra2)\n",
    "shoe_desc_myntra.extend(shoe_desc_myntra2)\n",
    "price_myntra.extend(price_myntra2)"
   ]
  },
  {
   "cell_type": "code",
   "execution_count": 115,
   "id": "84065eac",
   "metadata": {},
   "outputs": [
    {
     "name": "stdout",
     "output_type": "stream",
     "text": [
      "100 100 100\n"
     ]
    }
   ],
   "source": [
    "print(len(brand_myntra),len(shoe_desc_myntra),len(price_myntra))"
   ]
  },
  {
   "cell_type": "code",
   "execution_count": 116,
   "id": "4bbcacaf",
   "metadata": {},
   "outputs": [],
   "source": [
    "myntra_shoes=pd.DataFrame({})\n",
    "myntra_shoes['Brand Name']=brand_myntra\n",
    "myntra_shoes['Shoe Description']=shoe_desc_myntra\n",
    "myntra_shoes['Price']=price_myntra"
   ]
  },
  {
   "cell_type": "code",
   "execution_count": 117,
   "id": "7c7a77ab",
   "metadata": {},
   "outputs": [
    {
     "data": {
      "text/html": [
       "<div>\n",
       "<style scoped>\n",
       "    .dataframe tbody tr th:only-of-type {\n",
       "        vertical-align: middle;\n",
       "    }\n",
       "\n",
       "    .dataframe tbody tr th {\n",
       "        vertical-align: top;\n",
       "    }\n",
       "\n",
       "    .dataframe thead th {\n",
       "        text-align: right;\n",
       "    }\n",
       "</style>\n",
       "<table border=\"1\" class=\"dataframe\">\n",
       "  <thead>\n",
       "    <tr style=\"text-align: right;\">\n",
       "      <th></th>\n",
       "      <th>Brand Name</th>\n",
       "      <th>Shoe Description</th>\n",
       "      <th>Price</th>\n",
       "    </tr>\n",
       "  </thead>\n",
       "  <tbody>\n",
       "    <tr>\n",
       "      <th>0</th>\n",
       "      <td>ALDO</td>\n",
       "      <td>Men Leather Loafers</td>\n",
       "      <td>Rs. 11199Rs. 15999(30% OFF)</td>\n",
       "    </tr>\n",
       "    <tr>\n",
       "      <th>1</th>\n",
       "      <td>ALDO</td>\n",
       "      <td>Men Leather Driving Shoes</td>\n",
       "      <td>Rs. 9099Rs. 12999(30% OFF)</td>\n",
       "    </tr>\n",
       "    <tr>\n",
       "      <th>2</th>\n",
       "      <td>Skechers</td>\n",
       "      <td>Men Max Cushioning Running</td>\n",
       "      <td>Rs. 8099Rs. 8999(10% OFF)</td>\n",
       "    </tr>\n",
       "    <tr>\n",
       "      <th>3</th>\n",
       "      <td>ALDO</td>\n",
       "      <td>Men Printed Sneakers</td>\n",
       "      <td>Rs. 9099Rs. 12999(30% OFF)</td>\n",
       "    </tr>\n",
       "    <tr>\n",
       "      <th>4</th>\n",
       "      <td>ALDO</td>\n",
       "      <td>Men Woven Design Sneakers</td>\n",
       "      <td>Rs. 13999</td>\n",
       "    </tr>\n",
       "    <tr>\n",
       "      <th>...</th>\n",
       "      <td>...</td>\n",
       "      <td>...</td>\n",
       "      <td>...</td>\n",
       "    </tr>\n",
       "    <tr>\n",
       "      <th>95</th>\n",
       "      <td>DAVINCHI</td>\n",
       "      <td>Men Textured Formal Leather Loafers</td>\n",
       "      <td>Rs. 8990</td>\n",
       "    </tr>\n",
       "    <tr>\n",
       "      <th>96</th>\n",
       "      <td>Royal Enfield</td>\n",
       "      <td>Cabo WP Riding Boots</td>\n",
       "      <td>Rs. 8075Rs. 8500(5% OFF)</td>\n",
       "    </tr>\n",
       "    <tr>\n",
       "      <th>97</th>\n",
       "      <td>ASICS</td>\n",
       "      <td>Men Colourblocked PU Sneakers</td>\n",
       "      <td>Rs. 9999</td>\n",
       "    </tr>\n",
       "    <tr>\n",
       "      <th>98</th>\n",
       "      <td>Columbia</td>\n",
       "      <td>Men SNOWTREKKER Trekking Shoes</td>\n",
       "      <td>Rs. 11999</td>\n",
       "    </tr>\n",
       "    <tr>\n",
       "      <th>99</th>\n",
       "      <td>ALDO</td>\n",
       "      <td>Leather Slim Heels</td>\n",
       "      <td>Rs. 7199Rs. 11999(40% OFF)</td>\n",
       "    </tr>\n",
       "  </tbody>\n",
       "</table>\n",
       "<p>100 rows × 3 columns</p>\n",
       "</div>"
      ],
      "text/plain": [
       "       Brand Name                     Shoe Description  \\\n",
       "0            ALDO                  Men Leather Loafers   \n",
       "1            ALDO            Men Leather Driving Shoes   \n",
       "2        Skechers           Men Max Cushioning Running   \n",
       "3            ALDO                 Men Printed Sneakers   \n",
       "4            ALDO            Men Woven Design Sneakers   \n",
       "..            ...                                  ...   \n",
       "95       DAVINCHI  Men Textured Formal Leather Loafers   \n",
       "96  Royal Enfield                 Cabo WP Riding Boots   \n",
       "97          ASICS        Men Colourblocked PU Sneakers   \n",
       "98       Columbia       Men SNOWTREKKER Trekking Shoes   \n",
       "99           ALDO                   Leather Slim Heels   \n",
       "\n",
       "                          Price  \n",
       "0   Rs. 11199Rs. 15999(30% OFF)  \n",
       "1    Rs. 9099Rs. 12999(30% OFF)  \n",
       "2     Rs. 8099Rs. 8999(10% OFF)  \n",
       "3    Rs. 9099Rs. 12999(30% OFF)  \n",
       "4                     Rs. 13999  \n",
       "..                          ...  \n",
       "95                     Rs. 8990  \n",
       "96     Rs. 8075Rs. 8500(5% OFF)  \n",
       "97                     Rs. 9999  \n",
       "98                    Rs. 11999  \n",
       "99   Rs. 7199Rs. 11999(40% OFF)  \n",
       "\n",
       "[100 rows x 3 columns]"
      ]
     },
     "execution_count": 117,
     "metadata": {},
     "output_type": "execute_result"
    }
   ],
   "source": [
    "myntra_shoes"
   ]
  },
  {
   "cell_type": "code",
   "execution_count": null,
   "id": "41f98107",
   "metadata": {},
   "outputs": [],
   "source": []
  },
  {
   "cell_type": "markdown",
   "id": "d7911c0f",
   "metadata": {},
   "source": [
    "Q8."
   ]
  },
  {
   "cell_type": "code",
   "execution_count": 118,
   "id": "95a60183",
   "metadata": {},
   "outputs": [],
   "source": [
    "import selenium\n",
    "import pandas as pd\n",
    "from selenium import webdriver\n",
    "import warnings\n",
    "warnings.filterwarnings(\"ignore\")\n",
    "import time"
   ]
  },
  {
   "cell_type": "code",
   "execution_count": 119,
   "id": "32587308",
   "metadata": {},
   "outputs": [],
   "source": [
    "driver_8=webdriver.Chrome(r\"C:\\Users\\user\\Downloads\\chromedriver_win32\\chromedriver.exe\")"
   ]
  },
  {
   "cell_type": "code",
   "execution_count": 120,
   "id": "d2c42d41",
   "metadata": {},
   "outputs": [],
   "source": [
    "driver_8.get(\"https://www.amazon.in/\")"
   ]
  },
  {
   "cell_type": "code",
   "execution_count": 121,
   "id": "b8e35dcb",
   "metadata": {},
   "outputs": [],
   "source": [
    "search_field_dest=driver_8.find_element_by_xpath('/html/body/div[2]/header/div/div[1]/div[2]/div/form/div[2]/div[1]/input')\n",
    "search_field_dest.send_keys(\"laptop\")"
   ]
  },
  {
   "cell_type": "code",
   "execution_count": 122,
   "id": "964694f4",
   "metadata": {},
   "outputs": [],
   "source": [
    "search_amazon=driver_8.find_element_by_xpath('/html/body/div[2]/header/div/div[1]/div[2]/div/form/div[3]/div/span/input')\n",
    "search_amazon.click()"
   ]
  },
  {
   "cell_type": "code",
   "execution_count": 123,
   "id": "b6997e90",
   "metadata": {},
   "outputs": [],
   "source": [
    "cpu_filter1=driver_8.find_element_by_xpath('/html/body/div[2]/div[2]/div[1]/div[2]/div/div[3]/span/div[1]/div/div/div[6]/ul[4]/li[13]/span/a/div/label/i')\n",
    "cpu_filter1.click()"
   ]
  },
  {
   "cell_type": "markdown",
   "id": "86915730",
   "metadata": {},
   "source": [
    "CPU Type: Intel Core i7"
   ]
  },
  {
   "cell_type": "code",
   "execution_count": 124,
   "id": "72ac5ae7",
   "metadata": {},
   "outputs": [],
   "source": [
    "url_amazon1=\"https://www.amazon.in/s?k=laptop&rh=n%3A1375424031%2Cp_n_feature_thirteen_browse-bin%3A12598163031&dc&crid=1LVMFIX0VG1PV&qid=1650784402&rnid=12598141031&sprefix=laptop%2Caps%2C791&ref=sr_nr_p_n_feature_thirteen_browse-bin_13\""
   ]
  },
  {
   "cell_type": "code",
   "execution_count": 125,
   "id": "9fe50516",
   "metadata": {},
   "outputs": [],
   "source": [
    "driver_8.get(url_amazon1)"
   ]
  },
  {
   "cell_type": "code",
   "execution_count": 126,
   "id": "d1a9d58e",
   "metadata": {},
   "outputs": [],
   "source": [
    "titles_azn=[]\n",
    "price_azn=[]"
   ]
  },
  {
   "cell_type": "code",
   "execution_count": 127,
   "id": "9d71791d",
   "metadata": {},
   "outputs": [
    {
     "data": {
      "text/plain": [
       "[<selenium.webdriver.remote.webelement.WebElement (session=\"771e8a7b95c5c038bff6cee1dea22b9f\", element=\"bdab3458-2f57-4428-9d02-16689aa2acbf\")>,\n",
       " <selenium.webdriver.remote.webelement.WebElement (session=\"771e8a7b95c5c038bff6cee1dea22b9f\", element=\"a12b1f1a-803e-4a7d-b463-5d21d107ebbf\")>,\n",
       " <selenium.webdriver.remote.webelement.WebElement (session=\"771e8a7b95c5c038bff6cee1dea22b9f\", element=\"32a7ca8f-5ece-4476-86cf-cada51d5ddf1\")>,\n",
       " <selenium.webdriver.remote.webelement.WebElement (session=\"771e8a7b95c5c038bff6cee1dea22b9f\", element=\"90c4b78c-4e64-42ac-a205-d02d9b7c9e64\")>,\n",
       " <selenium.webdriver.remote.webelement.WebElement (session=\"771e8a7b95c5c038bff6cee1dea22b9f\", element=\"7f4241d0-20e6-4add-bc93-b5320635bde2\")>,\n",
       " <selenium.webdriver.remote.webelement.WebElement (session=\"771e8a7b95c5c038bff6cee1dea22b9f\", element=\"fa2e258a-050c-457f-9811-d91c52e694ac\")>,\n",
       " <selenium.webdriver.remote.webelement.WebElement (session=\"771e8a7b95c5c038bff6cee1dea22b9f\", element=\"fbeec797-823b-4922-8f4b-a7627a0171c5\")>,\n",
       " <selenium.webdriver.remote.webelement.WebElement (session=\"771e8a7b95c5c038bff6cee1dea22b9f\", element=\"401d9c47-008f-498e-adee-6169dcdb9fa8\")>,\n",
       " <selenium.webdriver.remote.webelement.WebElement (session=\"771e8a7b95c5c038bff6cee1dea22b9f\", element=\"9127fa8e-7a12-4d00-84cf-5422a8ac7977\")>,\n",
       " <selenium.webdriver.remote.webelement.WebElement (session=\"771e8a7b95c5c038bff6cee1dea22b9f\", element=\"f87a4f0c-f95e-4f9b-9b1a-7c1a8c4b6d96\")>,\n",
       " <selenium.webdriver.remote.webelement.WebElement (session=\"771e8a7b95c5c038bff6cee1dea22b9f\", element=\"e97aa40c-875a-46b0-804d-00a9b2e9efab\")>,\n",
       " <selenium.webdriver.remote.webelement.WebElement (session=\"771e8a7b95c5c038bff6cee1dea22b9f\", element=\"767e15d7-deb5-4861-aba5-7fd2706dbaef\")>,\n",
       " <selenium.webdriver.remote.webelement.WebElement (session=\"771e8a7b95c5c038bff6cee1dea22b9f\", element=\"c7307cdf-8c4b-4ab0-b21b-95cd3ee7b061\")>,\n",
       " <selenium.webdriver.remote.webelement.WebElement (session=\"771e8a7b95c5c038bff6cee1dea22b9f\", element=\"d34bd956-31d8-45f2-8860-f526d0b1d96d\")>,\n",
       " <selenium.webdriver.remote.webelement.WebElement (session=\"771e8a7b95c5c038bff6cee1dea22b9f\", element=\"98f0949c-9c46-401a-a5be-0287956cfbfb\")>,\n",
       " <selenium.webdriver.remote.webelement.WebElement (session=\"771e8a7b95c5c038bff6cee1dea22b9f\", element=\"12d64392-ddb9-4c50-bdbb-917a64081ac1\")>,\n",
       " <selenium.webdriver.remote.webelement.WebElement (session=\"771e8a7b95c5c038bff6cee1dea22b9f\", element=\"20f69c92-39bd-4773-95a0-5d13e633dcef\")>,\n",
       " <selenium.webdriver.remote.webelement.WebElement (session=\"771e8a7b95c5c038bff6cee1dea22b9f\", element=\"32f3dd56-612e-4039-b738-bc719dfa282e\")>,\n",
       " <selenium.webdriver.remote.webelement.WebElement (session=\"771e8a7b95c5c038bff6cee1dea22b9f\", element=\"2abe3bc0-27e9-455a-82bb-0c43eea5c8a0\")>,\n",
       " <selenium.webdriver.remote.webelement.WebElement (session=\"771e8a7b95c5c038bff6cee1dea22b9f\", element=\"dc7b9634-cd70-4712-a3d5-13e216b4c8d6\")>,\n",
       " <selenium.webdriver.remote.webelement.WebElement (session=\"771e8a7b95c5c038bff6cee1dea22b9f\", element=\"ce5642a6-70ec-46bc-8805-c8d49be4f658\")>,\n",
       " <selenium.webdriver.remote.webelement.WebElement (session=\"771e8a7b95c5c038bff6cee1dea22b9f\", element=\"8e6616ae-14ba-466b-aeb2-20456e1e7243\")>,\n",
       " <selenium.webdriver.remote.webelement.WebElement (session=\"771e8a7b95c5c038bff6cee1dea22b9f\", element=\"22ce9f4e-091e-463d-875a-d68f91827c2e\")>,\n",
       " <selenium.webdriver.remote.webelement.WebElement (session=\"771e8a7b95c5c038bff6cee1dea22b9f\", element=\"e83ba1aa-6a41-49de-8c3f-d2961d6fd3d8\")>,\n",
       " <selenium.webdriver.remote.webelement.WebElement (session=\"771e8a7b95c5c038bff6cee1dea22b9f\", element=\"c00d8760-eb0c-4cba-8332-2603b975edac\")>,\n",
       " <selenium.webdriver.remote.webelement.WebElement (session=\"771e8a7b95c5c038bff6cee1dea22b9f\", element=\"51608204-b01e-4685-80a2-eade69a1909c\")>,\n",
       " <selenium.webdriver.remote.webelement.WebElement (session=\"771e8a7b95c5c038bff6cee1dea22b9f\", element=\"09941d0c-5f0b-4c8e-a679-f165fbd8741c\")>,\n",
       " <selenium.webdriver.remote.webelement.WebElement (session=\"771e8a7b95c5c038bff6cee1dea22b9f\", element=\"46880abc-efe7-4cc5-8f82-092bbf4c7c84\")>,\n",
       " <selenium.webdriver.remote.webelement.WebElement (session=\"771e8a7b95c5c038bff6cee1dea22b9f\", element=\"7ce6fd51-0902-4bb8-8c30-0d3c47931e06\")>,\n",
       " <selenium.webdriver.remote.webelement.WebElement (session=\"771e8a7b95c5c038bff6cee1dea22b9f\", element=\"d5cc3169-9b93-43aa-8f72-df9c2a66170b\")>]"
      ]
     },
     "execution_count": 127,
     "metadata": {},
     "output_type": "execute_result"
    }
   ],
   "source": [
    "title_tags_azn=driver_8.find_elements_by_xpath('//span[@class=\"a-size-medium a-color-base a-text-normal\"]')  \n",
    "title_tags_azn"
   ]
  },
  {
   "cell_type": "code",
   "execution_count": 128,
   "id": "d3724381",
   "metadata": {},
   "outputs": [
    {
     "data": {
      "text/plain": [
       "30"
      ]
     },
     "execution_count": 128,
     "metadata": {},
     "output_type": "execute_result"
    }
   ],
   "source": [
    "len(title_tags_azn)"
   ]
  },
  {
   "cell_type": "code",
   "execution_count": 129,
   "id": "2d51f94e",
   "metadata": {},
   "outputs": [
    {
     "data": {
      "text/plain": [
       "['Samsung Galaxy Book2 Pro 360 Intel 12th Gen i7 EvoTM 15.6 inch Touchscreen 2-in-1 AMOLED Thin & Light Laptop (16 GB/512 GB SSD/Windows 11/MSO Home & Student 2021/Graphite/1.41Kg), NP950QED-KA1IN',\n",
       " 'Samsung Galaxy Book2 360 Intel 12th Gen i7 EvoTM  33.78cm (13.3\") AMOLED Thin & Light Laptop (16 GB/512 GB SSD/Windows 11/MS Office Home & Student 2021/Graphite/1.16Kg), NP730QED-KA1IN',\n",
       " 'ASUS VivoBook 14 (2021), 14-inch (35.56 cms) FHD, Intel Core i7-1065G7 10th Gen, Thin and Light Laptop (16GB/512GB SSD/Integrated Graphics/Office 2021/Windows 11/Silver/1.6 Kg), X415JA-EK701WS',\n",
       " 'Lenovo ThinkBook 15 Intel 11th Gen Core i7 15.6\"(39.62 cm)FHD Thin and Light Laptop (16GB/512GB SSD/Windows 11 Home/MS Office H&S 2021/Iris® Xe Graphics/Backlit/Mineral Grey/1.7 Kg) 20VE00W4IH',\n",
       " 'HP Pavilion 14, 11th Gen Intel Core i7-16GB RAM/1TB SSD 14 inch(35.6 cm) Laptop/Intel Iris Xe Graphics/Backlit Keyboard/Alexa/B&O Audio/Fast Charge/FPR/Win 11/MS Office, 14-dv1029TU,Natural Silver',\n",
       " 'Lenovo IdeaPad Flex 5 11th Gen Intel Core i7 14\" FHD 2-in-1 Convertible Laptop (16 GB/512GB SDD/Windows 11/MS Office 2021/Backlit Keyboard /3months Xbox Game Pass/Graphite Grey/1.5Kg), 82HS018XIN',\n",
       " 'ASUS TUF Gaming F15 (2021), 15.6\" (39.62 cms) FHD 144Hz, Intel Core i7-11600H 11th Gen, 4GB RTX 3050 Graphics, Gaming Laptop (16GB/512GB SSD/Windows 10/Office 2019/Gray/2.3 Kg), FX566HCB-HN299TS',\n",
       " 'LG Gram Intel Evo 11th Gen Core i7 17 inches Ultra-Light Laptop (16 GB RAM, 512 GB SSD, New Windows 11 Home Preload, Iris Xe Graphics, USC -C x 2 (with Power), 1.35 kg, 17Z90P-G.AH85A2, Black)',\n",
       " 'LG Gram 14 inches Ultra-Light Intel Evo 11th Gen Core i7 Laptop (16 GB RAM, 512 GB SSD, New Windows 11 Home Preload, Iris Xe Graphics, USC -C x 2 (with Power), 0.999Kg, (14Z90P-G.AH85A2, Black)',\n",
       " 'Mi Notebook Horizon Edition 14 Intel Core i7-10510U 10th Gen Thin and Light Laptop(8GB/512GB SSD/Windows 10/Nvidia MX350 2GB Graphics/Grey/1.35Kg)(Without Webcam) XMA1904-AF']"
      ]
     },
     "execution_count": 129,
     "metadata": {},
     "output_type": "execute_result"
    }
   ],
   "source": [
    "for i in title_tags_azn:\n",
    "    t1=i.text\n",
    "    titles_azn.append(t1)\n",
    "titles_azn[0:10]"
   ]
  },
  {
   "cell_type": "code",
   "execution_count": 130,
   "id": "23e23892",
   "metadata": {},
   "outputs": [
    {
     "data": {
      "text/plain": [
       "[<selenium.webdriver.remote.webelement.WebElement (session=\"771e8a7b95c5c038bff6cee1dea22b9f\", element=\"0deaafbe-6275-4a14-9748-f46511a88d6c\")>,\n",
       " <selenium.webdriver.remote.webelement.WebElement (session=\"771e8a7b95c5c038bff6cee1dea22b9f\", element=\"9ee082e6-0eed-4bca-bf64-31eeb6032023\")>,\n",
       " <selenium.webdriver.remote.webelement.WebElement (session=\"771e8a7b95c5c038bff6cee1dea22b9f\", element=\"3351dd23-2303-4e39-a2f3-7a0703659c7c\")>,\n",
       " <selenium.webdriver.remote.webelement.WebElement (session=\"771e8a7b95c5c038bff6cee1dea22b9f\", element=\"bab46739-4fd7-4f3e-af9a-50143e1a0c9e\")>,\n",
       " <selenium.webdriver.remote.webelement.WebElement (session=\"771e8a7b95c5c038bff6cee1dea22b9f\", element=\"abd8b47d-2677-4e07-a715-3578fe23720f\")>,\n",
       " <selenium.webdriver.remote.webelement.WebElement (session=\"771e8a7b95c5c038bff6cee1dea22b9f\", element=\"9ad79c97-c406-4116-a115-a367f521ee0d\")>,\n",
       " <selenium.webdriver.remote.webelement.WebElement (session=\"771e8a7b95c5c038bff6cee1dea22b9f\", element=\"4acd0c97-1982-47d7-88a1-7030f49a6961\")>,\n",
       " <selenium.webdriver.remote.webelement.WebElement (session=\"771e8a7b95c5c038bff6cee1dea22b9f\", element=\"04d953a8-efa4-4f98-b66b-2d021f6c877e\")>,\n",
       " <selenium.webdriver.remote.webelement.WebElement (session=\"771e8a7b95c5c038bff6cee1dea22b9f\", element=\"e219c459-5aeb-4eb0-a4b1-be770361d14d\")>,\n",
       " <selenium.webdriver.remote.webelement.WebElement (session=\"771e8a7b95c5c038bff6cee1dea22b9f\", element=\"4de5837a-1c62-4f73-84a5-467263ee6ccc\")>,\n",
       " <selenium.webdriver.remote.webelement.WebElement (session=\"771e8a7b95c5c038bff6cee1dea22b9f\", element=\"ed95ce7c-8bf4-4da6-9078-6f35122c778f\")>,\n",
       " <selenium.webdriver.remote.webelement.WebElement (session=\"771e8a7b95c5c038bff6cee1dea22b9f\", element=\"2d14afb3-f25f-44cb-927d-d7a9c4763997\")>,\n",
       " <selenium.webdriver.remote.webelement.WebElement (session=\"771e8a7b95c5c038bff6cee1dea22b9f\", element=\"29893f77-c6aa-491e-ba9d-4c463faa2f4f\")>,\n",
       " <selenium.webdriver.remote.webelement.WebElement (session=\"771e8a7b95c5c038bff6cee1dea22b9f\", element=\"ab98f9a2-0060-434d-b03d-9ff6bd79fa67\")>,\n",
       " <selenium.webdriver.remote.webelement.WebElement (session=\"771e8a7b95c5c038bff6cee1dea22b9f\", element=\"e6fd19aa-ab7a-4a1f-be58-199a386a2c36\")>,\n",
       " <selenium.webdriver.remote.webelement.WebElement (session=\"771e8a7b95c5c038bff6cee1dea22b9f\", element=\"44ba7ff7-84f1-4028-b626-1e719cef92ae\")>,\n",
       " <selenium.webdriver.remote.webelement.WebElement (session=\"771e8a7b95c5c038bff6cee1dea22b9f\", element=\"1d5d8825-360f-4933-b5a1-4b7c2fabcc95\")>,\n",
       " <selenium.webdriver.remote.webelement.WebElement (session=\"771e8a7b95c5c038bff6cee1dea22b9f\", element=\"07c1e5d6-33c0-4c13-9dd2-db86cbe6136d\")>,\n",
       " <selenium.webdriver.remote.webelement.WebElement (session=\"771e8a7b95c5c038bff6cee1dea22b9f\", element=\"fa371ecc-3b4a-4293-9810-4e4209dd9785\")>,\n",
       " <selenium.webdriver.remote.webelement.WebElement (session=\"771e8a7b95c5c038bff6cee1dea22b9f\", element=\"0c733058-05af-4362-a9dc-1dce57ff5ff8\")>,\n",
       " <selenium.webdriver.remote.webelement.WebElement (session=\"771e8a7b95c5c038bff6cee1dea22b9f\", element=\"2c623f6a-4055-4ad5-ba0c-0ef97a6fa909\")>,\n",
       " <selenium.webdriver.remote.webelement.WebElement (session=\"771e8a7b95c5c038bff6cee1dea22b9f\", element=\"e72854b1-8b6f-4981-bc22-0421c3c4b830\")>,\n",
       " <selenium.webdriver.remote.webelement.WebElement (session=\"771e8a7b95c5c038bff6cee1dea22b9f\", element=\"15f142f9-0d46-4438-be56-ef0313a7087f\")>,\n",
       " <selenium.webdriver.remote.webelement.WebElement (session=\"771e8a7b95c5c038bff6cee1dea22b9f\", element=\"00131c70-847c-4274-9582-638963b8fb59\")>,\n",
       " <selenium.webdriver.remote.webelement.WebElement (session=\"771e8a7b95c5c038bff6cee1dea22b9f\", element=\"e2382ba2-cf0e-4973-a517-2d74341bcc37\")>,\n",
       " <selenium.webdriver.remote.webelement.WebElement (session=\"771e8a7b95c5c038bff6cee1dea22b9f\", element=\"d2fbcf17-d314-458b-a744-2b227c47afee\")>,\n",
       " <selenium.webdriver.remote.webelement.WebElement (session=\"771e8a7b95c5c038bff6cee1dea22b9f\", element=\"0429f88a-dced-458b-8bcf-075d32fd6627\")>,\n",
       " <selenium.webdriver.remote.webelement.WebElement (session=\"771e8a7b95c5c038bff6cee1dea22b9f\", element=\"265ba74f-8d9b-4a97-8c6b-212edab0aa31\")>,\n",
       " <selenium.webdriver.remote.webelement.WebElement (session=\"771e8a7b95c5c038bff6cee1dea22b9f\", element=\"18b755f0-7e1d-4602-bdba-a4095673c8fc\")>,\n",
       " <selenium.webdriver.remote.webelement.WebElement (session=\"771e8a7b95c5c038bff6cee1dea22b9f\", element=\"fd74f188-8e9b-494f-b75b-752bd1e0fdde\")>]"
      ]
     },
     "execution_count": 130,
     "metadata": {},
     "output_type": "execute_result"
    }
   ],
   "source": [
    "price_tags_azn=driver_8.find_elements_by_xpath('//span[@class=\"a-price-whole\"]')\n",
    "price_tags_azn"
   ]
  },
  {
   "cell_type": "code",
   "execution_count": 131,
   "id": "0ec830b0",
   "metadata": {},
   "outputs": [
    {
     "data": {
      "text/plain": [
       "30"
      ]
     },
     "execution_count": 131,
     "metadata": {},
     "output_type": "execute_result"
    }
   ],
   "source": [
    "len(price_tags_azn)"
   ]
  },
  {
   "cell_type": "code",
   "execution_count": 132,
   "id": "e8cc576e",
   "metadata": {},
   "outputs": [
    {
     "data": {
      "text/plain": [
       "['1,29,990',\n",
       " '1,05,990',\n",
       " '57,490',\n",
       " '86,990',\n",
       " '86,990',\n",
       " '81,990',\n",
       " '89,990',\n",
       " '94,819',\n",
       " '88,499',\n",
       " '57,999']"
      ]
     },
     "execution_count": 132,
     "metadata": {},
     "output_type": "execute_result"
    }
   ],
   "source": [
    "for i in price_tags_azn:\n",
    "    p1=i.text\n",
    "    price_azn.append(p1)\n",
    "price_azn[0:10]"
   ]
  },
  {
   "cell_type": "code",
   "execution_count": 134,
   "id": "08e321cd",
   "metadata": {},
   "outputs": [
    {
     "name": "stdout",
     "output_type": "stream",
     "text": [
      "30 30\n"
     ]
    }
   ],
   "source": [
    "print(len(titles_azn),len(price_azn))"
   ]
  },
  {
   "cell_type": "code",
   "execution_count": 135,
   "id": "d0abac19",
   "metadata": {},
   "outputs": [],
   "source": [
    "Intel_Core_i7=pd.DataFrame({})\n",
    "Intel_Core_i7['Title of Laptop']=titles_azn[0:10]\n",
    "Intel_Core_i7['Price of Laptop']=price_azn[0:10]"
   ]
  },
  {
   "cell_type": "code",
   "execution_count": 136,
   "id": "1ce12c7d",
   "metadata": {},
   "outputs": [
    {
     "data": {
      "text/html": [
       "<div>\n",
       "<style scoped>\n",
       "    .dataframe tbody tr th:only-of-type {\n",
       "        vertical-align: middle;\n",
       "    }\n",
       "\n",
       "    .dataframe tbody tr th {\n",
       "        vertical-align: top;\n",
       "    }\n",
       "\n",
       "    .dataframe thead th {\n",
       "        text-align: right;\n",
       "    }\n",
       "</style>\n",
       "<table border=\"1\" class=\"dataframe\">\n",
       "  <thead>\n",
       "    <tr style=\"text-align: right;\">\n",
       "      <th></th>\n",
       "      <th>Title of Laptop</th>\n",
       "      <th>Price of Laptop</th>\n",
       "    </tr>\n",
       "  </thead>\n",
       "  <tbody>\n",
       "    <tr>\n",
       "      <th>0</th>\n",
       "      <td>Samsung Galaxy Book2 Pro 360 Intel 12th Gen i7...</td>\n",
       "      <td>1,29,990</td>\n",
       "    </tr>\n",
       "    <tr>\n",
       "      <th>1</th>\n",
       "      <td>Samsung Galaxy Book2 360 Intel 12th Gen i7 Evo...</td>\n",
       "      <td>1,05,990</td>\n",
       "    </tr>\n",
       "    <tr>\n",
       "      <th>2</th>\n",
       "      <td>ASUS VivoBook 14 (2021), 14-inch (35.56 cms) F...</td>\n",
       "      <td>57,490</td>\n",
       "    </tr>\n",
       "    <tr>\n",
       "      <th>3</th>\n",
       "      <td>Lenovo ThinkBook 15 Intel 11th Gen Core i7 15....</td>\n",
       "      <td>86,990</td>\n",
       "    </tr>\n",
       "    <tr>\n",
       "      <th>4</th>\n",
       "      <td>HP Pavilion 14, 11th Gen Intel Core i7-16GB RA...</td>\n",
       "      <td>86,990</td>\n",
       "    </tr>\n",
       "    <tr>\n",
       "      <th>5</th>\n",
       "      <td>Lenovo IdeaPad Flex 5 11th Gen Intel Core i7 1...</td>\n",
       "      <td>81,990</td>\n",
       "    </tr>\n",
       "    <tr>\n",
       "      <th>6</th>\n",
       "      <td>ASUS TUF Gaming F15 (2021), 15.6\" (39.62 cms) ...</td>\n",
       "      <td>89,990</td>\n",
       "    </tr>\n",
       "    <tr>\n",
       "      <th>7</th>\n",
       "      <td>LG Gram Intel Evo 11th Gen Core i7 17 inches U...</td>\n",
       "      <td>94,819</td>\n",
       "    </tr>\n",
       "    <tr>\n",
       "      <th>8</th>\n",
       "      <td>LG Gram 14 inches Ultra-Light Intel Evo 11th G...</td>\n",
       "      <td>88,499</td>\n",
       "    </tr>\n",
       "    <tr>\n",
       "      <th>9</th>\n",
       "      <td>Mi Notebook Horizon Edition 14 Intel Core i7-1...</td>\n",
       "      <td>57,999</td>\n",
       "    </tr>\n",
       "  </tbody>\n",
       "</table>\n",
       "</div>"
      ],
      "text/plain": [
       "                                     Title of Laptop Price of Laptop\n",
       "0  Samsung Galaxy Book2 Pro 360 Intel 12th Gen i7...        1,29,990\n",
       "1  Samsung Galaxy Book2 360 Intel 12th Gen i7 Evo...        1,05,990\n",
       "2  ASUS VivoBook 14 (2021), 14-inch (35.56 cms) F...          57,490\n",
       "3  Lenovo ThinkBook 15 Intel 11th Gen Core i7 15....          86,990\n",
       "4  HP Pavilion 14, 11th Gen Intel Core i7-16GB RA...          86,990\n",
       "5  Lenovo IdeaPad Flex 5 11th Gen Intel Core i7 1...          81,990\n",
       "6  ASUS TUF Gaming F15 (2021), 15.6\" (39.62 cms) ...          89,990\n",
       "7  LG Gram Intel Evo 11th Gen Core i7 17 inches U...          94,819\n",
       "8  LG Gram 14 inches Ultra-Light Intel Evo 11th G...          88,499\n",
       "9  Mi Notebook Horizon Edition 14 Intel Core i7-1...          57,999"
      ]
     },
     "execution_count": 136,
     "metadata": {},
     "output_type": "execute_result"
    }
   ],
   "source": [
    "Intel_Core_i7"
   ]
  },
  {
   "cell_type": "code",
   "execution_count": null,
   "id": "60459d54",
   "metadata": {},
   "outputs": [],
   "source": []
  },
  {
   "cell_type": "markdown",
   "id": "706a1a24",
   "metadata": {},
   "source": [
    "CPU Type: Intel Core i9"
   ]
  },
  {
   "cell_type": "code",
   "execution_count": 137,
   "id": "c9a5675b",
   "metadata": {},
   "outputs": [],
   "source": [
    "search_field_dest=driver_8.find_element_by_xpath('/html/body/div[2]/header/div/div[1]/div[2]/div/form/div[2]/div[1]/input')\n",
    "search_field_dest.send_keys(\"laptop\")"
   ]
  },
  {
   "cell_type": "code",
   "execution_count": 138,
   "id": "c746f483",
   "metadata": {},
   "outputs": [],
   "source": [
    "search_amazon=driver_8.find_element_by_xpath('/html/body/div[2]/header/div/div[1]/div[2]/div/form/div[3]/div/span/input')\n",
    "search_amazon.click()"
   ]
  },
  {
   "cell_type": "code",
   "execution_count": 139,
   "id": "5864c456",
   "metadata": {},
   "outputs": [],
   "source": [
    "cpu_filter2=driver_8.find_element_by_xpath('/html/body/div[2]/div[2]/div[1]/div[2]/div/div[3]/span/div[1]/div/div/div[6]/ul[4]/li[12]/span/a/div/label/i')\n",
    "cpu_filter2.click()"
   ]
  },
  {
   "cell_type": "code",
   "execution_count": 140,
   "id": "3cd463aa",
   "metadata": {},
   "outputs": [],
   "source": [
    "url_amazon2=\"https://www.amazon.in/s?k=laptop&i=computers&rh=n%3A1375424031%2Cp_n_feature_thirteen_browse-bin%3A16757432031&dc&qid=1650785008&rnid=12598141031&ref=sr_nr_p_n_feature_thirteen_browse-bin_12\""
   ]
  },
  {
   "cell_type": "code",
   "execution_count": 141,
   "id": "1b99a44e",
   "metadata": {},
   "outputs": [],
   "source": [
    "driver_8.get(url_amazon2)"
   ]
  },
  {
   "cell_type": "code",
   "execution_count": 142,
   "id": "4579a5c6",
   "metadata": {},
   "outputs": [],
   "source": [
    "titles_azn2=[]\n",
    "price_azn2=[]"
   ]
  },
  {
   "cell_type": "code",
   "execution_count": 144,
   "id": "cfe8ed02",
   "metadata": {},
   "outputs": [
    {
     "data": {
      "text/plain": [
       "[<selenium.webdriver.remote.webelement.WebElement (session=\"771e8a7b95c5c038bff6cee1dea22b9f\", element=\"94e82d1e-473e-44ac-a813-54347c1cb054\")>,\n",
       " <selenium.webdriver.remote.webelement.WebElement (session=\"771e8a7b95c5c038bff6cee1dea22b9f\", element=\"2e41d82e-b966-418c-88aa-563af760f4af\")>,\n",
       " <selenium.webdriver.remote.webelement.WebElement (session=\"771e8a7b95c5c038bff6cee1dea22b9f\", element=\"7c2059c7-35ca-406d-a0e1-5bc10c435503\")>,\n",
       " <selenium.webdriver.remote.webelement.WebElement (session=\"771e8a7b95c5c038bff6cee1dea22b9f\", element=\"a533345b-e7fb-4d39-accb-e639ab27a9bc\")>,\n",
       " <selenium.webdriver.remote.webelement.WebElement (session=\"771e8a7b95c5c038bff6cee1dea22b9f\", element=\"c1da4dec-d2f2-4c56-a9d4-a5e0a1c43d6c\")>,\n",
       " <selenium.webdriver.remote.webelement.WebElement (session=\"771e8a7b95c5c038bff6cee1dea22b9f\", element=\"c4ef3d75-6786-4708-9a59-3510f7d0f8fd\")>,\n",
       " <selenium.webdriver.remote.webelement.WebElement (session=\"771e8a7b95c5c038bff6cee1dea22b9f\", element=\"dee6b548-e33f-4063-a039-787c0ba49542\")>,\n",
       " <selenium.webdriver.remote.webelement.WebElement (session=\"771e8a7b95c5c038bff6cee1dea22b9f\", element=\"3b160d52-226c-498a-8fb8-60cb4a6a69b4\")>,\n",
       " <selenium.webdriver.remote.webelement.WebElement (session=\"771e8a7b95c5c038bff6cee1dea22b9f\", element=\"0d094664-3a1b-47e7-9e59-544f2e014bea\")>,\n",
       " <selenium.webdriver.remote.webelement.WebElement (session=\"771e8a7b95c5c038bff6cee1dea22b9f\", element=\"55490155-5507-4833-91f9-899292f6f13a\")>]"
      ]
     },
     "execution_count": 144,
     "metadata": {},
     "output_type": "execute_result"
    }
   ],
   "source": [
    "title_tags_azn2=driver_8.find_elements_by_xpath('//span[@class=\"a-size-medium a-color-base a-text-normal\"]')  \n",
    "title_tags_azn2[0:10]"
   ]
  },
  {
   "cell_type": "code",
   "execution_count": 145,
   "id": "536d41e5",
   "metadata": {},
   "outputs": [
    {
     "data": {
      "text/plain": [
       "['Acer Predator Helios 300 11th Gen Intel Core i9-11900H 15.6\" (39.62cms) FHD IPS Gaming Laptop (16 GB/1TB SSD/Win 11 Home/6 GB Graphics/NVIDIA GeForce RTX 3060/360 Hz, Black, 2.3 kg) PH315-54',\n",
       " 'ASUS ROG Strix SCAR 15 (2022), 15.6-inch (39.62 cms) 2K WQHD 240Hz/3ms, Core i9-12900H 12th Gen, RTX 3080 Ti 16GB Graphics, Gaming Laptop (32GB/1TB SSD/Win 11/Office 2021/Black/2.3 Kg), G533ZX-LN024WS',\n",
       " 'ASUS TUF Gaming F15 (2021), 15.6\" (39.62 cms) FHD 240Hz, Intel Core i9-11900H 11th Gen, GeForce RTX 3060 6GB Graphics, Gaming Laptop(16GB/1TB SSD/Office 2019/Windows 10/Gray/2.3 Kg), FX566HM-AZ096TS',\n",
       " 'ASUS ROG Strix Scar 15 (2022), 15.6-inch (39.62 cms) 2K WQHD 240Hz/3ms, Core i9-12900H 12th Gen, RTX 3070 Ti 8GB Graphics, Gaming Laptop (32GB/2TB SSD/Win 11/Office 2021/Black/2.3 Kg), G533ZW-LN106WS',\n",
       " 'ASUS ROG Zephyrus M16 (2022), 16-inch (40.64 cms) 2K QHD 165Hz/3ms, Core i9-12900H 12th Gen, RTX 3070 Ti 8GB Graphics, Gaming Laptop (32GB/1TB SSD/Win 11/Office 2021/Black/2 Kg), GU603ZW-K8033WS',\n",
       " 'ASUS ROG Zephyrus M16 (2022), 16-inch (40.64 cms) 2K QHD 165Hz/3ms, Core i9-12900H 12th Gen, RTX 3080 Ti 16GB Graphics, Gaming Laptop (32GB/2TB SSD/Win 11/Office 2021/Black/2 Kg), GU603ZX-K8024WS',\n",
       " 'Acer Predator Helios 300 11th Gen Intel Core i9-11900H 15.6\" (39.62cms) FHD IPS Gaming Laptop (16 GB/1TB SSD/Win 11 Home/6 GB Graphics/NVIDIA GeForce RTX 3060/360 Hz, Black, 2.3 kg) PH315-54',\n",
       " 'ASUS ROG Strix Scar 15 (2022), 15.6\" (39.62 cms) 2K WQHD 240Hz/3ms, Intel Core i9-12900H 12th Gen, RTX 3070 Ti 8GB Graphics, Gaming Laptop (32GB/1TB SSD/Win 11/Office 2021/Black/2.3 kg) G533ZW-LN136WS',\n",
       " '(Renewed) HP Omen 15-dh0139TX Gaming Laptop (9th Gen i9-9880H/16GB/1TB HDD + 512GB SSD/Win 10/8GB NVIDIA RTX 2080 Graphics) & Z3700 Wireless Mouse',\n",
       " 'HP Envy 15- 11th Gen Intel Core i9/32GB/1TB SSD/15.6 inch(39.6 cm) 400 nits,4K AMOLED Touch, TUV + Win 11 Pro 64/NVIDIA GeForce RTX 3060 6GB Graphics/Alexa/FPR /B&O/2.14kg,15-ep1087TX, Natural Silver']"
      ]
     },
     "execution_count": 145,
     "metadata": {},
     "output_type": "execute_result"
    }
   ],
   "source": [
    "for i in title_tags_azn2:\n",
    "    tle2=i.text\n",
    "    titles_azn2.append(tle2)\n",
    "titles_azn2[0:10]"
   ]
  },
  {
   "cell_type": "code",
   "execution_count": 146,
   "id": "979f94bc",
   "metadata": {},
   "outputs": [
    {
     "data": {
      "text/plain": [
       "[<selenium.webdriver.remote.webelement.WebElement (session=\"771e8a7b95c5c038bff6cee1dea22b9f\", element=\"79b98187-3103-4b20-b72d-c6ff01e5c9f7\")>,\n",
       " <selenium.webdriver.remote.webelement.WebElement (session=\"771e8a7b95c5c038bff6cee1dea22b9f\", element=\"dd789a2c-a089-4136-9892-0d73f4f6c7e7\")>,\n",
       " <selenium.webdriver.remote.webelement.WebElement (session=\"771e8a7b95c5c038bff6cee1dea22b9f\", element=\"d5a66a25-edfc-4e98-9e43-bb66385b9c04\")>,\n",
       " <selenium.webdriver.remote.webelement.WebElement (session=\"771e8a7b95c5c038bff6cee1dea22b9f\", element=\"8faa7a40-d509-4ff1-abf8-ad0e2eee377d\")>,\n",
       " <selenium.webdriver.remote.webelement.WebElement (session=\"771e8a7b95c5c038bff6cee1dea22b9f\", element=\"f83cc19a-1bad-467e-8b9a-feb7e9f6d812\")>,\n",
       " <selenium.webdriver.remote.webelement.WebElement (session=\"771e8a7b95c5c038bff6cee1dea22b9f\", element=\"1acece65-3b14-4de0-b564-eca44e8d50ef\")>,\n",
       " <selenium.webdriver.remote.webelement.WebElement (session=\"771e8a7b95c5c038bff6cee1dea22b9f\", element=\"0d985c50-95db-46df-8799-6fea7bde4ce7\")>,\n",
       " <selenium.webdriver.remote.webelement.WebElement (session=\"771e8a7b95c5c038bff6cee1dea22b9f\", element=\"366e54d9-2a3e-497d-af04-c0f454ce24af\")>,\n",
       " <selenium.webdriver.remote.webelement.WebElement (session=\"771e8a7b95c5c038bff6cee1dea22b9f\", element=\"3857ac50-393d-45a4-98b6-6681049b7568\")>,\n",
       " <selenium.webdriver.remote.webelement.WebElement (session=\"771e8a7b95c5c038bff6cee1dea22b9f\", element=\"f1889602-7e50-4cff-955b-04ba78708ba3\")>]"
      ]
     },
     "execution_count": 146,
     "metadata": {},
     "output_type": "execute_result"
    }
   ],
   "source": [
    "price_tags_azn2=driver_8.find_elements_by_xpath('//span[@class=\"a-price-whole\"]')\n",
    "price_tags_azn2[0:10]"
   ]
  },
  {
   "cell_type": "code",
   "execution_count": 147,
   "id": "15f43ce9",
   "metadata": {},
   "outputs": [
    {
     "data": {
      "text/plain": [
       "['1,44,990',\n",
       " '3,15,100',\n",
       " '1,77,885',\n",
       " '2,85,990',\n",
       " '2,41,990',\n",
       " '3,31,990',\n",
       " '1,44,990',\n",
       " '2,90,499',\n",
       " '1,38,000',\n",
       " '2,02,990']"
      ]
     },
     "execution_count": 147,
     "metadata": {},
     "output_type": "execute_result"
    }
   ],
   "source": [
    "for i in price_tags_azn2:\n",
    "    pr2=i.text\n",
    "    price_azn2.append(pr2)\n",
    "price_azn2[0:10]"
   ]
  },
  {
   "cell_type": "code",
   "execution_count": 148,
   "id": "6b074a03",
   "metadata": {},
   "outputs": [
    {
     "name": "stdout",
     "output_type": "stream",
     "text": [
      "11 11\n"
     ]
    }
   ],
   "source": [
    "print(len(titles_azn2),len(price_azn2))"
   ]
  },
  {
   "cell_type": "code",
   "execution_count": 151,
   "id": "6acc2582",
   "metadata": {},
   "outputs": [],
   "source": [
    "Intel_Core_i9=pd.DataFrame({})\n",
    "Intel_Core_i9['Title of Laptop']=titles_azn2[0:10]\n",
    "Intel_Core_i9['Price of Laptop']=price_azn2[0:10]"
   ]
  },
  {
   "cell_type": "code",
   "execution_count": 152,
   "id": "1f1ecb8b",
   "metadata": {},
   "outputs": [
    {
     "data": {
      "text/html": [
       "<div>\n",
       "<style scoped>\n",
       "    .dataframe tbody tr th:only-of-type {\n",
       "        vertical-align: middle;\n",
       "    }\n",
       "\n",
       "    .dataframe tbody tr th {\n",
       "        vertical-align: top;\n",
       "    }\n",
       "\n",
       "    .dataframe thead th {\n",
       "        text-align: right;\n",
       "    }\n",
       "</style>\n",
       "<table border=\"1\" class=\"dataframe\">\n",
       "  <thead>\n",
       "    <tr style=\"text-align: right;\">\n",
       "      <th></th>\n",
       "      <th>Title of Laptop</th>\n",
       "      <th>Price of Laptop</th>\n",
       "    </tr>\n",
       "  </thead>\n",
       "  <tbody>\n",
       "    <tr>\n",
       "      <th>0</th>\n",
       "      <td>Acer Predator Helios 300 11th Gen Intel Core i...</td>\n",
       "      <td>1,44,990</td>\n",
       "    </tr>\n",
       "    <tr>\n",
       "      <th>1</th>\n",
       "      <td>ASUS ROG Strix SCAR 15 (2022), 15.6-inch (39.6...</td>\n",
       "      <td>3,15,100</td>\n",
       "    </tr>\n",
       "    <tr>\n",
       "      <th>2</th>\n",
       "      <td>ASUS TUF Gaming F15 (2021), 15.6\" (39.62 cms) ...</td>\n",
       "      <td>1,77,885</td>\n",
       "    </tr>\n",
       "    <tr>\n",
       "      <th>3</th>\n",
       "      <td>ASUS ROG Strix Scar 15 (2022), 15.6-inch (39.6...</td>\n",
       "      <td>2,85,990</td>\n",
       "    </tr>\n",
       "    <tr>\n",
       "      <th>4</th>\n",
       "      <td>ASUS ROG Zephyrus M16 (2022), 16-inch (40.64 c...</td>\n",
       "      <td>2,41,990</td>\n",
       "    </tr>\n",
       "    <tr>\n",
       "      <th>5</th>\n",
       "      <td>ASUS ROG Zephyrus M16 (2022), 16-inch (40.64 c...</td>\n",
       "      <td>3,31,990</td>\n",
       "    </tr>\n",
       "    <tr>\n",
       "      <th>6</th>\n",
       "      <td>Acer Predator Helios 300 11th Gen Intel Core i...</td>\n",
       "      <td>1,44,990</td>\n",
       "    </tr>\n",
       "    <tr>\n",
       "      <th>7</th>\n",
       "      <td>ASUS ROG Strix Scar 15 (2022), 15.6\" (39.62 cm...</td>\n",
       "      <td>2,90,499</td>\n",
       "    </tr>\n",
       "    <tr>\n",
       "      <th>8</th>\n",
       "      <td>(Renewed) HP Omen 15-dh0139TX Gaming Laptop (9...</td>\n",
       "      <td>1,38,000</td>\n",
       "    </tr>\n",
       "    <tr>\n",
       "      <th>9</th>\n",
       "      <td>HP Envy 15- 11th Gen Intel Core i9/32GB/1TB SS...</td>\n",
       "      <td>2,02,990</td>\n",
       "    </tr>\n",
       "  </tbody>\n",
       "</table>\n",
       "</div>"
      ],
      "text/plain": [
       "                                     Title of Laptop Price of Laptop\n",
       "0  Acer Predator Helios 300 11th Gen Intel Core i...        1,44,990\n",
       "1  ASUS ROG Strix SCAR 15 (2022), 15.6-inch (39.6...        3,15,100\n",
       "2  ASUS TUF Gaming F15 (2021), 15.6\" (39.62 cms) ...        1,77,885\n",
       "3  ASUS ROG Strix Scar 15 (2022), 15.6-inch (39.6...        2,85,990\n",
       "4  ASUS ROG Zephyrus M16 (2022), 16-inch (40.64 c...        2,41,990\n",
       "5  ASUS ROG Zephyrus M16 (2022), 16-inch (40.64 c...        3,31,990\n",
       "6  Acer Predator Helios 300 11th Gen Intel Core i...        1,44,990\n",
       "7  ASUS ROG Strix Scar 15 (2022), 15.6\" (39.62 cm...        2,90,499\n",
       "8  (Renewed) HP Omen 15-dh0139TX Gaming Laptop (9...        1,38,000\n",
       "9  HP Envy 15- 11th Gen Intel Core i9/32GB/1TB SS...        2,02,990"
      ]
     },
     "execution_count": 152,
     "metadata": {},
     "output_type": "execute_result"
    }
   ],
   "source": [
    "Intel_Core_i9"
   ]
  },
  {
   "cell_type": "code",
   "execution_count": null,
   "id": "3fe820e1",
   "metadata": {},
   "outputs": [],
   "source": []
  },
  {
   "cell_type": "markdown",
   "id": "05a143cf",
   "metadata": {},
   "source": [
    "Q9."
   ]
  },
  {
   "cell_type": "code",
   "execution_count": 153,
   "id": "9342c3fc",
   "metadata": {},
   "outputs": [],
   "source": [
    "import selenium\n",
    "import pandas as pd\n",
    "from selenium import webdriver\n",
    "import warnings\n",
    "warnings.filterwarnings(\"ignore\")\n",
    "import time"
   ]
  },
  {
   "cell_type": "code",
   "execution_count": 178,
   "id": "7004e590",
   "metadata": {},
   "outputs": [],
   "source": [
    "driver_9=webdriver.Chrome(r\"C:\\Users\\user\\Downloads\\chromedriver_win32\\chromedriver.exe\")"
   ]
  },
  {
   "cell_type": "code",
   "execution_count": 179,
   "id": "b454fa52",
   "metadata": {},
   "outputs": [],
   "source": [
    "driver_9.get('https://www.ambitionbox.com/')"
   ]
  },
  {
   "cell_type": "code",
   "execution_count": 180,
   "id": "adde1f09",
   "metadata": {},
   "outputs": [],
   "source": [
    "jobs_amb=driver_9.find_element_by_xpath('/html/body/div[1]/nav/nav/a[6]')\n",
    "jobs_amb.click()"
   ]
  },
  {
   "cell_type": "code",
   "execution_count": 184,
   "id": "5042464a",
   "metadata": {},
   "outputs": [],
   "source": [
    "search_designation_amb=driver_9.find_element_by_xpath('/html/body/div/div/div/div[2]/div[1]/div[1]/div/div/div/div/span/input')\n",
    "search_designation_amb.send_keys(\"Data Scientist\")"
   ]
  },
  {
   "cell_type": "code",
   "execution_count": 185,
   "id": "be2dd316",
   "metadata": {},
   "outputs": [],
   "source": [
    "search_button_amb=driver_9.find_element_by_xpath('/html/body/div/div/div/div[2]/div[1]/div[1]/div/div/div/button/span')\n",
    "search_button_amb.click()"
   ]
  },
  {
   "cell_type": "code",
   "execution_count": 186,
   "id": "02e4fd56",
   "metadata": {},
   "outputs": [],
   "source": [
    "url_9=\"https://www.ambitionbox.com/jobs/search?designation=data-scientist\""
   ]
  },
  {
   "cell_type": "code",
   "execution_count": 187,
   "id": "638192c7",
   "metadata": {},
   "outputs": [],
   "source": [
    "driver_9.get(url_9)"
   ]
  },
  {
   "cell_type": "code",
   "execution_count": 189,
   "id": "76052cfe",
   "metadata": {},
   "outputs": [],
   "source": [
    "search_location_amb=driver_9.find_element_by_xpath('/html/body/div/div/div/div[2]/div[1]/div[2]/div[1]/div/div/div/div[2]/div[1]/p')\n",
    "search_location_amb.click()"
   ]
  },
  {
   "cell_type": "code",
   "execution_count": 190,
   "id": "cae11fc9",
   "metadata": {},
   "outputs": [],
   "source": [
    "find_location_amb=driver_9.find_element_by_xpath('/html/body/div/div/div/div[2]/div[1]/div[2]/div[1]/div/div/div/div[2]/div[2]/div/div[2]/input')\n",
    "find_location_amb.send_keys(\"Noida\")"
   ]
  },
  {
   "cell_type": "code",
   "execution_count": 192,
   "id": "f7b6c20e",
   "metadata": {},
   "outputs": [],
   "source": [
    "location_amb=driver_9.find_element_by_xpath('/html/body/div/div/div/div[2]/div[1]/div[2]/div[1]/div/div/div/div[2]/div[2]/div/div[3]/div[1]/div[1]/div/label')\n",
    "location_amb.click()"
   ]
  },
  {
   "cell_type": "code",
   "execution_count": 193,
   "id": "58697bf1",
   "metadata": {},
   "outputs": [],
   "source": [
    "url_9b=\"https://www.ambitionbox.com/jobs/search?designation=data-scientist&location=Noida\""
   ]
  },
  {
   "cell_type": "code",
   "execution_count": 194,
   "id": "bebd7d5c",
   "metadata": {},
   "outputs": [],
   "source": [
    "driver_9.get(url_9b)"
   ]
  },
  {
   "cell_type": "code",
   "execution_count": 202,
   "id": "5cf991ec",
   "metadata": {},
   "outputs": [],
   "source": [
    "comp_names=[]\n",
    "no_of_days=[]\n",
    "rating=[]"
   ]
  },
  {
   "cell_type": "code",
   "execution_count": 201,
   "id": "8227b071",
   "metadata": {},
   "outputs": [
    {
     "data": {
      "text/plain": [
       "[<selenium.webdriver.remote.webelement.WebElement (session=\"2ddcd2172e287459b3a2ef81fec23c44\", element=\"e69a4c82-28d3-4dd6-a952-de6ef2265e9d\")>,\n",
       " <selenium.webdriver.remote.webelement.WebElement (session=\"2ddcd2172e287459b3a2ef81fec23c44\", element=\"6a226594-86be-4d34-9cdd-aa47f88d06f8\")>,\n",
       " <selenium.webdriver.remote.webelement.WebElement (session=\"2ddcd2172e287459b3a2ef81fec23c44\", element=\"64e3801f-2731-4478-ab72-9d9a9c90a146\")>,\n",
       " <selenium.webdriver.remote.webelement.WebElement (session=\"2ddcd2172e287459b3a2ef81fec23c44\", element=\"cfae65b1-acf5-404e-abf9-2b613c662a9d\")>,\n",
       " <selenium.webdriver.remote.webelement.WebElement (session=\"2ddcd2172e287459b3a2ef81fec23c44\", element=\"0a67cdd6-7d90-4838-b6f4-c8204b5ce32a\")>,\n",
       " <selenium.webdriver.remote.webelement.WebElement (session=\"2ddcd2172e287459b3a2ef81fec23c44\", element=\"f772a06c-f5fc-4dc7-a379-7143cbb46058\")>,\n",
       " <selenium.webdriver.remote.webelement.WebElement (session=\"2ddcd2172e287459b3a2ef81fec23c44\", element=\"2de61648-d2d1-41ae-852f-793a45a036d3\")>,\n",
       " <selenium.webdriver.remote.webelement.WebElement (session=\"2ddcd2172e287459b3a2ef81fec23c44\", element=\"286237af-d325-408a-a03f-5a0ced7d5561\")>,\n",
       " <selenium.webdriver.remote.webelement.WebElement (session=\"2ddcd2172e287459b3a2ef81fec23c44\", element=\"dee78e06-84ad-4189-a19b-93336f39b1de\")>,\n",
       " <selenium.webdriver.remote.webelement.WebElement (session=\"2ddcd2172e287459b3a2ef81fec23c44\", element=\"292ae643-60c7-4cb7-985d-b20854ecff72\")>,\n",
       " <selenium.webdriver.remote.webelement.WebElement (session=\"2ddcd2172e287459b3a2ef81fec23c44\", element=\"42dc8467-60f2-4e3e-adf9-cca9cf1a16de\")>]"
      ]
     },
     "execution_count": 201,
     "metadata": {},
     "output_type": "execute_result"
    }
   ],
   "source": [
    "comptags=driver_9.find_elements_by_xpath('//div[@class=\"company-info\"]/p')\n",
    "comptags"
   ]
  },
  {
   "cell_type": "code",
   "execution_count": 203,
   "id": "6ee06c71",
   "metadata": {},
   "outputs": [
    {
     "data": {
      "text/plain": [
       "[' · ',\n",
       " 'GENPACT India Private Limited',\n",
       " 'Tech Mahindra Ltd',\n",
       " 'GENPACT India Private Limited',\n",
       " 'HCL Technologies',\n",
       " 'Zyoin',\n",
       " 'Newgen Software Technologies Ltd.',\n",
       " 'JK Technosoft Ltd',\n",
       " 'Microsoft India (R and D) Pvt Ltd',\n",
       " 'Paytm Payments Bank Limited',\n",
       " 'Agreeya Solutions India Private Limited']"
      ]
     },
     "execution_count": 203,
     "metadata": {},
     "output_type": "execute_result"
    }
   ],
   "source": [
    "for i in comptags:\n",
    "    name=i.text\n",
    "    comp_names.append(name)\n",
    "comp_names"
   ]
  },
  {
   "cell_type": "code",
   "execution_count": 210,
   "id": "96a23a7c",
   "metadata": {},
   "outputs": [
    {
     "data": {
      "text/plain": [
       "' · '"
      ]
     },
     "execution_count": 210,
     "metadata": {},
     "output_type": "execute_result"
    }
   ],
   "source": [
    "comp_names.pop(0)"
   ]
  },
  {
   "cell_type": "code",
   "execution_count": 204,
   "id": "428cad5a",
   "metadata": {},
   "outputs": [
    {
     "data": {
      "text/plain": [
       "[<selenium.webdriver.remote.webelement.WebElement (session=\"2ddcd2172e287459b3a2ef81fec23c44\", element=\"3ead540f-6c6f-4838-bb08-56431b4b741b\")>,\n",
       " <selenium.webdriver.remote.webelement.WebElement (session=\"2ddcd2172e287459b3a2ef81fec23c44\", element=\"a92b4a58-920c-4ec3-9797-d78d1ca2463a\")>,\n",
       " <selenium.webdriver.remote.webelement.WebElement (session=\"2ddcd2172e287459b3a2ef81fec23c44\", element=\"97888138-8517-438d-8edc-3ac1bee0e861\")>,\n",
       " <selenium.webdriver.remote.webelement.WebElement (session=\"2ddcd2172e287459b3a2ef81fec23c44\", element=\"047c1ae4-2d95-4632-bbcd-94505150836d\")>,\n",
       " <selenium.webdriver.remote.webelement.WebElement (session=\"2ddcd2172e287459b3a2ef81fec23c44\", element=\"4966a455-5c64-46cc-9f02-fc84e4746f2a\")>,\n",
       " <selenium.webdriver.remote.webelement.WebElement (session=\"2ddcd2172e287459b3a2ef81fec23c44\", element=\"407cbc1b-5ce1-4144-8ccb-a6ef25ebd10f\")>,\n",
       " <selenium.webdriver.remote.webelement.WebElement (session=\"2ddcd2172e287459b3a2ef81fec23c44\", element=\"d2446669-d6c8-4129-bee0-f9e5653a3817\")>,\n",
       " <selenium.webdriver.remote.webelement.WebElement (session=\"2ddcd2172e287459b3a2ef81fec23c44\", element=\"d50c4cfa-bbff-4021-87a8-d556ed1afb12\")>,\n",
       " <selenium.webdriver.remote.webelement.WebElement (session=\"2ddcd2172e287459b3a2ef81fec23c44\", element=\"64a2f2a6-fb13-449d-9ae0-4ced6fbfe7f4\")>,\n",
       " <selenium.webdriver.remote.webelement.WebElement (session=\"2ddcd2172e287459b3a2ef81fec23c44\", element=\"dbb536a5-fb7c-43b5-a133-e7c110314d2d\")>,\n",
       " <selenium.webdriver.remote.webelement.WebElement (session=\"2ddcd2172e287459b3a2ef81fec23c44\", element=\"3e247329-d1e7-4180-a3c7-78e95a4a8d67\")>,\n",
       " <selenium.webdriver.remote.webelement.WebElement (session=\"2ddcd2172e287459b3a2ef81fec23c44\", element=\"72b8e17a-bf16-42a2-aac1-49ba0cbfd95c\")>,\n",
       " <selenium.webdriver.remote.webelement.WebElement (session=\"2ddcd2172e287459b3a2ef81fec23c44\", element=\"1a470f81-0381-40c7-96dd-fd253218ccf0\")>,\n",
       " <selenium.webdriver.remote.webelement.WebElement (session=\"2ddcd2172e287459b3a2ef81fec23c44\", element=\"cceab2a0-7347-4f78-bc47-d0d45a58fd74\")>,\n",
       " <selenium.webdriver.remote.webelement.WebElement (session=\"2ddcd2172e287459b3a2ef81fec23c44\", element=\"cf699c18-55c8-4aaa-99f7-2c0fdf9083bd\")>,\n",
       " <selenium.webdriver.remote.webelement.WebElement (session=\"2ddcd2172e287459b3a2ef81fec23c44\", element=\"ca7bfec1-ef50-49c9-af00-5f92206d16d8\")>,\n",
       " <selenium.webdriver.remote.webelement.WebElement (session=\"2ddcd2172e287459b3a2ef81fec23c44\", element=\"91d14d11-000b-4a66-b3ae-d53714bdab8f\")>,\n",
       " <selenium.webdriver.remote.webelement.WebElement (session=\"2ddcd2172e287459b3a2ef81fec23c44\", element=\"7ef54d4c-6a39-4dac-8b37-c3a47db1579a\")>,\n",
       " <selenium.webdriver.remote.webelement.WebElement (session=\"2ddcd2172e287459b3a2ef81fec23c44\", element=\"8e47ee72-3924-453a-8ffb-0556bac7d282\")>,\n",
       " <selenium.webdriver.remote.webelement.WebElement (session=\"2ddcd2172e287459b3a2ef81fec23c44\", element=\"0817b5ee-65de-4e91-a151-c483c51d8805\")>]"
      ]
     },
     "execution_count": 204,
     "metadata": {},
     "output_type": "execute_result"
    }
   ],
   "source": [
    "days_tags=driver_9.find_elements_by_xpath('//span[@class=\"body-small-l\"]')\n",
    "days_tags"
   ]
  },
  {
   "cell_type": "code",
   "execution_count": 205,
   "id": "3cf6ea68",
   "metadata": {},
   "outputs": [
    {
     "data": {
      "text/plain": [
       "['3d ago',\n",
       " 'via naukri.com',\n",
       " '17d ago',\n",
       " 'via naukri.com',\n",
       " '20d ago',\n",
       " 'via naukri.com',\n",
       " '24d ago',\n",
       " 'via naukri.com',\n",
       " '2d ago',\n",
       " 'via hirist.com',\n",
       " '4d ago',\n",
       " 'via naukri.com',\n",
       " '13d ago',\n",
       " 'via naukri.com',\n",
       " '1mon ago',\n",
       " 'via naukri.com',\n",
       " '23d ago',\n",
       " 'via naukri.com',\n",
       " '27d ago',\n",
       " 'via naukri.com']"
      ]
     },
     "execution_count": 205,
     "metadata": {},
     "output_type": "execute_result"
    }
   ],
   "source": [
    "days_no=[]\n",
    "for i in days_tags:\n",
    "    day=i.text\n",
    "    days_no.append(day)\n",
    "days_no"
   ]
  },
  {
   "cell_type": "code",
   "execution_count": 206,
   "id": "1e3b8231",
   "metadata": {},
   "outputs": [
    {
     "data": {
      "text/plain": [
       "['3d ago',\n",
       " '17d ago',\n",
       " '20d ago',\n",
       " '24d ago',\n",
       " '2d ago',\n",
       " '4d ago',\n",
       " '13d ago',\n",
       " '1mon ago',\n",
       " '23d ago',\n",
       " '27d ago']"
      ]
     },
     "execution_count": 206,
     "metadata": {},
     "output_type": "execute_result"
    }
   ],
   "source": [
    "no_of_days_posted=[]\n",
    "for i in range(0,len(days_no),2):\n",
    "    no_of_days_posted.append(days_no[i])\n",
    "no_of_days_posted"
   ]
  },
  {
   "cell_type": "code",
   "execution_count": 207,
   "id": "f2c46724",
   "metadata": {},
   "outputs": [
    {
     "data": {
      "text/plain": [
       "[<selenium.webdriver.remote.webelement.WebElement (session=\"2ddcd2172e287459b3a2ef81fec23c44\", element=\"96218a31-b4f9-4ccb-8b8f-e984defaf2bc\")>,\n",
       " <selenium.webdriver.remote.webelement.WebElement (session=\"2ddcd2172e287459b3a2ef81fec23c44\", element=\"27effe99-dd6f-42ee-b2ba-793d688b4006\")>,\n",
       " <selenium.webdriver.remote.webelement.WebElement (session=\"2ddcd2172e287459b3a2ef81fec23c44\", element=\"ffb6c2c4-4f20-4d94-a63f-c0d702239d2a\")>,\n",
       " <selenium.webdriver.remote.webelement.WebElement (session=\"2ddcd2172e287459b3a2ef81fec23c44\", element=\"84235222-0003-4a72-bd4f-467ae7057724\")>,\n",
       " <selenium.webdriver.remote.webelement.WebElement (session=\"2ddcd2172e287459b3a2ef81fec23c44\", element=\"de77c922-037d-4b9b-bdf1-fd1819d5c4bf\")>,\n",
       " <selenium.webdriver.remote.webelement.WebElement (session=\"2ddcd2172e287459b3a2ef81fec23c44\", element=\"b0f47384-15df-453c-879f-6c524a2cac90\")>,\n",
       " <selenium.webdriver.remote.webelement.WebElement (session=\"2ddcd2172e287459b3a2ef81fec23c44\", element=\"dfd65b06-5b20-4f1f-83a7-4b9a330caf93\")>,\n",
       " <selenium.webdriver.remote.webelement.WebElement (session=\"2ddcd2172e287459b3a2ef81fec23c44\", element=\"9b851128-68e6-40ef-a4e5-d0d73b3e7ded\")>,\n",
       " <selenium.webdriver.remote.webelement.WebElement (session=\"2ddcd2172e287459b3a2ef81fec23c44\", element=\"ad4d9f1e-efdb-410c-bff0-1f921c3852dd\")>,\n",
       " <selenium.webdriver.remote.webelement.WebElement (session=\"2ddcd2172e287459b3a2ef81fec23c44\", element=\"98bd2da0-1866-4e89-a391-425c0ca173bb\")>]"
      ]
     },
     "execution_count": 207,
     "metadata": {},
     "output_type": "execute_result"
    }
   ],
   "source": [
    "rating_tags=driver_9.find_elements_by_xpath('//span[@class=\"body-small\"]')\n",
    "rating_tags"
   ]
  },
  {
   "cell_type": "code",
   "execution_count": 208,
   "id": "77a93a08",
   "metadata": {},
   "outputs": [
    {
     "data": {
      "text/plain": [
       "['4.0', '3.7', '4.0', '3.8', '4.1', '3.5', '3.6', '4.3', '3.7', '3.3']"
      ]
     },
     "execution_count": 208,
     "metadata": {},
     "output_type": "execute_result"
    }
   ],
   "source": [
    "for i in rating_tags:\n",
    "    ratings=i.text\n",
    "    rating.append(ratings)\n",
    "rating"
   ]
  },
  {
   "cell_type": "code",
   "execution_count": 211,
   "id": "a0c79efd",
   "metadata": {},
   "outputs": [
    {
     "name": "stdout",
     "output_type": "stream",
     "text": [
      "10 10 10\n"
     ]
    }
   ],
   "source": [
    "print(len(comp_names),len(no_of_days_posted),len(rating))"
   ]
  },
  {
   "cell_type": "code",
   "execution_count": 212,
   "id": "740fb861",
   "metadata": {},
   "outputs": [],
   "source": [
    "ds_ambition_box=pd.DataFrame({})\n",
    "ds_ambition_box['Company Name']=comp_names\n",
    "ds_ambition_box['No. of days ago when job was posted']=no_of_days_posted\n",
    "ds_ambition_box['Rating of the company']=rating"
   ]
  },
  {
   "cell_type": "code",
   "execution_count": 213,
   "id": "7a75b2cb",
   "metadata": {},
   "outputs": [
    {
     "data": {
      "text/html": [
       "<div>\n",
       "<style scoped>\n",
       "    .dataframe tbody tr th:only-of-type {\n",
       "        vertical-align: middle;\n",
       "    }\n",
       "\n",
       "    .dataframe tbody tr th {\n",
       "        vertical-align: top;\n",
       "    }\n",
       "\n",
       "    .dataframe thead th {\n",
       "        text-align: right;\n",
       "    }\n",
       "</style>\n",
       "<table border=\"1\" class=\"dataframe\">\n",
       "  <thead>\n",
       "    <tr style=\"text-align: right;\">\n",
       "      <th></th>\n",
       "      <th>Company Name</th>\n",
       "      <th>No. of days ago when job was posted</th>\n",
       "      <th>Rating of the company</th>\n",
       "    </tr>\n",
       "  </thead>\n",
       "  <tbody>\n",
       "    <tr>\n",
       "      <th>0</th>\n",
       "      <td>GENPACT India Private Limited</td>\n",
       "      <td>3d ago</td>\n",
       "      <td>4.0</td>\n",
       "    </tr>\n",
       "    <tr>\n",
       "      <th>1</th>\n",
       "      <td>Tech Mahindra Ltd</td>\n",
       "      <td>17d ago</td>\n",
       "      <td>3.7</td>\n",
       "    </tr>\n",
       "    <tr>\n",
       "      <th>2</th>\n",
       "      <td>GENPACT India Private Limited</td>\n",
       "      <td>20d ago</td>\n",
       "      <td>4.0</td>\n",
       "    </tr>\n",
       "    <tr>\n",
       "      <th>3</th>\n",
       "      <td>HCL Technologies</td>\n",
       "      <td>24d ago</td>\n",
       "      <td>3.8</td>\n",
       "    </tr>\n",
       "    <tr>\n",
       "      <th>4</th>\n",
       "      <td>Zyoin</td>\n",
       "      <td>2d ago</td>\n",
       "      <td>4.1</td>\n",
       "    </tr>\n",
       "    <tr>\n",
       "      <th>5</th>\n",
       "      <td>Newgen Software Technologies Ltd.</td>\n",
       "      <td>4d ago</td>\n",
       "      <td>3.5</td>\n",
       "    </tr>\n",
       "    <tr>\n",
       "      <th>6</th>\n",
       "      <td>JK Technosoft Ltd</td>\n",
       "      <td>13d ago</td>\n",
       "      <td>3.6</td>\n",
       "    </tr>\n",
       "    <tr>\n",
       "      <th>7</th>\n",
       "      <td>Microsoft India (R and D) Pvt Ltd</td>\n",
       "      <td>1mon ago</td>\n",
       "      <td>4.3</td>\n",
       "    </tr>\n",
       "    <tr>\n",
       "      <th>8</th>\n",
       "      <td>Paytm Payments Bank Limited</td>\n",
       "      <td>23d ago</td>\n",
       "      <td>3.7</td>\n",
       "    </tr>\n",
       "    <tr>\n",
       "      <th>9</th>\n",
       "      <td>Agreeya Solutions India Private Limited</td>\n",
       "      <td>27d ago</td>\n",
       "      <td>3.3</td>\n",
       "    </tr>\n",
       "  </tbody>\n",
       "</table>\n",
       "</div>"
      ],
      "text/plain": [
       "                              Company Name  \\\n",
       "0            GENPACT India Private Limited   \n",
       "1                        Tech Mahindra Ltd   \n",
       "2            GENPACT India Private Limited   \n",
       "3                         HCL Technologies   \n",
       "4                                    Zyoin   \n",
       "5        Newgen Software Technologies Ltd.   \n",
       "6                        JK Technosoft Ltd   \n",
       "7        Microsoft India (R and D) Pvt Ltd   \n",
       "8              Paytm Payments Bank Limited   \n",
       "9  Agreeya Solutions India Private Limited   \n",
       "\n",
       "  No. of days ago when job was posted Rating of the company  \n",
       "0                              3d ago                   4.0  \n",
       "1                             17d ago                   3.7  \n",
       "2                             20d ago                   4.0  \n",
       "3                             24d ago                   3.8  \n",
       "4                              2d ago                   4.1  \n",
       "5                              4d ago                   3.5  \n",
       "6                             13d ago                   3.6  \n",
       "7                            1mon ago                   4.3  \n",
       "8                             23d ago                   3.7  \n",
       "9                             27d ago                   3.3  "
      ]
     },
     "execution_count": 213,
     "metadata": {},
     "output_type": "execute_result"
    }
   ],
   "source": [
    "ds_ambition_box"
   ]
  },
  {
   "cell_type": "code",
   "execution_count": null,
   "id": "182f2786",
   "metadata": {},
   "outputs": [],
   "source": []
  },
  {
   "cell_type": "markdown",
   "id": "bb8b612c",
   "metadata": {},
   "source": [
    "Q10."
   ]
  },
  {
   "cell_type": "code",
   "execution_count": 214,
   "id": "b8a11e2d",
   "metadata": {},
   "outputs": [],
   "source": [
    "import selenium\n",
    "import pandas as pd\n",
    "from selenium import webdriver\n",
    "import warnings\n",
    "warnings.filterwarnings(\"ignore\")\n",
    "import time"
   ]
  },
  {
   "cell_type": "code",
   "execution_count": 215,
   "id": "7b40d9f3",
   "metadata": {},
   "outputs": [],
   "source": [
    "driver_10=webdriver.Chrome(r\"C:\\Users\\user\\Downloads\\chromedriver_win32\\chromedriver.exe\")"
   ]
  },
  {
   "cell_type": "code",
   "execution_count": 216,
   "id": "4e338c0e",
   "metadata": {},
   "outputs": [],
   "source": [
    "driver_10.get('https://www.ambitionbox.com/')"
   ]
  },
  {
   "cell_type": "code",
   "execution_count": 217,
   "id": "bf59ab52",
   "metadata": {},
   "outputs": [],
   "source": [
    "salaries_amb=driver_10.find_element_by_xpath('/html/body/div[1]/nav/nav/a[4]')\n",
    "salaries_amb.click()"
   ]
  },
  {
   "cell_type": "code",
   "execution_count": 218,
   "id": "44e773d3",
   "metadata": {},
   "outputs": [],
   "source": [
    "search_designation_sal=driver_10.find_element_by_xpath('/html/body/div/div/div/main/section[1]/div[2]/div[1]/span/input')\n",
    "search_designation_sal.send_keys(\"Data Scientist\")"
   ]
  },
  {
   "cell_type": "code",
   "execution_count": 219,
   "id": "789f8e76",
   "metadata": {},
   "outputs": [],
   "source": [
    "ds_sal=driver_10.find_element_by_xpath('//div[@class=\"suggestion_wrap tt-suggestion tt-selectable\"]')\n",
    "ds_sal.click()"
   ]
  },
  {
   "cell_type": "code",
   "execution_count": 221,
   "id": "b8b98cd8",
   "metadata": {},
   "outputs": [],
   "source": [
    "ds_comp_name=[]\n",
    "ds_total_sal_rcd=[]\n",
    "ds_exp_reqd=[]\n",
    "ds_avg_sal=[]\n",
    "ds_min_sal=[]\n",
    "ds_max_sal=[]"
   ]
  },
  {
   "cell_type": "code",
   "execution_count": 222,
   "id": "3d10b5df",
   "metadata": {},
   "outputs": [
    {
     "data": {
      "text/plain": [
       "[<selenium.webdriver.remote.webelement.WebElement (session=\"2f42ad259a11503d54b4b5fd030cb499\", element=\"6abfea56-d333-4ad3-9bd7-33c7d5d2a910\")>,\n",
       " <selenium.webdriver.remote.webelement.WebElement (session=\"2f42ad259a11503d54b4b5fd030cb499\", element=\"90a780c8-564f-4fba-baa9-feabbdcb5b2d\")>,\n",
       " <selenium.webdriver.remote.webelement.WebElement (session=\"2f42ad259a11503d54b4b5fd030cb499\", element=\"46132e45-394c-48ae-8e75-e8fd97e2a84a\")>,\n",
       " <selenium.webdriver.remote.webelement.WebElement (session=\"2f42ad259a11503d54b4b5fd030cb499\", element=\"75457fd3-f519-4b7b-9940-69a04b84e3a1\")>,\n",
       " <selenium.webdriver.remote.webelement.WebElement (session=\"2f42ad259a11503d54b4b5fd030cb499\", element=\"ca0a1929-1595-45f0-a750-d4a5b07afd41\")>,\n",
       " <selenium.webdriver.remote.webelement.WebElement (session=\"2f42ad259a11503d54b4b5fd030cb499\", element=\"6d1d4baf-9365-459e-974e-7193221c9caa\")>,\n",
       " <selenium.webdriver.remote.webelement.WebElement (session=\"2f42ad259a11503d54b4b5fd030cb499\", element=\"9629b087-dbb4-4233-8e15-50920f87e3ae\")>,\n",
       " <selenium.webdriver.remote.webelement.WebElement (session=\"2f42ad259a11503d54b4b5fd030cb499\", element=\"098088d6-dc68-4920-bb87-a02f1702c6bd\")>,\n",
       " <selenium.webdriver.remote.webelement.WebElement (session=\"2f42ad259a11503d54b4b5fd030cb499\", element=\"d0344764-1b2d-4615-be56-f128a357e927\")>,\n",
       " <selenium.webdriver.remote.webelement.WebElement (session=\"2f42ad259a11503d54b4b5fd030cb499\", element=\"919cb05f-0939-44bc-ad49-c84a3d431f93\")>]"
      ]
     },
     "execution_count": 222,
     "metadata": {},
     "output_type": "execute_result"
    }
   ],
   "source": [
    "dscomp_tags=driver_10.find_elements_by_xpath('//div[@class=\"name\"]/a')\n",
    "dscomp_tags"
   ]
  },
  {
   "cell_type": "code",
   "execution_count": 223,
   "id": "78454ea2",
   "metadata": {},
   "outputs": [
    {
     "data": {
      "text/plain": [
       "['Walmart',\n",
       " 'Ab Inbev',\n",
       " 'Reliance Jio',\n",
       " 'ZS',\n",
       " 'Optum',\n",
       " 'Fractal Analytics',\n",
       " 'Tiger Analytics',\n",
       " 'UnitedHealth',\n",
       " 'Verizon',\n",
       " 'Ganit Business Solutions']"
      ]
     },
     "execution_count": 223,
     "metadata": {},
     "output_type": "execute_result"
    }
   ],
   "source": [
    "for i in dscomp_tags:\n",
    "    ct1=i.text\n",
    "    ds_comp_name.append(ct1)\n",
    "ds_comp_name"
   ]
  },
  {
   "cell_type": "code",
   "execution_count": 224,
   "id": "8807e879",
   "metadata": {},
   "outputs": [
    {
     "data": {
      "text/plain": [
       "[<selenium.webdriver.remote.webelement.WebElement (session=\"2f42ad259a11503d54b4b5fd030cb499\", element=\"8a593d1f-ccae-45cb-911c-bf0a1ed01544\")>,\n",
       " <selenium.webdriver.remote.webelement.WebElement (session=\"2f42ad259a11503d54b4b5fd030cb499\", element=\"6957ef98-080a-4395-abc4-34552d6da352\")>,\n",
       " <selenium.webdriver.remote.webelement.WebElement (session=\"2f42ad259a11503d54b4b5fd030cb499\", element=\"5dae9dea-434e-4a06-98de-f82fb3d1eac5\")>,\n",
       " <selenium.webdriver.remote.webelement.WebElement (session=\"2f42ad259a11503d54b4b5fd030cb499\", element=\"c76af809-9df3-472c-aea5-b20fbdb2fa55\")>,\n",
       " <selenium.webdriver.remote.webelement.WebElement (session=\"2f42ad259a11503d54b4b5fd030cb499\", element=\"a2d0b996-1f86-41b5-8c23-57ce8146349c\")>,\n",
       " <selenium.webdriver.remote.webelement.WebElement (session=\"2f42ad259a11503d54b4b5fd030cb499\", element=\"c8f2d6e4-90ae-4757-ab5b-92a7825d0953\")>,\n",
       " <selenium.webdriver.remote.webelement.WebElement (session=\"2f42ad259a11503d54b4b5fd030cb499\", element=\"91a1f49a-6f49-4c59-a161-66b8c1380348\")>,\n",
       " <selenium.webdriver.remote.webelement.WebElement (session=\"2f42ad259a11503d54b4b5fd030cb499\", element=\"3f52be06-6796-4871-be40-d40529676832\")>,\n",
       " <selenium.webdriver.remote.webelement.WebElement (session=\"2f42ad259a11503d54b4b5fd030cb499\", element=\"a3678fe7-20c5-4fd5-b260-c0e3f5345d2b\")>,\n",
       " <selenium.webdriver.remote.webelement.WebElement (session=\"2f42ad259a11503d54b4b5fd030cb499\", element=\"8f680d36-8c5d-47c1-a0c2-91d729359b38\")>]"
      ]
     },
     "execution_count": 224,
     "metadata": {},
     "output_type": "execute_result"
    }
   ],
   "source": [
    "dstotalrec_tags=driver_10.find_elements_by_xpath('//div[@class=\"name\"]/span')\n",
    "dstotalrec_tags"
   ]
  },
  {
   "cell_type": "code",
   "execution_count": 225,
   "id": "a4a6cd85",
   "metadata": {},
   "outputs": [
    {
     "data": {
      "text/plain": [
       "['based on 11 salaries',\n",
       " 'based on 31 salaries',\n",
       " 'based on 10 salaries',\n",
       " 'based on 15 salaries',\n",
       " 'based on 28 salaries',\n",
       " 'based on 81 salaries',\n",
       " 'based on 46 salaries',\n",
       " 'based on 53 salaries',\n",
       " 'based on 14 salaries',\n",
       " 'based on 13 salaries']"
      ]
     },
     "execution_count": 225,
     "metadata": {},
     "output_type": "execute_result"
    }
   ],
   "source": [
    "for i in dstotalrec_tags:\n",
    "    tsr1=i.text\n",
    "    ds_total_sal_rcd.append(tsr1)\n",
    "ds_total_sal_rcd"
   ]
  },
  {
   "cell_type": "code",
   "execution_count": 226,
   "id": "5d50d3d9",
   "metadata": {},
   "outputs": [
    {
     "data": {
      "text/plain": [
       "[<selenium.webdriver.remote.webelement.WebElement (session=\"2f42ad259a11503d54b4b5fd030cb499\", element=\"b3ecb4b9-e85d-47e7-aa84-cc58f7200d53\")>,\n",
       " <selenium.webdriver.remote.webelement.WebElement (session=\"2f42ad259a11503d54b4b5fd030cb499\", element=\"d5be286f-0823-448f-b870-6025224384c7\")>,\n",
       " <selenium.webdriver.remote.webelement.WebElement (session=\"2f42ad259a11503d54b4b5fd030cb499\", element=\"2a1811b9-2275-4572-b37e-6c0a32e06868\")>,\n",
       " <selenium.webdriver.remote.webelement.WebElement (session=\"2f42ad259a11503d54b4b5fd030cb499\", element=\"1dd1150c-19b2-4630-9697-02c5fa3585c1\")>,\n",
       " <selenium.webdriver.remote.webelement.WebElement (session=\"2f42ad259a11503d54b4b5fd030cb499\", element=\"32291dd1-fa9a-4e82-a682-1b11330208ce\")>,\n",
       " <selenium.webdriver.remote.webelement.WebElement (session=\"2f42ad259a11503d54b4b5fd030cb499\", element=\"8fdab401-92a1-4b19-a72c-76054872150a\")>,\n",
       " <selenium.webdriver.remote.webelement.WebElement (session=\"2f42ad259a11503d54b4b5fd030cb499\", element=\"4d1f2e2f-0b29-4089-8c7f-3e42849e9308\")>,\n",
       " <selenium.webdriver.remote.webelement.WebElement (session=\"2f42ad259a11503d54b4b5fd030cb499\", element=\"e3bda0ab-4a1d-4042-a892-72f883e02bac\")>,\n",
       " <selenium.webdriver.remote.webelement.WebElement (session=\"2f42ad259a11503d54b4b5fd030cb499\", element=\"724c7c9f-c665-45bc-a8c3-9a733dc55ed0\")>,\n",
       " <selenium.webdriver.remote.webelement.WebElement (session=\"2f42ad259a11503d54b4b5fd030cb499\", element=\"f69649f7-0c90-407e-a776-7185b7c86ad8\")>]"
      ]
     },
     "execution_count": 226,
     "metadata": {},
     "output_type": "execute_result"
    }
   ],
   "source": [
    "dsexp_tags=driver_10.find_elements_by_xpath('//div[@class=\"salaries sbold-list-header\"]')\n",
    "dsexp_tags"
   ]
  },
  {
   "cell_type": "code",
   "execution_count": 227,
   "id": "baca3027",
   "metadata": {},
   "outputs": [
    {
     "data": {
      "text/plain": [
       "[['3', 'yrs', 'exp'],\n",
       " ['3-4', 'yrs', 'exp'],\n",
       " ['4', 'yrs', 'exp'],\n",
       " ['2', 'yrs', 'exp'],\n",
       " ['3-4', 'yrs', 'exp'],\n",
       " ['2-4', 'yrs', 'exp'],\n",
       " ['2-4', 'yrs', 'exp'],\n",
       " ['2-4', 'yrs', 'exp'],\n",
       " ['4', 'yrs', 'exp'],\n",
       " ['4', 'yrs', 'exp']]"
      ]
     },
     "execution_count": 227,
     "metadata": {},
     "output_type": "execute_result"
    }
   ],
   "source": [
    "desc_tag=[]\n",
    "for i in dsexp_tags:\n",
    "    exp1=i.text.split()[3:]\n",
    "    desc_tag.append(exp1)\n",
    "desc_tag"
   ]
  },
  {
   "cell_type": "code",
   "execution_count": 228,
   "id": "784dc561",
   "metadata": {},
   "outputs": [
    {
     "data": {
      "text/plain": [
       "[<selenium.webdriver.remote.webelement.WebElement (session=\"2f42ad259a11503d54b4b5fd030cb499\", element=\"48a8de03-f844-42f0-b307-633062ba6edb\")>,\n",
       " <selenium.webdriver.remote.webelement.WebElement (session=\"2f42ad259a11503d54b4b5fd030cb499\", element=\"4e464d02-aa5a-43e8-866d-35070e698b28\")>,\n",
       " <selenium.webdriver.remote.webelement.WebElement (session=\"2f42ad259a11503d54b4b5fd030cb499\", element=\"7fae7765-7ea6-4cc0-8bed-81042f00cf5b\")>,\n",
       " <selenium.webdriver.remote.webelement.WebElement (session=\"2f42ad259a11503d54b4b5fd030cb499\", element=\"cbb5750d-ede7-464d-bd2a-bfb30673a434\")>,\n",
       " <selenium.webdriver.remote.webelement.WebElement (session=\"2f42ad259a11503d54b4b5fd030cb499\", element=\"cb59c5a5-d43c-47b2-8947-8686cc831d63\")>,\n",
       " <selenium.webdriver.remote.webelement.WebElement (session=\"2f42ad259a11503d54b4b5fd030cb499\", element=\"00642510-38ff-42fb-ad71-fbbb8ff8bbe0\")>,\n",
       " <selenium.webdriver.remote.webelement.WebElement (session=\"2f42ad259a11503d54b4b5fd030cb499\", element=\"ceeb92e4-9ef1-4e63-9df6-131364b55fb8\")>,\n",
       " <selenium.webdriver.remote.webelement.WebElement (session=\"2f42ad259a11503d54b4b5fd030cb499\", element=\"df9b3789-a9a2-440d-99a2-ef92289d0cbd\")>,\n",
       " <selenium.webdriver.remote.webelement.WebElement (session=\"2f42ad259a11503d54b4b5fd030cb499\", element=\"a2ebeb42-24b6-48d7-8210-37b01c016548\")>,\n",
       " <selenium.webdriver.remote.webelement.WebElement (session=\"2f42ad259a11503d54b4b5fd030cb499\", element=\"4587725c-e830-4464-9300-d2c80032c23a\")>]"
      ]
     },
     "execution_count": 228,
     "metadata": {},
     "output_type": "execute_result"
    }
   ],
   "source": [
    "dsavg_tags=driver_10.find_elements_by_xpath('//div[@class=\"average-indicator-wrapper\"]/p')\n",
    "dsavg_tags"
   ]
  },
  {
   "cell_type": "code",
   "execution_count": 229,
   "id": "69a3a649",
   "metadata": {},
   "outputs": [
    {
     "data": {
      "text/plain": [
       "['₹ 29.7L',\n",
       " '₹ 20.5L',\n",
       " '₹ 18.9L',\n",
       " '₹ 15.9L',\n",
       " '₹ 15.4L',\n",
       " '₹ 15.1L',\n",
       " '₹ 14.8L',\n",
       " '₹ 14.0L',\n",
       " '₹ 12.7L',\n",
       " '₹ 12.4L']"
      ]
     },
     "execution_count": 229,
     "metadata": {},
     "output_type": "execute_result"
    }
   ],
   "source": [
    "for i in dsavg_tags:\n",
    "    avg1=i.text\n",
    "    ds_avg_sal.append(avg1)\n",
    "ds_avg_sal"
   ]
  },
  {
   "cell_type": "code",
   "execution_count": 230,
   "id": "c0d81f5f",
   "metadata": {},
   "outputs": [
    {
     "data": {
      "text/plain": [
       "[<selenium.webdriver.remote.webelement.WebElement (session=\"2f42ad259a11503d54b4b5fd030cb499\", element=\"4ce698fe-e8c6-40b4-b30f-495711a52dde\")>,\n",
       " <selenium.webdriver.remote.webelement.WebElement (session=\"2f42ad259a11503d54b4b5fd030cb499\", element=\"0e95cb4f-d35a-4309-8c12-b43a652d837a\")>,\n",
       " <selenium.webdriver.remote.webelement.WebElement (session=\"2f42ad259a11503d54b4b5fd030cb499\", element=\"ca91049f-485e-4d97-bbbb-a99529c01ac3\")>,\n",
       " <selenium.webdriver.remote.webelement.WebElement (session=\"2f42ad259a11503d54b4b5fd030cb499\", element=\"8cb725a1-57f2-4477-ba49-291a58e94ae0\")>,\n",
       " <selenium.webdriver.remote.webelement.WebElement (session=\"2f42ad259a11503d54b4b5fd030cb499\", element=\"7010e18d-c32a-4c8b-9272-e2b4da52bd63\")>,\n",
       " <selenium.webdriver.remote.webelement.WebElement (session=\"2f42ad259a11503d54b4b5fd030cb499\", element=\"ee1fe18a-0c6c-4148-919d-b62634e11b87\")>,\n",
       " <selenium.webdriver.remote.webelement.WebElement (session=\"2f42ad259a11503d54b4b5fd030cb499\", element=\"0f89f0a4-7fd3-4d80-ad47-b5b78939e044\")>,\n",
       " <selenium.webdriver.remote.webelement.WebElement (session=\"2f42ad259a11503d54b4b5fd030cb499\", element=\"4a968702-9797-4438-9dd2-2f59d9be154b\")>,\n",
       " <selenium.webdriver.remote.webelement.WebElement (session=\"2f42ad259a11503d54b4b5fd030cb499\", element=\"5bfd8053-8daa-4de6-af92-0887d02136df\")>,\n",
       " <selenium.webdriver.remote.webelement.WebElement (session=\"2f42ad259a11503d54b4b5fd030cb499\", element=\"065ed603-a125-4803-92ad-1c4275a3441d\")>,\n",
       " <selenium.webdriver.remote.webelement.WebElement (session=\"2f42ad259a11503d54b4b5fd030cb499\", element=\"a54038ec-29f5-49ce-b5e8-40b5eece2f38\")>,\n",
       " <selenium.webdriver.remote.webelement.WebElement (session=\"2f42ad259a11503d54b4b5fd030cb499\", element=\"e2690d87-e572-495c-9546-bca5d83bfeba\")>,\n",
       " <selenium.webdriver.remote.webelement.WebElement (session=\"2f42ad259a11503d54b4b5fd030cb499\", element=\"c7565273-de52-4a5e-822e-db8643cad1a3\")>,\n",
       " <selenium.webdriver.remote.webelement.WebElement (session=\"2f42ad259a11503d54b4b5fd030cb499\", element=\"d80ec10e-10a1-4b20-867a-9b5d16314cc8\")>,\n",
       " <selenium.webdriver.remote.webelement.WebElement (session=\"2f42ad259a11503d54b4b5fd030cb499\", element=\"f6199435-b3d4-401a-99ee-4570fd7a001a\")>,\n",
       " <selenium.webdriver.remote.webelement.WebElement (session=\"2f42ad259a11503d54b4b5fd030cb499\", element=\"e2482287-1e60-4520-a77b-11dd9d0acc78\")>,\n",
       " <selenium.webdriver.remote.webelement.WebElement (session=\"2f42ad259a11503d54b4b5fd030cb499\", element=\"d6a0d51b-a9bb-4922-8a23-e356092ad43d\")>,\n",
       " <selenium.webdriver.remote.webelement.WebElement (session=\"2f42ad259a11503d54b4b5fd030cb499\", element=\"4b2a45be-d466-407b-86cc-d9f1e00c5f70\")>,\n",
       " <selenium.webdriver.remote.webelement.WebElement (session=\"2f42ad259a11503d54b4b5fd030cb499\", element=\"fce9cace-e113-4e84-8cc5-9c7312c198bc\")>,\n",
       " <selenium.webdriver.remote.webelement.WebElement (session=\"2f42ad259a11503d54b4b5fd030cb499\", element=\"d0ac1c4b-c09a-4897-b4ab-d4928276cc9f\")>]"
      ]
     },
     "execution_count": 230,
     "metadata": {},
     "output_type": "execute_result"
    }
   ],
   "source": [
    "ds_minmax_tags=driver_10.find_elements_by_xpath('//div[@class=\"value body-medium\"]')\n",
    "ds_minmax_tags"
   ]
  },
  {
   "cell_type": "code",
   "execution_count": 231,
   "id": "28ccbb6d",
   "metadata": {},
   "outputs": [
    {
     "data": {
      "text/plain": [
       "20"
      ]
     },
     "execution_count": 231,
     "metadata": {},
     "output_type": "execute_result"
    }
   ],
   "source": [
    "len(ds_minmax_tags)"
   ]
  },
  {
   "cell_type": "code",
   "execution_count": 232,
   "id": "c12fd2b5",
   "metadata": {},
   "outputs": [
    {
     "data": {
      "text/plain": [
       "[['₹', '25.0L'],\n",
       " ['₹', '15.0L'],\n",
       " ['₹', '5.6L'],\n",
       " ['₹', '9.8L'],\n",
       " ['₹', '11.0L'],\n",
       " ['₹', '9.5L'],\n",
       " ['₹', '9.0L'],\n",
       " ['₹', '8.3L'],\n",
       " ['₹', '10.0L'],\n",
       " ['₹', '8.5L']]"
      ]
     },
     "execution_count": 232,
     "metadata": {},
     "output_type": "execute_result"
    }
   ],
   "source": [
    "min_sal=[]\n",
    "for i in ds_minmax_tags:\n",
    "    min_1=i.text.split()\n",
    "    min_sal.append(min_1)\n",
    "min_sal\n",
    "\n",
    "for i in range(0,len(min_sal),2):\n",
    "    ds_min_sal.append(min_sal[i])\n",
    "ds_min_sal"
   ]
  },
  {
   "cell_type": "code",
   "execution_count": 233,
   "id": "b5d56a59",
   "metadata": {},
   "outputs": [
    {
     "data": {
      "text/plain": [
       "[['₹', '35.0L'],\n",
       " ['₹', '25.5L'],\n",
       " ['₹', '26.2L'],\n",
       " ['₹', '20.0L'],\n",
       " ['₹', '22.4L'],\n",
       " ['₹', '22.0L'],\n",
       " ['₹', '20.0L'],\n",
       " ['₹', '20.5L'],\n",
       " ['₹', '21.0L'],\n",
       " ['₹', '15.0L']]"
      ]
     },
     "execution_count": 233,
     "metadata": {},
     "output_type": "execute_result"
    }
   ],
   "source": [
    "max_sal=[]\n",
    "for i in ds_minmax_tags:\n",
    "    max_1=i.text.split()\n",
    "    max_sal.append(max_1)\n",
    "max_sal\n",
    "\n",
    "for i in range(1,len(max_sal),2):\n",
    "    ds_max_sal.append(max_sal[i])\n",
    "ds_max_sal"
   ]
  },
  {
   "cell_type": "code",
   "execution_count": 235,
   "id": "7163c42d",
   "metadata": {},
   "outputs": [
    {
     "name": "stdout",
     "output_type": "stream",
     "text": [
      "10 10 10 10 10 10\n"
     ]
    }
   ],
   "source": [
    "print(len(ds_comp_name),len(ds_total_sal_rcd),len(desc_tag),len(ds_avg_sal),len(ds_min_sal),len(ds_max_sal))"
   ]
  },
  {
   "cell_type": "code",
   "execution_count": 236,
   "id": "4a842cf4",
   "metadata": {},
   "outputs": [],
   "source": [
    "salary_data_scientist_ambitionbox=pd.DataFrame({})\n",
    "salary_data_scientist_ambitionbox['Company Name']=ds_comp_name\n",
    "salary_data_scientist_ambitionbox['Total Salary Record']=ds_total_sal_rcd\n",
    "salary_data_scientist_ambitionbox['Experience Required']=desc_tag\n",
    "salary_data_scientist_ambitionbox['Average Salary']=ds_avg_sal\n",
    "salary_data_scientist_ambitionbox['Minimum Salary']=ds_min_sal\n",
    "salary_data_scientist_ambitionbox['Maximum Salary']=ds_max_sal"
   ]
  },
  {
   "cell_type": "code",
   "execution_count": 237,
   "id": "f8b4f923",
   "metadata": {},
   "outputs": [
    {
     "data": {
      "text/html": [
       "<div>\n",
       "<style scoped>\n",
       "    .dataframe tbody tr th:only-of-type {\n",
       "        vertical-align: middle;\n",
       "    }\n",
       "\n",
       "    .dataframe tbody tr th {\n",
       "        vertical-align: top;\n",
       "    }\n",
       "\n",
       "    .dataframe thead th {\n",
       "        text-align: right;\n",
       "    }\n",
       "</style>\n",
       "<table border=\"1\" class=\"dataframe\">\n",
       "  <thead>\n",
       "    <tr style=\"text-align: right;\">\n",
       "      <th></th>\n",
       "      <th>Company Name</th>\n",
       "      <th>Total Salary Record</th>\n",
       "      <th>Experience Required</th>\n",
       "      <th>Average Salary</th>\n",
       "      <th>Minimum Salary</th>\n",
       "      <th>Maximum Salary</th>\n",
       "    </tr>\n",
       "  </thead>\n",
       "  <tbody>\n",
       "    <tr>\n",
       "      <th>0</th>\n",
       "      <td>Walmart</td>\n",
       "      <td>based on 11 salaries</td>\n",
       "      <td>[3, yrs, exp]</td>\n",
       "      <td>₹ 29.7L</td>\n",
       "      <td>[₹, 25.0L]</td>\n",
       "      <td>[₹, 35.0L]</td>\n",
       "    </tr>\n",
       "    <tr>\n",
       "      <th>1</th>\n",
       "      <td>Ab Inbev</td>\n",
       "      <td>based on 31 salaries</td>\n",
       "      <td>[3-4, yrs, exp]</td>\n",
       "      <td>₹ 20.5L</td>\n",
       "      <td>[₹, 15.0L]</td>\n",
       "      <td>[₹, 25.5L]</td>\n",
       "    </tr>\n",
       "    <tr>\n",
       "      <th>2</th>\n",
       "      <td>Reliance Jio</td>\n",
       "      <td>based on 10 salaries</td>\n",
       "      <td>[4, yrs, exp]</td>\n",
       "      <td>₹ 18.9L</td>\n",
       "      <td>[₹, 5.6L]</td>\n",
       "      <td>[₹, 26.2L]</td>\n",
       "    </tr>\n",
       "    <tr>\n",
       "      <th>3</th>\n",
       "      <td>ZS</td>\n",
       "      <td>based on 15 salaries</td>\n",
       "      <td>[2, yrs, exp]</td>\n",
       "      <td>₹ 15.9L</td>\n",
       "      <td>[₹, 9.8L]</td>\n",
       "      <td>[₹, 20.0L]</td>\n",
       "    </tr>\n",
       "    <tr>\n",
       "      <th>4</th>\n",
       "      <td>Optum</td>\n",
       "      <td>based on 28 salaries</td>\n",
       "      <td>[3-4, yrs, exp]</td>\n",
       "      <td>₹ 15.4L</td>\n",
       "      <td>[₹, 11.0L]</td>\n",
       "      <td>[₹, 22.4L]</td>\n",
       "    </tr>\n",
       "    <tr>\n",
       "      <th>5</th>\n",
       "      <td>Fractal Analytics</td>\n",
       "      <td>based on 81 salaries</td>\n",
       "      <td>[2-4, yrs, exp]</td>\n",
       "      <td>₹ 15.1L</td>\n",
       "      <td>[₹, 9.5L]</td>\n",
       "      <td>[₹, 22.0L]</td>\n",
       "    </tr>\n",
       "    <tr>\n",
       "      <th>6</th>\n",
       "      <td>Tiger Analytics</td>\n",
       "      <td>based on 46 salaries</td>\n",
       "      <td>[2-4, yrs, exp]</td>\n",
       "      <td>₹ 14.8L</td>\n",
       "      <td>[₹, 9.0L]</td>\n",
       "      <td>[₹, 20.0L]</td>\n",
       "    </tr>\n",
       "    <tr>\n",
       "      <th>7</th>\n",
       "      <td>UnitedHealth</td>\n",
       "      <td>based on 53 salaries</td>\n",
       "      <td>[2-4, yrs, exp]</td>\n",
       "      <td>₹ 14.0L</td>\n",
       "      <td>[₹, 8.3L]</td>\n",
       "      <td>[₹, 20.5L]</td>\n",
       "    </tr>\n",
       "    <tr>\n",
       "      <th>8</th>\n",
       "      <td>Verizon</td>\n",
       "      <td>based on 14 salaries</td>\n",
       "      <td>[4, yrs, exp]</td>\n",
       "      <td>₹ 12.7L</td>\n",
       "      <td>[₹, 10.0L]</td>\n",
       "      <td>[₹, 21.0L]</td>\n",
       "    </tr>\n",
       "    <tr>\n",
       "      <th>9</th>\n",
       "      <td>Ganit Business Solutions</td>\n",
       "      <td>based on 13 salaries</td>\n",
       "      <td>[4, yrs, exp]</td>\n",
       "      <td>₹ 12.4L</td>\n",
       "      <td>[₹, 8.5L]</td>\n",
       "      <td>[₹, 15.0L]</td>\n",
       "    </tr>\n",
       "  </tbody>\n",
       "</table>\n",
       "</div>"
      ],
      "text/plain": [
       "               Company Name   Total Salary Record Experience Required  \\\n",
       "0                   Walmart  based on 11 salaries       [3, yrs, exp]   \n",
       "1                  Ab Inbev  based on 31 salaries     [3-4, yrs, exp]   \n",
       "2              Reliance Jio  based on 10 salaries       [4, yrs, exp]   \n",
       "3                        ZS  based on 15 salaries       [2, yrs, exp]   \n",
       "4                     Optum  based on 28 salaries     [3-4, yrs, exp]   \n",
       "5         Fractal Analytics  based on 81 salaries     [2-4, yrs, exp]   \n",
       "6           Tiger Analytics  based on 46 salaries     [2-4, yrs, exp]   \n",
       "7              UnitedHealth  based on 53 salaries     [2-4, yrs, exp]   \n",
       "8                   Verizon  based on 14 salaries       [4, yrs, exp]   \n",
       "9  Ganit Business Solutions  based on 13 salaries       [4, yrs, exp]   \n",
       "\n",
       "  Average Salary Minimum Salary Maximum Salary  \n",
       "0        ₹ 29.7L     [₹, 25.0L]     [₹, 35.0L]  \n",
       "1        ₹ 20.5L     [₹, 15.0L]     [₹, 25.5L]  \n",
       "2        ₹ 18.9L      [₹, 5.6L]     [₹, 26.2L]  \n",
       "3        ₹ 15.9L      [₹, 9.8L]     [₹, 20.0L]  \n",
       "4        ₹ 15.4L     [₹, 11.0L]     [₹, 22.4L]  \n",
       "5        ₹ 15.1L      [₹, 9.5L]     [₹, 22.0L]  \n",
       "6        ₹ 14.8L      [₹, 9.0L]     [₹, 20.0L]  \n",
       "7        ₹ 14.0L      [₹, 8.3L]     [₹, 20.5L]  \n",
       "8        ₹ 12.7L     [₹, 10.0L]     [₹, 21.0L]  \n",
       "9        ₹ 12.4L      [₹, 8.5L]     [₹, 15.0L]  "
      ]
     },
     "execution_count": 237,
     "metadata": {},
     "output_type": "execute_result"
    }
   ],
   "source": [
    "salary_data_scientist_ambitionbox"
   ]
  },
  {
   "cell_type": "code",
   "execution_count": null,
   "id": "655f7de9",
   "metadata": {},
   "outputs": [],
   "source": []
  }
 ],
 "metadata": {
  "kernelspec": {
   "display_name": "Python 3",
   "language": "python",
   "name": "python3"
  },
  "language_info": {
   "codemirror_mode": {
    "name": "ipython",
    "version": 3
   },
   "file_extension": ".py",
   "mimetype": "text/x-python",
   "name": "python",
   "nbconvert_exporter": "python",
   "pygments_lexer": "ipython3",
   "version": "3.8.8"
  }
 },
 "nbformat": 4,
 "nbformat_minor": 5
}
