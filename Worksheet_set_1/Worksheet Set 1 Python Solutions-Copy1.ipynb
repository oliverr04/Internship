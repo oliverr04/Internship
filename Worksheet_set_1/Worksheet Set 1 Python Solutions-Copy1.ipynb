{
 "cells": [
  {
   "cell_type": "markdown",
   "id": "232105c6",
   "metadata": {},
   "source": [
    "Q11. Factorial of a number"
   ]
  },
  {
   "cell_type": "code",
   "execution_count": 1,
   "id": "fc20e416",
   "metadata": {},
   "outputs": [
    {
     "name": "stdout",
     "output_type": "stream",
     "text": [
      "Input a number to compute factorial: 5\n",
      "120\n"
     ]
    }
   ],
   "source": [
    "def factorial(n):\n",
    "    if n==0:\n",
    "        return 1\n",
    "    else:\n",
    "        return n * factorial(n-1)\n",
    "n=int(input(\"Input a number to compute factorial: \"))\n",
    "print (factorial(n))"
   ]
  },
  {
   "cell_type": "markdown",
   "id": "8a1fc2ae",
   "metadata": {},
   "source": [
    "Q12. Whether a number is prime or composite"
   ]
  },
  {
   "cell_type": "code",
   "execution_count": 2,
   "id": "d42d0e9f",
   "metadata": {},
   "outputs": [
    {
     "name": "stdout",
     "output_type": "stream",
     "text": [
      "Enter a number : 13\n",
      "13 is a PRIME number\n"
     ]
    }
   ],
   "source": [
    "number = int(input(\"Enter a number : \"))\n",
    "if number > 1:\n",
    "    for i in range(2, number):\n",
    "        if (number % i) == 0:\n",
    "            print(number, \"is a COMPOSITE number\")\n",
    "            break\n",
    "    else:\n",
    "        print(number, \"is a PRIME number\")"
   ]
  },
  {
   "cell_type": "code",
   "execution_count": 3,
   "id": "399b5594",
   "metadata": {},
   "outputs": [
    {
     "name": "stdout",
     "output_type": "stream",
     "text": [
      "Enter a number : 44\n",
      "44 is a COMPOSITE number\n"
     ]
    }
   ],
   "source": [
    "number = int(input(\"Enter a number : \"))\n",
    "if number > 1:\n",
    "    for i in range(2, number):\n",
    "        if (number % i) == 0:\n",
    "            print(number, \"is a COMPOSITE number\")\n",
    "            break\n",
    "    else:\n",
    "        print(number, \"is a PRIME number\")"
   ]
  },
  {
   "cell_type": "markdown",
   "id": "d2c57462",
   "metadata": {},
   "source": [
    "Q13. Whether a given string is a palindrome or not"
   ]
  },
  {
   "cell_type": "code",
   "execution_count": 4,
   "id": "57711a22",
   "metadata": {},
   "outputs": [
    {
     "name": "stdout",
     "output_type": "stream",
     "text": [
      "Yes, it is a palindrome\n"
     ]
    }
   ],
   "source": [
    "def Palindrome(str):\n",
    "    for i in range(0,int(len(str)/2)):\n",
    "        if str[i]!=str[len(str)-i-1]:\n",
    "            return False\n",
    "    return True\n",
    "w=\"refer\"\n",
    "o=Palindrome(w)\n",
    "\n",
    "if (o):\n",
    "    print(\"Yes, it is a palindrome\")\n",
    "else:\n",
    "    print(\"Not a palindrome\")"
   ]
  },
  {
   "cell_type": "code",
   "execution_count": 5,
   "id": "4aef2505",
   "metadata": {},
   "outputs": [
    {
     "name": "stdout",
     "output_type": "stream",
     "text": [
      "Not a palindrome\n"
     ]
    }
   ],
   "source": [
    "def Palindrome(str):\n",
    "    for i in range(0,int(len(str)/2)):\n",
    "        if str[i]!=str[len(str)-i-1]:\n",
    "            return False\n",
    "    return True\n",
    "x=\"magic\"\n",
    "y=Palindrome(x)\n",
    "\n",
    "if (y):\n",
    "    print(\"Yes, it is a palindrome\")\n",
    "else:\n",
    "    print(\"Not a palindrome\")"
   ]
  },
  {
   "cell_type": "markdown",
   "id": "017937ec",
   "metadata": {},
   "source": [
    "Q14. To get the third side of a right-angled triangle from two given sides"
   ]
  },
  {
   "cell_type": "code",
   "execution_count": 6,
   "id": "e645565b",
   "metadata": {},
   "outputs": [],
   "source": [
    "def right_angle_triangle_function():\n",
    "    a=int(input(\"Enter value of side a \"))\n",
    "    b=int(input(\"Enter value of side b \"))\n",
    "    c=str(((a**2)+(b**2))**0.5)\n",
    "    return c"
   ]
  },
  {
   "cell_type": "code",
   "execution_count": 7,
   "id": "9a616ac3",
   "metadata": {},
   "outputs": [
    {
     "name": "stdout",
     "output_type": "stream",
     "text": [
      "Enter value of side a 4\n",
      "Enter value of side b 5\n"
     ]
    },
    {
     "data": {
      "text/plain": [
       "'6.4031242374328485'"
      ]
     },
     "execution_count": 7,
     "metadata": {},
     "output_type": "execute_result"
    }
   ],
   "source": [
    "rt=right_angle_triangle_function()\n",
    "rt"
   ]
  },
  {
   "cell_type": "markdown",
   "id": "1123d156",
   "metadata": {},
   "source": [
    "Q15. Frequency of each character present in a string"
   ]
  },
  {
   "cell_type": "code",
   "execution_count": 8,
   "id": "9730078a",
   "metadata": {},
   "outputs": [
    {
     "name": "stdout",
     "output_type": "stream",
     "text": [
      "The frequency of characters is :\n",
      " {'D': 1, 'a': 2, 't': 1, ' ': 1, 'S': 1, 'c': 2, 'i': 1, 'e': 2, 'n': 1}\n"
     ]
    }
   ],
   "source": [
    "str_1=\"Data Science\"\n",
    "freq={}\n",
    "for i in str_1:\n",
    "    if i in freq:\n",
    "        freq[i]+=1\n",
    "    else:\n",
    "        freq[i]=1\n",
    "print('The frequency of characters is :\\n',str(freq))"
   ]
  },
  {
   "cell_type": "code",
   "execution_count": null,
   "id": "146dcf74",
   "metadata": {},
   "outputs": [],
   "source": []
  }
 ],
 "metadata": {
  "kernelspec": {
   "display_name": "Python 3",
   "language": "python",
   "name": "python3"
  },
  "language_info": {
   "codemirror_mode": {
    "name": "ipython",
    "version": 3
   },
   "file_extension": ".py",
   "mimetype": "text/x-python",
   "name": "python",
   "nbconvert_exporter": "python",
   "pygments_lexer": "ipython3",
   "version": "3.8.8"
  }
 },
 "nbformat": 4,
 "nbformat_minor": 5
}
